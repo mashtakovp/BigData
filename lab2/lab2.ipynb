{
 "cells": [
  {
   "cell_type": "code",
   "execution_count": 1,
   "id": "4d740da6-038a-4db0-ac5d-190bf072473e",
   "metadata": {},
   "outputs": [],
   "source": [
    "import pyspark\n",
    "import os\n",
    "import warnings\n",
    "warnings.filterwarnings('ignore')\n",
    "from datetime import datetime\n",
    "from pyspark.sql.functions import col\n",
    "from pyspark.sql import SparkSession\n",
    "from pyspark import SparkContext, SparkConf\n",
    "from pyspark.sql.types import StructType, StructField, StringType, DateType"
   ]
  },
  {
   "cell_type": "code",
   "execution_count": 2,
   "id": "ce35771d-d8b0-48fc-84aa-2caa08565116",
   "metadata": {},
   "outputs": [
    {
     "name": "stderr",
     "output_type": "stream",
     "text": [
      "24/03/28 14:18:53 WARN Utils: Your hostname, pavel-virtual-machine resolves to a loopback address: 127.0.1.1; using 192.168.70.130 instead (on interface ens33)\n",
      "24/03/28 14:18:53 WARN Utils: Set SPARK_LOCAL_IP if you need to bind to another address\n",
      "Ivy Default Cache set to: /home/pavel/.ivy2/cache\n",
      "The jars for the packages stored in: /home/pavel/.ivy2/jars\n",
      ":: loading settings :: url = jar:file:/opt/spark/jars/ivy-2.4.0.jar!/org/apache/ivy/core/settings/ivysettings.xml\n",
      "com.databricks#spark-xml_2.12 added as a dependency\n",
      ":: resolving dependencies :: org.apache.spark#spark-submit-parent-39c6ecf0-59bb-40a5-a4cf-315346c6e001;1.0\n",
      "\tconfs: [default]\n",
      "\tfound com.databricks#spark-xml_2.12;0.13.0 in central\n",
      "\tfound commons-io#commons-io;2.8.0 in central\n",
      "\tfound org.glassfish.jaxb#txw2;2.3.4 in central\n",
      "\tfound org.apache.ws.xmlschema#xmlschema-core;2.2.5 in central\n",
      ":: resolution report :: resolve 637ms :: artifacts dl 26ms\n",
      "\t:: modules in use:\n",
      "\tcom.databricks#spark-xml_2.12;0.13.0 from central in [default]\n",
      "\tcommons-io#commons-io;2.8.0 from central in [default]\n",
      "\torg.apache.ws.xmlschema#xmlschema-core;2.2.5 from central in [default]\n",
      "\torg.glassfish.jaxb#txw2;2.3.4 from central in [default]\n",
      "\t---------------------------------------------------------------------\n",
      "\t|                  |            modules            ||   artifacts   |\n",
      "\t|       conf       | number| search|dwnlded|evicted|| number|dwnlded|\n",
      "\t---------------------------------------------------------------------\n",
      "\t|      default     |   4   |   0   |   0   |   0   ||   4   |   0   |\n",
      "\t---------------------------------------------------------------------\n",
      ":: retrieving :: org.apache.spark#spark-submit-parent-39c6ecf0-59bb-40a5-a4cf-315346c6e001\n",
      "\tconfs: [default]\n",
      "\t0 artifacts copied, 4 already retrieved (0kB/11ms)\n",
      "24/03/28 14:18:55 WARN NativeCodeLoader: Unable to load native-hadoop library for your platform... using builtin-java classes where applicable\n",
      "Using Spark's default log4j profile: org/apache/spark/log4j-defaults.properties\n",
      "Setting default log level to \"WARN\".\n",
      "To adjust logging level use sc.setLogLevel(newLevel). For SparkR, use setLogLevel(newLevel).\n",
      "24/03/28 14:18:57 WARN Utils: Service 'SparkUI' could not bind on port 4040. Attempting port 4041.\n"
     ]
    },
    {
     "data": {
      "text/html": [
       "\n",
       "            <div>\n",
       "                <p><b>SparkSession - in-memory</b></p>\n",
       "                \n",
       "        <div>\n",
       "            <p><b>SparkContext</b></p>\n",
       "\n",
       "            <p><a href=\"http://192.168.70.130:4041\">Spark UI</a></p>\n",
       "\n",
       "            <dl>\n",
       "              <dt>Version</dt>\n",
       "                <dd><code>v3.0.0</code></dd>\n",
       "              <dt>Master</dt>\n",
       "                <dd><code>local[*]</code></dd>\n",
       "              <dt>AppName</dt>\n",
       "                <dd><code>l2</code></dd>\n",
       "            </dl>\n",
       "        </div>\n",
       "        \n",
       "            </div>\n",
       "        "
      ],
      "text/plain": [
       "<pyspark.sql.session.SparkSession at 0x7457ab76c370>"
      ]
     },
     "execution_count": 2,
     "metadata": {},
     "output_type": "execute_result"
    }
   ],
   "source": [
    "os.environ['PYSPARK_SUBMIT_ARGS'] = '--packages com.databricks:spark-xml_2.12:0.13.0 pyspark-shell'\n",
    "ss = SparkSession.builder.appName(\"l2\").master(\"local[*]\").getOrCreate()\n",
    "ss\n",
    "\n"
   ]
  },
  {
   "cell_type": "code",
   "execution_count": 3,
   "id": "74d2f8d2-3459-46bc-adfe-540b25340512",
   "metadata": {},
   "outputs": [
    {
     "name": "stderr",
     "output_type": "stream",
     "text": [
      "                                                                                \r"
     ]
    },
    {
     "data": {
      "text/plain": [
       "['name', 'A# .NET', 'A# (Axiom)', 'A-0 System', 'A+']"
      ]
     },
     "execution_count": 3,
     "metadata": {},
     "output_type": "execute_result"
    }
   ],
   "source": [
    "read_csv = ss.read.csv(\"programming-languages.csv\")\n",
    "csv_list = [str(x[0]) for x in read_csv.collect()]\n",
    "csv_list[:5]"
   ]
  },
  {
   "cell_type": "code",
   "execution_count": 4,
   "id": "a334d1fe-3555-4b16-9939-61be5e630cbb",
   "metadata": {},
   "outputs": [
    {
     "name": "stderr",
     "output_type": "stream",
     "text": [
      "                                                                                \r"
     ]
    },
    {
     "data": {
      "text/plain": [
       "[Row(_AcceptedAnswerId=7, _AnswerCount=13, _Body=\"<p>I want to use a track-bar to change a form's opacity.</p>\\n\\n<p>This is my code:</p>\\n\\n<pre><code>decimal trans = trackBar1.Value / 5000;\\nthis.Opacity = trans;\\n</code></pre>\\n\\n<p>When I build the application, it gives the following error:</p>\\n\\n<blockquote>\\n  <p>Cannot implicitly convert type <code>'decimal'</code> to <code>'double'</code></p>\\n</blockquote>\\n\\n<p>I tried using <code>trans</code> and <code>double</code> but then the control doesn't work. This code worked fine in a past VB.NET project.</p>\\n\", _ClosedDate=None, _CommentCount=2, _CommunityOwnedDate=datetime.datetime(2012, 10, 31, 20, 42, 47, 213000), _CreationDate=datetime.datetime(2008, 8, 1, 2, 42, 52, 667000), _FavoriteCount=48, _Id=4, _LastActivityDate=datetime.datetime(2019, 7, 19, 5, 39, 54, 173000), _LastEditDate=datetime.datetime(2019, 7, 19, 5, 39, 54, 173000), _LastEditorDisplayName='Rich B', _LastEditorUserId=3641067, _OwnerDisplayName=None, _OwnerUserId=8, _ParentId=None, _PostTypeId=1, _Score=630, _Tags='<c#><floating-point><type-conversion><double><decimal>', _Title='Convert Decimal to Double?', _ViewCount=42817),\n",
       " Row(_AcceptedAnswerId=31, _AnswerCount=6, _Body=\"<p>I have an absolutely positioned <code>div</code> containing several children, one of which is a relatively positioned <code>div</code>. When I use a <code>percentage-based width</code> on the child <code>div</code>, it collapses to <code>0 width</code> on IE7, but not on Firefox or Safari.</p>\\n\\n<p>If I use <code>pixel width</code>, it works. If the parent is relatively positioned, the percentage width on the child works.</p>\\n\\n<ol>\\n<li>Is there something I'm missing here?</li>\\n<li>Is there an easy fix for this besides the <code>pixel-based width</code> on the\\nchild?</li>\\n<li>Is there an area of the CSS specification that covers this?</li>\\n</ol>\\n\", _ClosedDate=None, _CommentCount=0, _CommunityOwnedDate=None, _CreationDate=datetime.datetime(2008, 8, 1, 3, 8, 8, 620000), _FavoriteCount=10, _Id=6, _LastActivityDate=datetime.datetime(2019, 7, 19, 5, 43, 4, 77000), _LastEditDate=datetime.datetime(2019, 7, 19, 5, 43, 4, 77000), _LastEditorDisplayName='Rich B', _LastEditorUserId=3641067, _OwnerDisplayName=None, _OwnerUserId=9, _ParentId=None, _PostTypeId=1, _Score=281, _Tags='<html><css><internet-explorer-7>', _Title='Percentage width child element in absolutely positioned parent on Internet Explorer 7', _ViewCount=18214),\n",
       " Row(_AcceptedAnswerId=None, _AnswerCount=None, _Body=\"<p>An explicit cast to double like this isn't necessary:</p>\\n\\n<pre><code>double trans = (double) trackBar1.Value / 5000.0;\\n</code></pre>\\n\\n<p>Identifying the constant as <code>5000.0</code> (or as <code>5000d</code>) is sufficient:</p>\\n\\n<pre><code>double trans = trackBar1.Value / 5000.0;\\ndouble trans = trackBar1.Value / 5000d;\\n</code></pre>\\n\", _ClosedDate=None, _CommentCount=0, _CommunityOwnedDate=None, _CreationDate=datetime.datetime(2008, 8, 1, 3, 17, 57, 883000), _FavoriteCount=None, _Id=7, _LastActivityDate=datetime.datetime(2017, 12, 16, 9, 6, 57, 613000), _LastEditDate=datetime.datetime(2017, 12, 16, 9, 6, 57, 613000), _LastEditorDisplayName=None, _LastEditorUserId=4020527, _OwnerDisplayName=None, _OwnerUserId=9, _ParentId=4, _PostTypeId=2, _Score=425, _Tags=None, _Title=None, _ViewCount=None),\n",
       " Row(_AcceptedAnswerId=1404, _AnswerCount=63, _Body=\"<p>Given a <code>DateTime</code> representing a person's birthday, how do I calculate their age in years?  </p>\\n\", _ClosedDate=None, _CommentCount=5, _CommunityOwnedDate=datetime.datetime(2011, 8, 16, 23, 40, 43, 80000), _CreationDate=datetime.datetime(2008, 8, 1, 4, 40, 59, 743000), _FavoriteCount=436, _Id=9, _LastActivityDate=datetime.datetime(2019, 6, 26, 19, 25, 44, 253000), _LastEditDate=datetime.datetime(2018, 4, 21, 21, 48, 14, 477000), _LastEditorDisplayName='Rich B', _LastEditorUserId=3956566, _OwnerDisplayName=None, _OwnerUserId=1, _ParentId=None, _PostTypeId=1, _Score=1742, _Tags='<c#><.net><datetime>', _Title=\"How do I calculate someone's age in C#?\", _ViewCount=555183),\n",
       " Row(_AcceptedAnswerId=1248, _AnswerCount=37, _Body='<p>Given a specific <code>DateTime</code> value, how do I display relative time, like:</p>\\n\\n<ul>\\n<li>2 hours ago</li>\\n<li>3 days ago</li>\\n<li>a month ago</li>\\n</ul>\\n', _ClosedDate=None, _CommentCount=3, _CommunityOwnedDate=datetime.datetime(2009, 9, 4, 18, 15, 59, 820000), _CreationDate=datetime.datetime(2008, 8, 1, 4, 55, 37, 967000), _FavoriteCount=539, _Id=11, _LastActivityDate=datetime.datetime(2019, 5, 26, 6, 31, 53, 863000), _LastEditDate=datetime.datetime(2017, 6, 4, 19, 51, 19, 780000), _LastEditorDisplayName='user2370523', _LastEditorUserId=6479704, _OwnerDisplayName=None, _OwnerUserId=1, _ParentId=None, _PostTypeId=1, _Score=1444, _Tags='<c#><datetime><time><datediff><relative-time-span>', _Title='Calculate relative time in C#', _ViewCount=149445)]"
      ]
     },
     "execution_count": 4,
     "metadata": {},
     "output_type": "execute_result"
    }
   ],
   "source": [
    "posts = ss.read.format(\"xml\").options(rowTag=\"row\").load('posts_sample.xml')\n",
    "posts.take(5)"
   ]
  },
  {
   "cell_type": "code",
   "execution_count": 5,
   "id": "fc13b349-2fe4-4603-83a6-3bda82a2230c",
   "metadata": {},
   "outputs": [
    {
     "name": "stderr",
     "output_type": "stream",
     "text": [
      "                                                                                \r"
     ]
    },
    {
     "name": "stdout",
     "output_type": "stream",
     "text": [
      "+--------------------+--------------------------+\n",
      "|Programming_language|Number_of_mentions_in_2010|\n",
      "+--------------------+--------------------------+\n",
      "|                Java|                        52|\n",
      "|          JavaScript|                        44|\n",
      "|                 PHP|                        42|\n",
      "|              Python|                        25|\n",
      "|         Objective-C|                        23|\n",
      "|                   C|                        20|\n",
      "|                Ruby|                        11|\n",
      "|              Delphi|                         7|\n",
      "|                   R|                         3|\n",
      "|                Bash|                         3|\n",
      "+--------------------+--------------------------+\n",
      "\n"
     ]
    },
    {
     "name": "stderr",
     "output_type": "stream",
     "text": [
      "                                                                                \r"
     ]
    },
    {
     "name": "stdout",
     "output_type": "stream",
     "text": [
      "+--------------------+--------------------------+\n",
      "|Programming_language|Number_of_mentions_in_2011|\n",
      "+--------------------+--------------------------+\n",
      "|                 PHP|                        97|\n",
      "|                Java|                        92|\n",
      "|          JavaScript|                        82|\n",
      "|              Python|                        35|\n",
      "|         Objective-C|                        33|\n",
      "|                   C|                        24|\n",
      "|                Ruby|                        17|\n",
      "|              Delphi|                         8|\n",
      "|                Perl|                         8|\n",
      "|                Bash|                         7|\n",
      "+--------------------+--------------------------+\n",
      "\n"
     ]
    },
    {
     "name": "stderr",
     "output_type": "stream",
     "text": [
      "                                                                                \r"
     ]
    },
    {
     "name": "stdout",
     "output_type": "stream",
     "text": [
      "+--------------------+--------------------------+\n",
      "|Programming_language|Number_of_mentions_in_2012|\n",
      "+--------------------+--------------------------+\n",
      "|                 PHP|                       136|\n",
      "|          JavaScript|                       129|\n",
      "|                Java|                       124|\n",
      "|              Python|                        65|\n",
      "|         Objective-C|                        45|\n",
      "|                   C|                        27|\n",
      "|                Ruby|                        25|\n",
      "|                Bash|                         9|\n",
      "|                   R|                         9|\n",
      "|              MATLAB|                         6|\n",
      "+--------------------+--------------------------+\n",
      "\n"
     ]
    },
    {
     "name": "stderr",
     "output_type": "stream",
     "text": [
      "                                                                                \r"
     ]
    },
    {
     "name": "stdout",
     "output_type": "stream",
     "text": [
      "+--------------------+--------------------------+\n",
      "|Programming_language|Number_of_mentions_in_2013|\n",
      "+--------------------+--------------------------+\n",
      "|          JavaScript|                       196|\n",
      "|                Java|                       191|\n",
      "|                 PHP|                       173|\n",
      "|              Python|                        87|\n",
      "|         Objective-C|                        40|\n",
      "|                   C|                        36|\n",
      "|                Ruby|                        30|\n",
      "|                   R|                        25|\n",
      "|                Bash|                        11|\n",
      "|               Scala|                        10|\n",
      "+--------------------+--------------------------+\n",
      "\n"
     ]
    },
    {
     "name": "stderr",
     "output_type": "stream",
     "text": [
      "                                                                                \r"
     ]
    },
    {
     "name": "stdout",
     "output_type": "stream",
     "text": [
      "+--------------------+--------------------------+\n",
      "|Programming_language|Number_of_mentions_in_2014|\n",
      "+--------------------+--------------------------+\n",
      "|          JavaScript|                       235|\n",
      "|                Java|                       228|\n",
      "|                 PHP|                       154|\n",
      "|              Python|                       103|\n",
      "|                   C|                        52|\n",
      "|         Objective-C|                        49|\n",
      "|                   R|                        28|\n",
      "|                Ruby|                        20|\n",
      "|              MATLAB|                        16|\n",
      "|                Bash|                        13|\n",
      "+--------------------+--------------------------+\n",
      "\n"
     ]
    },
    {
     "name": "stderr",
     "output_type": "stream",
     "text": [
      "                                                                                \r"
     ]
    },
    {
     "name": "stdout",
     "output_type": "stream",
     "text": [
      "+--------------------+--------------------------+\n",
      "|Programming_language|Number_of_mentions_in_2015|\n",
      "+--------------------+--------------------------+\n",
      "|          JavaScript|                       270|\n",
      "|                Java|                       208|\n",
      "|                 PHP|                       147|\n",
      "|              Python|                       119|\n",
      "|                   R|                        43|\n",
      "|                   C|                        38|\n",
      "|         Objective-C|                        30|\n",
      "|                Ruby|                        21|\n",
      "|              MATLAB|                        16|\n",
      "|               Scala|                        13|\n",
      "+--------------------+--------------------------+\n",
      "\n"
     ]
    },
    {
     "name": "stderr",
     "output_type": "stream",
     "text": [
      "                                                                                \r"
     ]
    },
    {
     "name": "stdout",
     "output_type": "stream",
     "text": [
      "+--------------------+--------------------------+\n",
      "|Programming_language|Number_of_mentions_in_2016|\n",
      "+--------------------+--------------------------+\n",
      "|          JavaScript|                       272|\n",
      "|                Java|                       179|\n",
      "|              Python|                       141|\n",
      "|                 PHP|                       126|\n",
      "|                   R|                        50|\n",
      "|                   C|                        32|\n",
      "|                Ruby|                        21|\n",
      "|                Bash|                        16|\n",
      "|               Scala|                        16|\n",
      "|              MATLAB|                        15|\n",
      "+--------------------+--------------------------+\n",
      "\n"
     ]
    },
    {
     "name": "stderr",
     "output_type": "stream",
     "text": [
      "                                                                                \r"
     ]
    },
    {
     "name": "stdout",
     "output_type": "stream",
     "text": [
      "+--------------------+--------------------------+\n",
      "|Programming_language|Number_of_mentions_in_2017|\n",
      "+--------------------+--------------------------+\n",
      "|          JavaScript|                       244|\n",
      "|                Java|                       204|\n",
      "|              Python|                       185|\n",
      "|                 PHP|                       122|\n",
      "|                   R|                        53|\n",
      "|                   C|                        24|\n",
      "|         Objective-C|                        19|\n",
      "|                Ruby|                        16|\n",
      "|          TypeScript|                        14|\n",
      "|          PowerShell|                        14|\n",
      "+--------------------+--------------------------+\n",
      "\n"
     ]
    },
    {
     "name": "stderr",
     "output_type": "stream",
     "text": [
      "                                                                                \r"
     ]
    },
    {
     "name": "stdout",
     "output_type": "stream",
     "text": [
      "+--------------------+--------------------------+\n",
      "|Programming_language|Number_of_mentions_in_2018|\n",
      "+--------------------+--------------------------+\n",
      "|              Python|                       214|\n",
      "|          JavaScript|                       196|\n",
      "|                Java|                       145|\n",
      "|                 PHP|                        99|\n",
      "|                   R|                        63|\n",
      "|                   C|                        24|\n",
      "|               Scala|                        22|\n",
      "|          TypeScript|                        21|\n",
      "|          PowerShell|                        13|\n",
      "|                Bash|                        12|\n",
      "+--------------------+--------------------------+\n",
      "\n"
     ]
    },
    {
     "name": "stderr",
     "output_type": "stream",
     "text": [
      "                                                                                \r"
     ]
    },
    {
     "name": "stdout",
     "output_type": "stream",
     "text": [
      "+--------------------+--------------------------+\n",
      "|Programming_language|Number_of_mentions_in_2019|\n",
      "+--------------------+--------------------------+\n",
      "|              Python|                       162|\n",
      "|          JavaScript|                       131|\n",
      "|                Java|                        95|\n",
      "|                 PHP|                        59|\n",
      "|                   R|                        36|\n",
      "|                   C|                        14|\n",
      "|                  Go|                         9|\n",
      "|              MATLAB|                         9|\n",
      "|              Kotlin|                         9|\n",
      "|                Dart|                         9|\n",
      "+--------------------+--------------------------+\n",
      "\n"
     ]
    }
   ],
   "source": [
    "def check_lang(x):\n",
    "    tag = next((language for language in csv_list if f\"<{language.lower()}>\" in x._Tags.lower()), None)\n",
    "    return (x._Id, tag) if tag else None\n",
    "\n",
    "def check_date(x, year):\n",
    "    creation_date = x._CreationDate\n",
    "    return creation_date.year == year and creation_date.month >= 1 and creation_date.month <= 12\n",
    "\n",
    "def aggregate_function(x, y):\n",
    "    return x + 1\n",
    "\n",
    "def merge_function(x1, x2):\n",
    "    return x1 + x2\n",
    "\n",
    "result = {}\n",
    "for y in range(2010, 2020):\n",
    "  result[y] = posts.rdd.filter(lambda x: x._Tags is not None and check_date(x, y)).map(check_lang).filter(lambda x: x is not None)\\\n",
    "      .keyBy(lambda x: x[1]).aggregateByKey(0, aggregate_function, merge_function,).sortBy(lambda x: x[1], ascending=False).toDF()\n",
    "  result[y] = result[y].select(col(\"_1\").alias(\"Programming_language\"), col(\"_2\").alias(f\"Number_of_mentions_in_{y}\")).limit(10)\n",
    "  result[y].show()"
   ]
  },
  {
   "cell_type": "code",
   "execution_count": 7,
   "id": "31cc09ba-e527-47c3-99bd-661e8cee3da4",
   "metadata": {},
   "outputs": [
    {
     "name": "stderr",
     "output_type": "stream",
     "text": [
      "                                                                                \r"
     ]
    }
   ],
   "source": [
    "for k, v in result.items():\n",
    "    v.write.format(\"parquet\").save(f\"top_{k}\")"
   ]
  },
  {
   "cell_type": "code",
   "execution_count": null,
   "id": "646ef60a-875f-4dec-a079-bd2b4255795a",
   "metadata": {},
   "outputs": [],
   "source": []
  }
 ],
 "metadata": {
  "kernelspec": {
   "display_name": "Python 3 (ipykernel)",
   "language": "python",
   "name": "python3"
  },
  "language_info": {
   "codemirror_mode": {
    "name": "ipython",
    "version": 3
   },
   "file_extension": ".py",
   "mimetype": "text/x-python",
   "name": "python",
   "nbconvert_exporter": "python",
   "pygments_lexer": "ipython3",
   "version": "3.10.12"
  }
 },
 "nbformat": 4,
 "nbformat_minor": 5
}
