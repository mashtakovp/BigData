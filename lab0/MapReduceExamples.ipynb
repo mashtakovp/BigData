{
 "cells": [
  {
   "cell_type": "markdown",
   "metadata": {
    "id": "82OvPKEiEqjc"
   },
   "source": [
    "# Введение в MapReduce модель на Python\n"
   ]
  },
  {
   "cell_type": "code",
   "execution_count": 1,
   "metadata": {
    "id": "JQ2cvXLjICmI"
   },
   "outputs": [],
   "source": [
    "from typing import NamedTuple # requires python 3.6+\n",
    "from typing import Iterator\n",
    "import random\n",
    "from collections import defaultdict"
   ]
  },
  {
   "cell_type": "code",
   "execution_count": 2,
   "metadata": {
    "id": "yjPHumVwEyEg"
   },
   "outputs": [],
   "source": [
    "def MAP(_, row:NamedTuple):\n",
    "  if (row.gender == 'female'):\n",
    "    yield (row.age, row)\n",
    "    \n",
    "def REDUCE(age:str, rows:Iterator[NamedTuple]):\n",
    "  sum = 0\n",
    "  count = 0\n",
    "  for row in rows:\n",
    "    sum += row.social_contacts\n",
    "    count += 1\n",
    "  if (count > 0):\n",
    "    yield (age, sum/count)\n",
    "  else:\n",
    "    yield (age, 0)"
   ]
  },
  {
   "cell_type": "markdown",
   "metadata": {
    "id": "vBKMgpG_ilaZ"
   },
   "source": [
    "Модель элемента данных"
   ]
  },
  {
   "cell_type": "code",
   "execution_count": 3,
   "metadata": {
    "id": "Rv-XIjhTJPx3"
   },
   "outputs": [],
   "source": [
    "class User(NamedTuple):\n",
    "  id: int\n",
    "  age: str\n",
    "  social_contacts: int\n",
    "  gender: str"
   ]
  },
  {
   "cell_type": "code",
   "execution_count": 4,
   "metadata": {
    "id": "5KV0Ze2vQgu5"
   },
   "outputs": [],
   "source": [
    "input_collection = [\n",
    "    User(id=0, age=55, gender='male', social_contacts=20),\n",
    "    User(id=1, age=25, gender='female', social_contacts=240),\n",
    "    User(id=2, age=25, gender='female', social_contacts=500),\n",
    "    User(id=3, age=33, gender='female', social_contacts=800)\n",
    "]"
   ]
  },
  {
   "cell_type": "markdown",
   "metadata": {
    "id": "YFeqzyZxZIFZ"
   },
   "source": [
    "Функция RECORDREADER моделирует чтение элементов с диска или по сети."
   ]
  },
  {
   "cell_type": "code",
   "execution_count": 5,
   "metadata": {
    "id": "S5HR4E_GQoMJ"
   },
   "outputs": [],
   "source": [
    "def RECORDREADER():\n",
    "  return [(u.id, u) for u in input_collection]"
   ]
  },
  {
   "cell_type": "code",
   "execution_count": 6,
   "metadata": {
    "colab": {
     "base_uri": "https://localhost:8080/",
     "height": 85
    },
    "id": "NeEoWla-ROUy",
    "outputId": "94ca6e0e-4644-4282-acbf-1759d7ba2918"
   },
   "outputs": [
    {
     "data": {
      "text/plain": [
       "[(0, User(id=0, age=55, social_contacts=20, gender='male')),\n",
       " (1, User(id=1, age=25, social_contacts=240, gender='female')),\n",
       " (2, User(id=2, age=25, social_contacts=500, gender='female')),\n",
       " (3, User(id=3, age=33, social_contacts=800, gender='female'))]"
      ]
     },
     "execution_count": 6,
     "metadata": {},
     "output_type": "execute_result"
    }
   ],
   "source": [
    "list(RECORDREADER())"
   ]
  },
  {
   "cell_type": "code",
   "execution_count": 7,
   "metadata": {
    "id": "YB8orgPSZs8M"
   },
   "outputs": [],
   "source": [
    "def flatten(nested_iterable):\n",
    "  for iterable in nested_iterable:\n",
    "    for element in iterable:\n",
    "      yield element"
   ]
  },
  {
   "cell_type": "code",
   "execution_count": 8,
   "metadata": {
    "colab": {
     "base_uri": "https://localhost:8080/",
     "height": 68
    },
    "id": "74oyvDLaRmd5",
    "outputId": "c6147702-7153-47c7-a574-d5fe6abe29a8"
   },
   "outputs": [
    {
     "data": {
      "text/plain": [
       "[(25, User(id=1, age=25, social_contacts=240, gender='female')),\n",
       " (25, User(id=2, age=25, social_contacts=500, gender='female')),\n",
       " (33, User(id=3, age=33, social_contacts=800, gender='female'))]"
      ]
     },
     "execution_count": 8,
     "metadata": {},
     "output_type": "execute_result"
    }
   ],
   "source": [
    "map_output = flatten(map(lambda x: MAP(*x), RECORDREADER()))\n",
    "map_output = list(map_output) # materialize\n",
    "map_output"
   ]
  },
  {
   "cell_type": "code",
   "execution_count": 9,
   "metadata": {
    "id": "8ncYDJ3-VzDn"
   },
   "outputs": [],
   "source": [
    "def groupbykey(iterable):\n",
    "  t = {}\n",
    "  for (k2, v2) in iterable:\n",
    "    t[k2] = t.get(k2, []) + [v2]\n",
    "  return t.items()"
   ]
  },
  {
   "cell_type": "code",
   "execution_count": 10,
   "metadata": {
    "colab": {
     "base_uri": "https://localhost:8080/",
     "height": 85
    },
    "id": "cKzY_6COWOA2",
    "outputId": "e6791b12-e409-47e9-bcd4-e9f8ca8611bd"
   },
   "outputs": [
    {
     "data": {
      "text/plain": [
       "[(25,\n",
       "  [User(id=1, age=25, social_contacts=240, gender='female'),\n",
       "   User(id=2, age=25, social_contacts=500, gender='female')]),\n",
       " (33, [User(id=3, age=33, social_contacts=800, gender='female')])]"
      ]
     },
     "execution_count": 10,
     "metadata": {},
     "output_type": "execute_result"
    }
   ],
   "source": [
    "shuffle_output = groupbykey(map_output)\n",
    "shuffle_output = list(shuffle_output)\n",
    "shuffle_output"
   ]
  },
  {
   "cell_type": "code",
   "execution_count": 11,
   "metadata": {
    "colab": {
     "base_uri": "https://localhost:8080/",
     "height": 34
    },
    "id": "NlA7lkDDYL0t",
    "outputId": "6b25d03f-5c92-4f3b-f500-6d70acd598b7"
   },
   "outputs": [
    {
     "data": {
      "text/plain": [
       "[(25, 370.0), (33, 800.0)]"
      ]
     },
     "execution_count": 11,
     "metadata": {},
     "output_type": "execute_result"
    }
   ],
   "source": [
    "reduce_output = flatten(map(lambda x: REDUCE(*x), shuffle_output))\n",
    "reduce_output = list(reduce_output)\n",
    "reduce_output"
   ]
  },
  {
   "cell_type": "markdown",
   "metadata": {
    "id": "xf6qhHEtd6bI"
   },
   "source": [
    "Все действия одним конвейером!"
   ]
  },
  {
   "cell_type": "code",
   "execution_count": 12,
   "metadata": {
    "colab": {
     "base_uri": "https://localhost:8080/",
     "height": 34
    },
    "id": "dZaQGYxCdpw5",
    "outputId": "3f5c6425-e5c5-49d2-b2cd-ce58a9acc33c"
   },
   "outputs": [
    {
     "data": {
      "text/plain": [
       "[(25, 370.0), (33, 800.0)]"
      ]
     },
     "execution_count": 12,
     "metadata": {},
     "output_type": "execute_result"
    }
   ],
   "source": [
    "list(flatten(map(lambda x: REDUCE(*x), groupbykey(flatten(map(lambda x: MAP(*x), RECORDREADER()))))))"
   ]
  },
  {
   "cell_type": "markdown",
   "metadata": {
    "id": "Vq3EWRIpwSiJ"
   },
   "source": [
    "# **MapReduce**\n",
    "Выделим общую для всех пользователей часть системы в отдельную функцию высшего порядка. Это наиболее простая модель MapReduce, без учёта распределённого хранения данных. \n",
    "\n",
    "Пользователь для решения своей задачи реализует RECORDREADER, MAP, REDUCE."
   ]
  },
  {
   "cell_type": "code",
   "execution_count": 13,
   "metadata": {
    "id": "V1PZeQMwwVjc"
   },
   "outputs": [],
   "source": [
    "def flatten(nested_iterable):\n",
    "  for iterable in nested_iterable:\n",
    "    for element in iterable:\n",
    "      yield element\n",
    "\n",
    "def groupbykey(iterable):\n",
    "  t = {}\n",
    "  for (k2, v2) in iterable:\n",
    "    t[k2] = t.get(k2, []) + [v2]\n",
    "  return t.items()\n",
    "\n",
    "def MapReduce(RECORDREADER, MAP, REDUCE):\n",
    "  return flatten(map(lambda x: REDUCE(*x), groupbykey(flatten(map(lambda x: MAP(*x), RECORDREADER())))))"
   ]
  },
  {
   "cell_type": "markdown",
   "metadata": {
    "id": "iFIVrimep678"
   },
   "source": [
    "## Спецификация MapReduce\n",
    "\n",
    "\n",
    "\n",
    "```\n",
    "f (k1, v1) -> (k2,v2)*\n",
    "g (k2, v2*) -> (k3,v3)*\n",
    " \n",
    "mapreduce ((k1,v1)*) -> (k3,v3)*\n",
    "groupby ((k2,v2)*) -> (k2,v2*)*\n",
    "flatten (e2**) -> e2*\n",
    " \n",
    "mapreduce .map(f).flatten.groupby(k2).map(g).flatten\n",
    "```\n",
    "\n",
    "\n"
   ]
  },
  {
   "cell_type": "markdown",
   "metadata": {
    "id": "QtTFyqke3KGe"
   },
   "source": [
    "# Примеры"
   ]
  },
  {
   "cell_type": "markdown",
   "metadata": {
    "id": "BNhh5763w5Vn"
   },
   "source": [
    "## SQL "
   ]
  },
  {
   "cell_type": "code",
   "execution_count": 14,
   "metadata": {
    "colab": {
     "base_uri": "https://localhost:8080/",
     "height": 34
    },
    "id": "QkyurnvGxBGk",
    "outputId": "84761282-d2ba-435a-e8d7-a85150730e10"
   },
   "outputs": [
    {
     "data": {
      "text/plain": [
       "[(25, 370.0), (33, 800.0)]"
      ]
     },
     "execution_count": 14,
     "metadata": {},
     "output_type": "execute_result"
    }
   ],
   "source": [
    "from typing import NamedTuple # requires python 3.6+\n",
    "from typing import Iterator\n",
    "\n",
    "class User(NamedTuple):\n",
    "  id: int\n",
    "  age: str\n",
    "  social_contacts: int\n",
    "  gender: str\n",
    "    \n",
    "input_collection = [\n",
    "    User(id=0, age=55, gender='male', social_contacts=20),\n",
    "    User(id=1, age=25, gender='female', social_contacts=240),\n",
    "    User(id=2, age=25, gender='female', social_contacts=500),\n",
    "    User(id=3, age=33, gender='female', social_contacts=800)\n",
    "]\n",
    "\n",
    "def MAP(_, row:NamedTuple):\n",
    "  if (row.gender == 'female'):\n",
    "    yield (row.age, row)\n",
    "    \n",
    "def REDUCE(age:str, rows:Iterator[NamedTuple]):\n",
    "  sum = 0\n",
    "  count = 0\n",
    "  for row in rows:\n",
    "    sum += row.social_contacts\n",
    "    count += 1\n",
    "  if (count > 0):\n",
    "    yield (age, sum/count)\n",
    "  else:\n",
    "    yield (age, 0)\n",
    " \n",
    "def RECORDREADER():\n",
    "  return [(u.id, u) for u in input_collection]\n",
    "\n",
    "output = MapReduce(RECORDREADER, MAP, REDUCE)\n",
    "output = list(output)\n",
    "output"
   ]
  },
  {
   "cell_type": "markdown",
   "metadata": {
    "id": "kNKYIeerx0nY"
   },
   "source": [
    "## Matrix-Vector multiplication "
   ]
  },
  {
   "cell_type": "code",
   "execution_count": 15,
   "metadata": {
    "colab": {
     "base_uri": "https://localhost:8080/",
     "height": 102
    },
    "id": "rwcntRcCyi1V",
    "outputId": "606737ab-6b55-455c-931f-4fc45155f8a9"
   },
   "outputs": [
    {
     "data": {
      "text/plain": [
       "[(0, 2.591756174871633),\n",
       " (1, 2.591756174871633),\n",
       " (2, 2.591756174871633),\n",
       " (3, 2.591756174871633),\n",
       " (4, 2.591756174871633)]"
      ]
     },
     "execution_count": 15,
     "metadata": {},
     "output_type": "execute_result"
    }
   ],
   "source": [
    "from typing import Iterator\n",
    "import numpy as np\n",
    "\n",
    "mat = np.ones((5,4))\n",
    "vec = np.random.rand(4) # in-memory vector in all map tasks\n",
    "def MAP(coordinates:(int, int), value:int):\n",
    "  i, j = coordinates\n",
    "  yield (i, value*vec[j])\n",
    " \n",
    "def REDUCE(i:int, products:Iterator[NamedTuple]):\n",
    "  sum = 0\n",
    "  for p in products:\n",
    "    sum += p\n",
    "  yield (i, sum)\n",
    "\n",
    "def RECORDREADER():\n",
    "  for i in range(mat.shape[0]):\n",
    "    for j in range(mat.shape[1]):\n",
    "      yield ((i, j), mat[i,j])\n",
    "      \n",
    "output = MapReduce(RECORDREADER, MAP, REDUCE)\n",
    "output = list(output)\n",
    "output"
   ]
  },
  {
   "cell_type": "markdown",
   "metadata": {
    "id": "ruZREYdi2o4O"
   },
   "source": [
    "## Inverted index "
   ]
  },
  {
   "cell_type": "code",
   "execution_count": 16,
   "metadata": {
    "colab": {
     "base_uri": "https://localhost:8080/",
     "height": 102
    },
    "id": "vt9H9Alf3TYv",
    "outputId": "51aeffc9-e111-4607-bd84-cfcc7b56f238"
   },
   "outputs": [
    {
     "data": {
      "text/plain": [
       "[('is', ['0', '1', '2']),\n",
       " ('it', ['0', '1', '2']),\n",
       " ('what', ['0', '1']),\n",
       " ('a', ['2']),\n",
       " ('banana', ['2'])]"
      ]
     },
     "execution_count": 16,
     "metadata": {},
     "output_type": "execute_result"
    }
   ],
   "source": [
    "from typing import Iterator\n",
    "\n",
    "d1 = \"it is what it is\"\n",
    "d2 = \"what is it\"\n",
    "d3 = \"it is a banana\"\n",
    "documents = [d1, d2, d3]\n",
    "\n",
    "def RECORDREADER():\n",
    "  for (docid, document) in enumerate(documents):\n",
    "    yield (\"{}\".format(docid), document)\n",
    "      \n",
    "def MAP(docId:str, body:str):\n",
    "  for word in set(body.split(' ')):\n",
    "    yield (word, docId)\n",
    " \n",
    "def REDUCE(word:str, docIds:Iterator[str]):\n",
    "  yield (word, sorted(docIds))\n",
    "\n",
    "output = MapReduce(RECORDREADER, MAP, REDUCE)\n",
    "output = list(output)\n",
    "output"
   ]
  },
  {
   "cell_type": "markdown",
   "metadata": {
    "id": "R7az-6DA6qr2"
   },
   "source": [
    "## WordCount"
   ]
  },
  {
   "cell_type": "code",
   "execution_count": 17,
   "metadata": {
    "colab": {
     "base_uri": "https://localhost:8080/",
     "height": 34
    },
    "id": "dN-nbtgG6uYG",
    "outputId": "24117576-7931-401d-a581-28e246b23453"
   },
   "outputs": [
    {
     "data": {
      "text/plain": [
       "[('', 3), ('it', 9), ('is', 9), ('what', 5), ('a', 1), ('banana', 1)]"
      ]
     },
     "execution_count": 17,
     "metadata": {},
     "output_type": "execute_result"
    }
   ],
   "source": [
    "from typing import Iterator\n",
    "\n",
    "d1 = \"\"\"\n",
    "it is what it is\n",
    "it is what it is\n",
    "it is what it is\"\"\"\n",
    "d2 = \"\"\"\n",
    "what is it\n",
    "what is it\"\"\"\n",
    "d3 = \"\"\"\n",
    "it is a banana\"\"\"\n",
    "documents = [d1, d2, d3]\n",
    "\n",
    "def RECORDREADER():\n",
    "  for (docid, document) in enumerate(documents):\n",
    "    for (lineid, line) in enumerate(document.split('\\n')):\n",
    "      yield (\"{}:{}\".format(docid,lineid), line)\n",
    "\n",
    "def MAP(docId:str, line:str):\n",
    "  for word in line.split(\" \"):  \n",
    "    yield (word, 1)\n",
    " \n",
    "def REDUCE(word:str, counts:Iterator[int]):\n",
    "  sum = 0\n",
    "  for c in counts:\n",
    "    sum += c\n",
    "  yield (word, sum)\n",
    "\n",
    "output = MapReduce(RECORDREADER, MAP, REDUCE)\n",
    "output = list(output)\n",
    "output"
   ]
  },
  {
   "cell_type": "markdown",
   "metadata": {
    "id": "h-jRAcYCAkkk"
   },
   "source": [
    "# MapReduce Distributed\n",
    "\n",
    "Добавляется в модель фабрика RECORDREARER-ов --- INPUTFORMAT, функция распределения промежуточных результатов по партициям PARTITIONER, и функция COMBINER для частичной аггрегации промежуточных результатов до распределения по новым партициям."
   ]
  },
  {
   "cell_type": "code",
   "execution_count": 18,
   "metadata": {
    "id": "nw-b-xJsApgW"
   },
   "outputs": [],
   "source": [
    "def flatten(nested_iterable):\n",
    "  for iterable in nested_iterable:\n",
    "    for element in iterable:\n",
    "      yield element\n",
    "\n",
    "def groupbykey(iterable):\n",
    "  t = {}\n",
    "  for (k2, v2) in iterable:\n",
    "    t[k2] = t.get(k2, []) + [v2]\n",
    "  return t.items()\n",
    "      \n",
    "def groupbykey_distributed(map_partitions, PARTITIONER):\n",
    "  global reducers\n",
    "  partitions = [dict() for _ in range(reducers)]\n",
    "  for map_partition in map_partitions:\n",
    "    for (k2, v2) in map_partition:\n",
    "      p = partitions[PARTITIONER(k2)]\n",
    "      p[k2] = p.get(k2, []) + [v2]\n",
    "  return [(partition_id, sorted(partition.items(), key=lambda x: x[0])) for (partition_id, partition) in enumerate(partitions)]\n",
    " \n",
    "def PARTITIONER(obj):\n",
    "  global reducers\n",
    "  return hash(obj) % reducers\n",
    "  \n",
    "def MapReduceDistributed(INPUTFORMAT, MAP, REDUCE, PARTITIONER=PARTITIONER, COMBINER=None):\n",
    "  map_partitions = map(lambda record_reader: flatten(map(lambda k1v1: MAP(*k1v1), record_reader)), INPUTFORMAT())\n",
    "  if COMBINER != None:\n",
    "    map_partitions = map(lambda map_partition: flatten(map(lambda k2v2: COMBINER(*k2v2), groupbykey(map_partition))), map_partitions)\n",
    "  reduce_partitions = groupbykey_distributed(map_partitions, PARTITIONER) # shuffle\n",
    "  reduce_outputs = map(lambda reduce_partition: (reduce_partition[0], flatten(map(lambda reduce_input_group: REDUCE(*reduce_input_group), reduce_partition[1]))), reduce_partitions)\n",
    "  \n",
    "  #print(\"{} key-value pairs were sent over a network.\".format(sum([len(vs) for (k,vs) in flatten([partition for (partition_id, partition) in reduce_partitions])])))\n",
    "  return reduce_outputs"
   ]
  },
  {
   "cell_type": "markdown",
   "metadata": {
    "id": "kxirlf3XqZxY"
   },
   "source": [
    "## Спецификация MapReduce Distributed\n",
    "\n",
    "\n",
    "```\n",
    "f (k1, v1) -> (k2,v2)*\n",
    "g (k2, v2*) -> (k3,v3)*\n",
    " \n",
    "e1 (k1, v1)\n",
    "e2 (k2, v2)\n",
    "partition1 (k2, v2)*\n",
    "partition2 (k2, v2*)*\n",
    " \n",
    "flatmap (e1->e2*, e1*) -> partition1*\n",
    "groupby (partition1*) -> partition2*\n",
    "\n",
    "mapreduce ((k1,v1)*) -> (k3,v3)*\n",
    "mapreduce .flatmap(f).groupby(k2).flatmap(g)\n",
    "```\n",
    "\n"
   ]
  },
  {
   "cell_type": "markdown",
   "metadata": {
    "id": "CWYw_CpbbY3C"
   },
   "source": [
    "## WordCount "
   ]
  },
  {
   "cell_type": "code",
   "execution_count": 19,
   "metadata": {
    "colab": {
     "base_uri": "https://localhost:8080/",
     "height": 68
    },
    "id": "uR_zfGFkMZlp",
    "outputId": "c8d46167-473d-43b9-881a-2396991b3731"
   },
   "outputs": [
    {
     "data": {
      "text/plain": [
       "[(0, [('', 6), ('banana', 2), ('is', 18)]),\n",
       " (1, [('a', 2), ('it', 18), ('what', 10)])]"
      ]
     },
     "execution_count": 19,
     "metadata": {},
     "output_type": "execute_result"
    }
   ],
   "source": [
    "from typing import Iterator\n",
    "import numpy as np\n",
    "\n",
    "d1 = \"\"\"\n",
    "it is what it is\n",
    "it is what it is\n",
    "it is what it is\"\"\"\n",
    "d2 = \"\"\"\n",
    "what is it\n",
    "what is it\"\"\"\n",
    "d3 = \"\"\"\n",
    "it is a banana\"\"\"\n",
    "documents = [d1, d2, d3, d1, d2, d3]\n",
    "\n",
    "maps = 3\n",
    "reducers = 2\n",
    "\n",
    "def INPUTFORMAT():\n",
    "  global maps\n",
    "  \n",
    "  def RECORDREADER(split):\n",
    "    for (docid, document) in enumerate(split):\n",
    "      for (lineid, line) in enumerate(document.split('\\n')):\n",
    "        yield (\"{}:{}\".format(docid,lineid), line)\n",
    "      \n",
    "  split_size =  int(np.ceil(len(documents)/maps))\n",
    "  for i in range(0, len(documents), split_size):\n",
    "    yield RECORDREADER(documents[i:i+split_size])\n",
    "\n",
    "def MAP(docId:str, line:str):\n",
    "  for word in line.split(\" \"):  \n",
    "    yield (word, 1)\n",
    " \n",
    "def REDUCE(word:str, counts:Iterator[int]):\n",
    "  sum = 0\n",
    "  for c in counts:\n",
    "    sum += c\n",
    "  yield (word, sum)\n",
    "  \n",
    "# try to set COMBINER=REDUCER and look at the number of values sent over the network \n",
    "partitioned_output = MapReduceDistributed(INPUTFORMAT, MAP, REDUCE, COMBINER=None) \n",
    "partitioned_output = [(partition_id, list(partition)) for (partition_id, partition) in partitioned_output]\n",
    "partitioned_output"
   ]
  },
  {
   "cell_type": "markdown",
   "metadata": {
    "id": "gCJGx8IQ87xS"
   },
   "source": [
    "## TeraSort"
   ]
  },
  {
   "cell_type": "code",
   "execution_count": 20,
   "metadata": {
    "colab": {
     "base_uri": "https://localhost:8080/",
     "height": 578
    },
    "id": "P2v8v1v_8_YR",
    "outputId": "e0987c25-9757-46cb-8e55-d5d2adfbee2b"
   },
   "outputs": [
    {
     "data": {
      "text/plain": [
       "[(0,\n",
       "  [(None, 0.02193139569855418),\n",
       "   (None, 0.04666629170541636),\n",
       "   (None, 0.11287687508967459),\n",
       "   (None, 0.1665943452836528),\n",
       "   (None, 0.16840982485693812),\n",
       "   (None, 0.24431816689092478),\n",
       "   (None, 0.25992331279019065),\n",
       "   (None, 0.28118458443304695),\n",
       "   (None, 0.298761144060279),\n",
       "   (None, 0.33138113787686185),\n",
       "   (None, 0.42516446054930757),\n",
       "   (None, 0.43090455723152477),\n",
       "   (None, 0.44668586502950725),\n",
       "   (None, 0.4641662804567319)]),\n",
       " (1,\n",
       "  [(None, 0.5891362352119163),\n",
       "   (None, 0.6036460817020096),\n",
       "   (None, 0.6361066872443863),\n",
       "   (None, 0.6375678555309057),\n",
       "   (None, 0.6709740677179076),\n",
       "   (None, 0.6738223450758172),\n",
       "   (None, 0.6980500117978639),\n",
       "   (None, 0.7129761558124712),\n",
       "   (None, 0.7989839357824207),\n",
       "   (None, 0.810515087554536),\n",
       "   (None, 0.8411614077248419),\n",
       "   (None, 0.8868828877399885),\n",
       "   (None, 0.9230415122002741),\n",
       "   (None, 0.9350681440436049),\n",
       "   (None, 0.9802260416931836),\n",
       "   (None, 0.9924533995207883)])]"
      ]
     },
     "execution_count": 20,
     "metadata": {},
     "output_type": "execute_result"
    }
   ],
   "source": [
    "import numpy as np\n",
    "\n",
    "input_values = np.random.rand(30)\n",
    "maps = 3\n",
    "reducers = 2\n",
    "min_value = 0.0\n",
    "max_value = 1.0\n",
    "\n",
    "def INPUTFORMAT():\n",
    "  global maps\n",
    "  \n",
    "  def RECORDREADER(split):\n",
    "    for value in split:\n",
    "        yield (value, None)\n",
    "      \n",
    "  split_size =  int(np.ceil(len(input_values)/maps))\n",
    "  for i in range(0, len(input_values), split_size):\n",
    "    yield RECORDREADER(input_values[i:i+split_size])\n",
    "    \n",
    "def MAP(value:int, _):\n",
    "  yield (value, None)\n",
    "  \n",
    "def PARTITIONER(key):\n",
    "  global reducers\n",
    "  global max_value\n",
    "  global min_value\n",
    "  bucket_size = (max_value-min_value)/reducers\n",
    "  bucket_id = 0\n",
    "  while((key>(bucket_id+1)*bucket_size) and ((bucket_id+1)*bucket_size<max_value)):\n",
    "    bucket_id += 1\n",
    "  return bucket_id\n",
    "\n",
    "def REDUCE(value:int, _):\n",
    "  yield (None,value)\n",
    "  \n",
    "partitioned_output = MapReduceDistributed(INPUTFORMAT, MAP, REDUCE, COMBINER=None, PARTITIONER=PARTITIONER)\n",
    "partitioned_output = [(partition_id, list(partition)) for (partition_id, partition) in partitioned_output]\n",
    "partitioned_output"
   ]
  },
  {
   "cell_type": "markdown",
   "metadata": {
    "id": "Iy65YJTH99iT"
   },
   "source": [
    "# Упражнения\n",
    "Упражнения взяты из Rajaraman A., Ullman J. D. Mining of massive datasets. – Cambridge University Press, 2011.\n",
    "\n",
    "\n",
    "Для выполнения заданий переопределите функции RECORDREADER, MAP, REDUCE. Для модели распределённой системы может потребоваться переопределение функций PARTITION и COMBINER."
   ]
  },
  {
   "cell_type": "markdown",
   "metadata": {
    "id": "cfvAeZm3S8S8"
   },
   "source": [
    "### Максимальное значение ряда\n",
    "\n",
    "Разработайте MapReduce алгоритм, который находит максимальное число входного списка чисел."
   ]
  },
  {
   "cell_type": "code",
   "execution_count": 21,
   "metadata": {
    "id": "3GRA1JR-Tkbg"
   },
   "outputs": [
    {
     "name": "stdout",
     "output_type": "stream",
     "text": [
      "25\n"
     ]
    }
   ],
   "source": [
    "from typing import List, Iterator\n",
    "\n",
    "# Переопределение функции RECORDREADER для чтения списка чисел\n",
    "def RECORDREADER(input_list: List[int]):\n",
    "    # Все числа будут иметь одинаковый ключ, так как нам нужно найти максимум по всему списку\n",
    "    return [(1, number) for number in input_list]\n",
    "\n",
    "# Переопределение функции MAP\n",
    "def MAP(_, number:int):\n",
    "    # Просто передаем число дальше\n",
    "    yield (1, number)\n",
    "    \n",
    "# Переопределение функции REDUCE\n",
    "def REDUCE(_, numbers:Iterator[int]):\n",
    "    # Находим максимальное число\n",
    "    max_number = max(numbers)\n",
    "    yield (_, max_number)\n",
    "\n",
    "# Определение функции flatten\n",
    "def flatten(nested_iterable):\n",
    "    for iterable in nested_iterable:\n",
    "        for element in iterable:\n",
    "            yield element\n",
    "\n",
    "# Определение функции groupbykey\n",
    "def groupbykey(iterable):\n",
    "    t = {}\n",
    "    for (k2, v2) in iterable:\n",
    "        t[k2] = t.get(k2, []) + [v2]\n",
    "    return t.items()\n",
    "\n",
    "# Входной список чисел\n",
    "input_list = [10, 15, 3, 7, 9, 25, 16]\n",
    "\n",
    "# Исполнение MapReduce алгоритма\n",
    "def MapReduce(input_list, RECORDREADER, MAP, REDUCE):\n",
    "    # Подготавливаем данные через RECORDREADER\n",
    "    prepared_data = RECORDREADER(input_list)\n",
    "    # Применяем MAP к каждому элементу\n",
    "    mapped = flatten(map(lambda x: MAP(*x), prepared_data))\n",
    "    # Группируем по ключу и применяем REDUCE\n",
    "    reduced = flatten(map(lambda x: REDUCE(*x), groupbykey(mapped)))\n",
    "    return list(reduced)\n",
    "\n",
    "# Запуск MapReduce алгоритма\n",
    "result = MapReduce(input_list, RECORDREADER, MAP, REDUCE)\n",
    "print(result[0][1])"
   ]
  },
  {
   "cell_type": "markdown",
   "metadata": {
    "id": "k86bXnqZTk-U"
   },
   "source": [
    "### Арифметическое среднее\n",
    "\n",
    "Разработайте MapReduce алгоритм, который находит арифметическое среднее.\n",
    "\n",
    "$$\\overline{X} = \\frac{1}{n}\\sum_{i=0}^{n} x_i$$\n"
   ]
  },
  {
   "cell_type": "code",
   "execution_count": 22,
   "metadata": {
    "id": "MPoY5pkfUNZf"
   },
   "outputs": [
    {
     "name": "stdout",
     "output_type": "stream",
     "text": [
      "30.0\n"
     ]
    }
   ],
   "source": [
    "def RECORDREADER_average(input_list: List[int]):\n",
    "    # Все числа будут иметь одинаковый ключ, так как нам нужно вычислить общее среднее\n",
    "    return [(1, number) for number in input_list]\n",
    "\n",
    "# Переопределение функции MAP для вычисления среднего\n",
    "def MAP_average(_, number:int):\n",
    "    # Передаем число и счетчик 1 для каждого числа\n",
    "    yield (1, (number, 1))\n",
    "    \n",
    "# Переопределение функции REDUCE для вычисления среднего\n",
    "def REDUCE_average(_, values:Iterator[tuple]):\n",
    "    sum_numbers, count_numbers = 0, 0\n",
    "    for value, count in values:\n",
    "        sum_numbers += value\n",
    "        count_numbers += count\n",
    "    # Возвращаем среднее значение\n",
    "    if count_numbers > 0:\n",
    "        yield (_, sum_numbers / count_numbers)\n",
    "    else:\n",
    "        yield (_, 0)\n",
    "\n",
    "# Входной список чисел\n",
    "input_list_average = [10, 20, 30, 40, 50]\n",
    "\n",
    "# Повторное выполнение MapReduce алгоритма для вычисления среднего\n",
    "result_average = MapReduce(input_list_average, RECORDREADER_average, MAP_average, REDUCE_average)\n",
    "print(result_average[0][1])"
   ]
  },
  {
   "cell_type": "markdown",
   "metadata": {
    "id": "xanzszhsIlLe"
   },
   "source": [
    "### GroupByKey на основе сортировки\n",
    "\n",
    "Реализуйте groupByKey на основе сортировки, проверьте его работу на примерах"
   ]
  },
  {
   "cell_type": "code",
   "execution_count": 23,
   "metadata": {
    "id": "hQPn3USsIkEC"
   },
   "outputs": [
    {
     "name": "stdout",
     "output_type": "stream",
     "text": [
      "Map output: [(1, 24), (1, 91), (1, 50), (1, 15), (1, 88), (1, 60), (1, 22), (1, 99), (1, 85), (1, 44), (1, 13), (1, 73), (1, 55), (1, 100), (1, 86), (1, 25), (1, 82), (1, 89), (1, 8), (1, 81), (1, 40), (1, 2), (1, 91), (1, 66), (1, 38), (1, 87), (1, 15), (1, 12), (1, 35), (1, 6), (1, 11), (1, 98), (1, 97), (1, 6), (1, 50), (1, 82), (1, 41), (1, 53), (1, 88), (1, 61), (1, 22), (1, 76), (1, 23), (1, 9), (1, 88), (1, 17), (1, 72), (1, 46), (1, 56), (1, 100), (1, 7), (1, 39), (1, 76), (1, 65), (1, 53), (1, 63), (1, 64), (1, 53), (1, 55), (1, 12), (1, 53), (1, 63), (1, 23), (1, 8), (1, 6), (1, 64), (1, 81), (1, 75), (1, 84), (1, 43), (1, 76), (1, 98), (1, 39), (1, 38), (1, 7), (1, 49), (1, 0), (1, 70), (1, 47), (1, 10), (1, 48), (1, 85), (1, 19), (1, 28), (1, 72), (1, 4), (1, 43), (1, 94), (1, 25), (1, 24), (1, 0), (1, 54), (1, 4), (1, 80), (1, 94), (1, 95), (1, 99), (1, 41), (1, 2), (1, 65)] \n",
      "\n",
      "Shuffle output: [(1, [24, 91, 50, 15, 88, 60, 22, 99, 85, 44, 13, 73, 55, 100, 86, 25, 82, 89, 8, 81, 40, 2, 91, 66, 38, 87, 15, 12, 35, 6, 11, 98, 97, 6, 50, 82, 41, 53, 88, 61, 22, 76, 23, 9, 88, 17, 72, 46, 56, 100, 7, 39, 76, 65, 53, 63, 64, 53, 55, 12, 53, 63, 23, 8, 6, 64, 81, 75, 84, 43, 76, 98, 39, 38, 7, 49, 0, 70, 47, 10, 48, 85, 19, 28, 72, 4, 43, 94, 25, 24, 0, 54, 4, 80, 94, 95, 99, 41, 2, 65])] \n",
      "\n",
      "Reduce output: [50.75] \n",
      "\n"
     ]
    }
   ],
   "source": [
    "from collections import defaultdict\n",
    "import random\n",
    "\n",
    "def map_func(pair):\n",
    "    num1, num2 = pair\n",
    "    return num1, num2\n",
    "\n",
    "def reduce_func(key, nums):\n",
    "    total = sum(nums)\n",
    "    count = len(nums)\n",
    "    return total / count\n",
    "\n",
    "def data_generator(count):\n",
    "    result = []\n",
    "    for _ in range(count):\n",
    "        num1 = 1\n",
    "        num2 = random.randint(0, 100)\n",
    "        result.append((num1, num2))\n",
    "    return result\n",
    "\n",
    "map_output = list(map(map_func, data_generator(100)))\n",
    "print(\"Map output:\", map_output, '\\n')\n",
    "\n",
    "shuffle_output = defaultdict(list)\n",
    "for key, value in map_output:\n",
    "    shuffle_output[key].append(value)\n",
    "shuffle_output = list(shuffle_output.items())\n",
    "print(\"Shuffle output:\", shuffle_output, '\\n')\n",
    "\n",
    "reduce_output = [reduce_func(key, nums) for key, nums in shuffle_output]\n",
    "print(\"Reduce output:\", reduce_output, '\\n')"
   ]
  },
  {
   "cell_type": "markdown",
   "metadata": {
    "id": "5SgEjCZyGnu6"
   },
   "source": [
    "### Drop duplicates (set construction, unique elements, distinct)\n",
    "\n",
    "Реализуйте распределённую операцию исключения дубликатов"
   ]
  },
  {
   "cell_type": "code",
   "execution_count": 24,
   "metadata": {
    "id": "okjbyApjGhMt"
   },
   "outputs": [
    {
     "name": "stdout",
     "output_type": "stream",
     "text": [
      "[(0, ['banana', 'is']), (1, ['a', 'it', 'what'])]\n"
     ]
    }
   ],
   "source": [
    "def INPUTFORMAT():\n",
    "    global maps\n",
    "\n",
    "    def RECORDREADER(split):\n",
    "        \"\"\"Yields a key-value pair of document ID and line\"\"\"\n",
    "        for doc_id, document in enumerate(split):\n",
    "            for line_id, line in enumerate(document.strip().split('\\n')):\n",
    "                yield f\"{doc_id}:{line_id}\", line\n",
    "\n",
    "    split_size = int(np.ceil(len(documents) / maps))\n",
    "    for i in range(0, len(documents), split_size):\n",
    "        split = documents[i:i+split_size]\n",
    "        yield RECORDREADER(split)  # Используем функцию напрямую\n",
    "\n",
    "def MAP(doc_id: str, line: str) -> Iterator[tuple]:\n",
    "    \"\"\"Yields key-value pairs of words\"\"\"\n",
    "    return ((word, word) for word in line.split())\n",
    "\n",
    "def REDUCE(key: str, values: Iterator[str]) -> Iterator[str]:\n",
    "    \"\"\"Yields unique keys\"\"\"\n",
    "    yield key\n",
    "partitioned_output = MapReduceDistributed(INPUTFORMAT, MAP, REDUCE, COMBINER=None)\n",
    "partitioned_output = [(partition_id, list(partition)) for (partition_id, partition) in partitioned_output]\n",
    "print(partitioned_output)"
   ]
  },
  {
   "cell_type": "markdown",
   "metadata": {
    "id": "e7sRGoTXuJze"
   },
   "source": [
    "#Операторы реляционной алгебры\n",
    "### Selection (Выборка)\n",
    "\n",
    "**The Map Function**: Для  каждого кортежа $t \\in R$ вычисляется истинность предиката $C$. В случае истины создаётся пара ключ-значение $(t, t)$. В паре ключ и значение одинаковы, равны $t$.\n",
    "\n",
    "**The Reduce Function:** Роль функции Reduce выполняет функция идентичности, которая возвращает то же значение, что получила на вход.\n",
    "\n"
   ]
  },
  {
   "cell_type": "code",
   "execution_count": 25,
   "metadata": {
    "id": "4nKIKe59uIfc"
   },
   "outputs": [
    {
     "name": "stdout",
     "output_type": "stream",
     "text": [
      "[(45, 70, 31), (63, 46, 80), (71, 12, 81), (33, 85, 71), (5, 100, 94), (90, 69, 88), (50, 52, 19), (32, 60, 6), (54, 40, 74), (69, 56, 25)] \n",
      "\n",
      "[(54, 40, 74)]\n"
     ]
    }
   ],
   "source": [
    "def MAP(elements):\n",
    "    return [(t, [t]) for t in elements if t[0] > 50 and t[0] < 55] \n",
    "\n",
    "def REDUCE(mapped_items):\n",
    "    return [value[0] for values in mapped_items for value in values]\n",
    "\n",
    "def RECORDREADER(count):\n",
    "    return [(random.randint(0, 100), random.randint(0, 100), random.randint(0, 100)) for i in range(count)]\n",
    "\n",
    "record = RECORDREADER(10)\n",
    "print(record, '\\n')\n",
    "parts = 5\n",
    "record_partitional = [record[d:d + parts] for d in range(0, len(record), parts)]\n",
    "\n",
    "print(REDUCE([MAP(x) for x in record_partitional]))"
   ]
  },
  {
   "cell_type": "markdown",
   "metadata": {
    "id": "w27Ca-_Ku85V"
   },
   "source": [
    "### Projection (Проекция)\n",
    "\n",
    "Проекция на множество атрибутов $S$.\n",
    "\n",
    "**The Map Function:** Для каждого кортежа $t \\in R$ создайте кортеж $t′$, исключая  из $t$ те значения, атрибуты которых не принадлежат  $S$. Верните пару $(t′, t′)$.\n",
    "\n",
    "**The Reduce Function:** Для каждого ключа $t′$, созданного любой Map задачей, вы получаете одну или несколько пар $(t′, t′)$. Reduce функция преобразует $(t′, [t′, t′, . . . , t′])$ в $(t′, t′)$, так, что для ключа $t′$ возвращается одна пара  $(t′, t′)$."
   ]
  },
  {
   "cell_type": "code",
   "execution_count": 26,
   "metadata": {
    "id": "BEvuY4GqvhS6"
   },
   "outputs": [
    {
     "name": "stdout",
     "output_type": "stream",
     "text": [
      "Records:  [(18, 23, 12), (17, 78, 7), (83, 41, 28), (84, 58, 10), (39, 82, 19), (60, 10, 24), (44, 100, 32), (32, 35, 97), (15, 31, 73), (90, 0, 73), (21, 71, 81), (74, 96, 13), (68, 89, 34), (98, 21, 61), (35, 14, 69), (36, 64, 2), (96, 35, 1), (0, 4, 29), (80, 84, 92), (38, 79, 64), (88, 36, 63), (50, 65, 64), (72, 54, 93), (51, 65, 40), (11, 74, 7), (11, 25, 91), (4, 76, 51), (25, 29, 17), (36, 72, 66), (14, 14, 26), (13, 74, 4), (69, 13, 17), (88, 51, 93), (52, 46, 28), (91, 23, 92), (41, 72, 58), (41, 75, 3), (37, 94, 67), (85, 10, 61), (94, 47, 22), (74, 38, 24), (96, 52, 94), (46, 50, 96), (29, 38, 1), (24, 22, 87), (28, 93, 48), (89, 97, 2), (0, 5, 10), (20, 67, 71), (72, 0, 3)] \n",
      "\n",
      "Mapped Data:  [((12,), (12,)), ((), ()), ((), ()), ((), ()), ((), ()), ((), ()), ((), ()), ((), ()), ((), ()), ((), ()), ((), ()), ((), ()), ((), ()), ((), ()), ((), ()), ((), ()), ((1,), (1,)), ((), ()), ((), ()), ((), ()), ((), ()), ((), ()), ((), ()), ((), ()), ((), ()), ((), ()), ((), ()), ((), ()), ((), ()), ((), ()), ((), ()), ((), ()), ((), ()), ((), ()), ((), ()), ((), ()), ((), ()), ((), ()), ((), ()), ((), ()), ((), ()), ((), ()), ((), ()), ((1,), (1,)), ((), ()), ((), ()), ((), ()), ((), ()), ((), ()), ((), ())] \n",
      "\n",
      "Shuffled Data:  [((12,), [12]), ((), []), ((1,), [1])] \n",
      "\n",
      "Reduced Data:  [(12,), (), (1,)] \n",
      "\n"
     ]
    }
   ],
   "source": [
    "S = {1, 12, 56}  \n",
    "\n",
    "def MAP(t):\n",
    "  res_list = [element for element in t if element in S]  \n",
    "  res = tuple(res_list)\n",
    "  return (res, res)\n",
    "\n",
    "def REDUCE(key, values):\n",
    "    return (key, key)\n",
    "\n",
    "def RECORDREADER(count):\n",
    "    return [(random.randint(0, 100), random.randint(0, 100), random.randint(0, 100)) for i in range(count)]\n",
    "\n",
    "def group_by_key(iterable):\n",
    "  return {k: [v for v in vs if v is not None] for k, vs in iterable}.items()  # Using dictionary comprehension\n",
    "\n",
    "record = RECORDREADER(50)\n",
    "print(\"Records: \",record, '\\n')\n",
    "\n",
    "map_out = [MAP(x) for x in record]  # Using list comprehension\n",
    "print(\"Mapped Data: \",map_out, '\\n')\n",
    "\n",
    "shuffle_out = list(group_by_key(map_out))\n",
    "print(\"Shuffled Data: \",shuffle_out, '\\n')\n",
    "\n",
    "reduce_out = [REDUCE(*x)[0] for x in shuffle_out]  # Using list comprehension\n",
    "print(\"Reduced Data: \",reduce_out, '\\n')"
   ]
  },
  {
   "cell_type": "markdown",
   "metadata": {
    "id": "7gau6lKXvn2R"
   },
   "source": [
    "### Union (Объединение)\n",
    "\n",
    "**The Map Function:** Превратите каждый входной кортеж $t$ в пару ключ-значение $(t, t)$.\n",
    "\n",
    "**The Reduce Function:** С каждым ключом $t$ будет ассоциировано одно или два значений. В обоих случаях создайте $(t, t)$ в качестве выходного значения."
   ]
  },
  {
   "cell_type": "code",
   "execution_count": 27,
   "metadata": {
    "id": "Sns7a5agv3nw"
   },
   "outputs": [
    {
     "name": "stdout",
     "output_type": "stream",
     "text": [
      "Records:  [(97, 83, 41), (60, 87, 56), (41, 8, 57), (59, 35, 90), (61, 91, 25)] \n",
      "\n",
      "Mapped Data:  [((97, 83, 41), (97, 83, 41)), ((60, 87, 56), (60, 87, 56)), ((41, 8, 57), (41, 8, 57)), ((59, 35, 90), (59, 35, 90)), ((61, 91, 25), (61, 91, 25))] \n",
      "\n",
      "Shuffled Data:  [((97, 83, 41), [(97, 83, 41)]), ((60, 87, 56), [(60, 87, 56)]), ((41, 8, 57), [(41, 8, 57)]), ((59, 35, 90), [(59, 35, 90)]), ((61, 91, 25), [(61, 91, 25)])] \n",
      "\n",
      "Reduced Data:  [(97, 83, 41), (60, 87, 56), (41, 8, 57), (59, 35, 90), (61, 91, 25)] \n",
      "\n"
     ]
    }
   ],
   "source": [
    "\n",
    "def MAP(t):\n",
    "  return (t, t)\n",
    "\n",
    "def REDUCE(key, values):\n",
    "  return (key, key)\n",
    "\n",
    "def GROUP_BY_KEY(iterable):\n",
    "  t = defaultdict(list)\n",
    "  for k, v in iterable:\n",
    "    t[k].append(v)\n",
    "  return t.items()\n",
    "\n",
    "def RECORDREADER(count):\n",
    "  return [(random.randint(0, 100), random.randint(0, 100), random.randint(0, 100)) for i in range(count)]\n",
    "\n",
    "\n",
    "records = RECORDREADER(5)\n",
    "print(\"Records: \", records, '\\n')\n",
    "\n",
    "map_res = list(map(lambda x: MAP(x), records))\n",
    "print(\"Mapped Data: \", map_res, '\\n')\n",
    "\n",
    "group_res = list(GROUP_BY_KEY(map_res))\n",
    "print(\"Shuffled Data: \", group_res, '\\n')\n",
    "\n",
    "reduce_res = list(map(lambda x: REDUCE(x[0], x[1])[0], group_res))\n",
    "print(\"Reduced Data: \", reduce_res, '\\n')"
   ]
  },
  {
   "cell_type": "markdown",
   "metadata": {
    "id": "dQ8TuEbjv4J8"
   },
   "source": [
    "### Intersection (Пересечение)\n",
    "\n",
    "**The Map Function:** Превратите каждый кортеж $t$ в пары ключ-значение $(t, t)$.\n",
    "\n",
    "**The Reduce Function:** Если для ключа $t$ есть список из двух элементов $[t, t]$ $-$ создайте пару $(t, t)$. Иначе, ничего не создавайте."
   ]
  },
  {
   "cell_type": "code",
   "execution_count": 29,
   "metadata": {
    "id": "XKlBZh4IwERR"
   },
   "outputs": [
    {
     "name": "stdout",
     "output_type": "stream",
     "text": [
      "Входные данные: [(3, 1), (0, 1), (3, 1)]\n",
      "Результат работы REDUCE: [((3, 1), (3, 1))]\n"
     ]
    }
   ],
   "source": [
    "def RECORDREADER(count):\n",
    "    return [(random.randint(0, 3), random.randint(0, 3)) for _ in range(count)]\n",
    "\n",
    "def MAP(tuples):\n",
    "    return [(t, t) for t in tuples]\n",
    "\n",
    "def group_by_key(mapped_values):\n",
    "    grouped_values = {}\n",
    "    for key, value in mapped_values:\n",
    "        if key in grouped_values:\n",
    "            grouped_values[key].append(value)\n",
    "        else:\n",
    "            grouped_values[key] = [value]\n",
    "    return grouped_values\n",
    "\n",
    "def REDUCE(grouped_values):\n",
    "    result = []\n",
    "    for key, values in grouped_values.items():\n",
    "        if len(values) > 1:  \n",
    "            result.append((key, key))\n",
    "    return result\n",
    "\n",
    "\n",
    "input_data = RECORDREADER(3)\n",
    "\n",
    "\n",
    "mapped_values = MAP(input_data)\n",
    "\n",
    "\n",
    "grouped_values = group_by_key(mapped_values)\n",
    "\n",
    "\n",
    "reduced_values = REDUCE(grouped_values)\n",
    "\n",
    "print(\"Входные данные:\", input_data)\n",
    "print(\"Результат работы REDUCE:\", reduced_values)"
   ]
  },
  {
   "cell_type": "markdown",
   "metadata": {
    "id": "AVOpqoY3wE5k"
   },
   "source": [
    "### Difference (Разница)\n",
    "\n",
    "**The Map Function:** Для кортежа $t \\in R$, создайте пару $(t, R)$, и для кортежа $t \\in S$, создайте пару $(t, S)$. Задумка заключается в том, чтобы значение пары было именем отношения $R$ or $S$, которому принадлежит кортеж (а лучше, единичный бит, по которому можно два отношения различить $R$ or $S$), а не весь набор атрибутов отношения.\n",
    "\n",
    "**The Reduce Function:** Для каждого ключа $t$, если соответствующее значение является списком $[R]$, создайте пару $(t, t)$. В иных случаях не предпринимайте действий."
   ]
  },
  {
   "cell_type": "code",
   "execution_count": 30,
   "metadata": {
    "id": "QE_AC09lwZIZ"
   },
   "outputs": [
    {
     "name": "stdout",
     "output_type": "stream",
     "text": [
      "Records:  [(((3, 1), (2, 3), (3, 0), (2, 3), (1, 2), (1, 2), (3, 0), (2, 2), (1, 0), (1, 0), (2, 2), (3, 1), (2, 0), (0, 0), (1, 1), (2, 1), (2, 2), (1, 1), (3, 2), (2, 1), (3, 0), (2, 3), (1, 0), (3, 2), (1, 3), (3, 0), (1, 1), (1, 3), (3, 3), (3, 2), (2, 2), (0, 2), (1, 2), (1, 2), (1, 2), (2, 0), (3, 1), (3, 2), (3, 1), (2, 2), (3, 0), (3, 2), (1, 3), (0, 2), (2, 3), (3, 1), (0, 2), (2, 3), (0, 0), (2, 0)), 7), (((1, 3), (3, 3), (1, 2), (3, 2), (3, 0), (0, 2), (3, 2), (0, 1), (3, 2), (0, 2), (3, 0), (2, 0), (2, 0), (1, 1), (3, 2), (1, 2), (2, 2), (3, 0), (2, 2), (3, 2), (3, 2), (0, 1), (0, 1), (3, 2), (2, 1), (1, 0), (2, 3), (2, 0), (2, 1), (0, 1), (3, 3), (1, 3), (1, 2), (2, 2), (1, 1), (3, 2), (1, 3), (2, 1), (2, 1), (0, 1), (3, 2), (2, 2), (1, 3), (2, 1), (3, 1), (0, 3), (3, 0), (2, 3), (2, 1), (1, 2)), 5), (((1, 0), (2, 3), (2, 3), (3, 0), (1, 0), (0, 3), (2, 2), (1, 3), (2, 1), (0, 1), (0, 0), (3, 2), (3, 2), (2, 1), (0, 2), (0, 2), (2, 3), (1, 3), (3, 3), (0, 3), (1, 1), (3, 1), (2, 1), (1, 2), (3, 2), (2, 2), (1, 1), (0, 2), (1, 2), (1, 3), (2, 1), (1, 1), (3, 1), (2, 2), (2, 0), (1, 3), (3, 1), (3, 1), (1, 3), (0, 3), (1, 2), (0, 2), (3, 1), (1, 3), (0, 2), (3, 3), (2, 1), (3, 2), (3, 1), (2, 3)), 7), (((0, 0), (3, 3), (3, 3), (0, 0), (3, 2), (3, 2), (3, 1), (0, 2), (0, 2), (3, 3), (0, 3), (2, 0), (2, 0), (2, 1), (1, 3), (2, 0), (3, 3), (1, 2), (3, 0), (0, 3), (1, 0), (2, 3), (3, 2), (2, 3), (2, 0), (3, 1), (3, 0), (2, 0), (1, 0), (0, 0), (1, 2), (1, 1), (0, 3), (0, 2), (3, 1), (2, 2), (2, 1), (1, 1), (2, 1), (1, 2), (2, 0), (1, 1), (2, 1), (3, 1), (2, 3), (0, 0), (2, 0), (1, 2), (2, 3), (3, 3)), 7), (((2, 2), (3, 1), (0, 1), (2, 3), (0, 1), (3, 0), (2, 1), (1, 1), (1, 0), (2, 0), (1, 3), (0, 2), (0, 2), (1, 1), (2, 1), (3, 2), (2, 2), (1, 3), (1, 2), (1, 3), (1, 3), (0, 2), (1, 3), (0, 1), (0, 0), (0, 2), (3, 1), (3, 1), (0, 0), (2, 3), (1, 2), (0, 3), (0, 0), (1, 1), (3, 1), (3, 3), (0, 2), (3, 3), (2, 0), (0, 1), (3, 3), (3, 3), (1, 1), (3, 1), (3, 0), (0, 1), (0, 2), (1, 2), (1, 0), (3, 0)), 5), (((3, 0), (1, 3), (0, 1), (1, 1), (2, 2), (1, 1), (2, 1), (0, 1), (2, 3), (2, 2), (3, 3), (0, 0), (1, 1), (0, 2), (2, 2), (1, 2), (3, 2), (2, 3), (2, 0), (2, 0), (2, 2), (1, 2), (0, 3), (2, 0), (2, 1), (1, 3), (0, 3), (0, 2), (1, 1), (0, 3), (0, 3), (3, 1), (3, 3), (3, 0), (1, 3), (1, 2), (2, 2), (2, 2), (3, 2), (1, 3), (3, 2), (2, 3), (1, 2), (0, 3), (0, 2), (0, 2), (3, 2), (3, 1), (0, 2), (0, 1)), 5), (((3, 0), (2, 3), (1, 3), (3, 2), (3, 3), (2, 1), (1, 3), (1, 3), (0, 1), (0, 2), (0, 1), (3, 3), (3, 2), (3, 3), (1, 2), (2, 0), (0, 0), (2, 0), (0, 2), (2, 2), (1, 2), (1, 2), (1, 0), (0, 3), (0, 3), (0, 2), (1, 3), (1, 1), (0, 2), (1, 3), (0, 3), (3, 3), (3, 3), (1, 0), (1, 3), (3, 3), (0, 1), (1, 1), (0, 0), (0, 2), (3, 2), (2, 0), (0, 3), (1, 3), (2, 1), (1, 3), (0, 2), (0, 1), (1, 1), (2, 2)), 7), (((3, 1), (0, 3), (2, 1), (1, 0), (0, 0), (0, 1), (3, 2), (2, 1), (0, 1), (0, 3), (1, 0), (0, 1), (3, 1), (2, 1), (3, 1), (0, 1), (3, 3), (0, 1), (2, 3), (2, 3), (2, 3), (2, 2), (2, 0), (1, 1), (2, 3), (2, 3), (0, 3), (2, 0), (3, 0), (0, 0), (0, 1), (1, 3), (0, 0), (1, 2), (1, 1), (0, 1), (3, 0), (2, 2), (2, 0), (0, 3), (0, 3), (1, 0), (3, 3), (3, 1), (3, 3), (3, 0), (3, 0), (3, 2), (2, 3), (1, 0)), 5), (((1, 2), (1, 2), (2, 2), (1, 3), (2, 3), (0, 3), (1, 0), (2, 2), (1, 0), (0, 1), (2, 0), (0, 1), (1, 0), (2, 0), (2, 3), (1, 0), (3, 1), (3, 1), (1, 1), (2, 0), (3, 1), (1, 1), (1, 2), (0, 3), (1, 2), (1, 3), (2, 3), (0, 2), (0, 3), (2, 2), (1, 2), (2, 0), (0, 3), (3, 0), (1, 3), (3, 3), (2, 1), (2, 3), (3, 2), (2, 3), (2, 1), (2, 0), (0, 0), (1, 0), (0, 2), (0, 0), (3, 1), (1, 2), (0, 1), (1, 2)), 5), (((0, 1), (0, 1), (1, 1), (1, 1), (0, 2), (3, 1), (0, 3), (1, 3), (0, 0), (0, 0), (0, 1), (3, 3), (1, 0), (2, 1), (1, 3), (2, 0), (3, 1), (2, 0), (3, 1), (2, 2), (0, 3), (2, 3), (0, 1), (0, 1), (0, 3), (0, 0), (0, 2), (3, 0), (0, 2), (0, 1), (3, 2), (0, 2), (0, 1), (3, 0), (3, 0), (3, 0), (1, 1), (2, 3), (0, 1), (3, 1), (1, 0), (2, 3), (1, 2), (2, 0), (1, 2), (1, 3), (3, 3), (2, 2), (2, 2), (1, 2)), 5), (((1, 3), (3, 1), (1, 0), (2, 2), (2, 1), (2, 3), (3, 0), (3, 0), (0, 3), (0, 1), (3, 2), (1, 2), (2, 1), (2, 0), (1, 2), (3, 0), (3, 2), (0, 1), (0, 0), (0, 1), (1, 1), (3, 0), (1, 1), (1, 0), (1, 2), (0, 3), (3, 2), (2, 3), (3, 3), (1, 0), (1, 3), (0, 0), (0, 3), (0, 0), (3, 1), (0, 2), (3, 2), (1, 0), (1, 0), (2, 0), (1, 1), (2, 1), (3, 0), (1, 1), (0, 1), (2, 1), (2, 3), (2, 1), (2, 1), (1, 3)), 7), (((0, 3), (3, 3), (2, 2), (1, 1), (3, 0), (0, 3), (3, 3), (0, 1), (1, 1), (2, 0), (2, 2), (1, 1), (0, 1), (2, 0), (1, 1), (1, 2), (0, 0), (0, 0), (3, 1), (0, 2), (3, 0), (1, 2), (2, 2), (0, 0), (3, 0), (2, 3), (1, 2), (3, 0), (2, 1), (1, 1), (1, 3), (2, 2), (2, 3), (3, 0), (2, 1), (3, 2), (3, 3), (1, 2), (0, 2), (1, 2), (2, 0), (1, 0), (2, 3), (1, 0), (3, 3), (2, 1), (3, 1), (1, 1), (1, 0), (1, 3)), 5), (((2, 2), (1, 0), (2, 2), (2, 3), (3, 1), (3, 3), (3, 2), (3, 0), (2, 3), (2, 1), (3, 3), (0, 2), (0, 0), (3, 1), (0, 2), (0, 1), (3, 3), (1, 0), (2, 1), (2, 1), (1, 2), (0, 3), (3, 3), (0, 1), (2, 3), (2, 2), (0, 2), (0, 3), (1, 2), (0, 2), (2, 1), (1, 1), (0, 2), (2, 3), (3, 2), (1, 3), (0, 0), (1, 1), (1, 0), (2, 3), (2, 1), (0, 1), (0, 3), (0, 3), (0, 0), (2, 3), (3, 0), (2, 0), (1, 0), (0, 0)), 7), (((2, 1), (0, 0), (1, 3), (0, 1), (1, 3), (2, 3), (0, 0), (0, 0), (1, 0), (1, 1), (1, 0), (2, 3), (3, 0), (2, 1), (2, 3), (3, 3), (2, 1), (0, 2), (0, 1), (3, 3), (0, 3), (2, 1), (2, 1), (0, 3), (2, 0), (3, 3), (0, 2), (2, 2), (1, 0), (1, 1), (3, 1), (1, 3), (1, 2), (2, 0), (2, 0), (2, 1), (2, 2), (1, 1), (1, 2), (1, 3), (2, 0), (3, 3), (2, 0), (3, 0), (1, 2), (1, 1), (3, 3), (3, 3), (3, 2), (2, 3)), 5), (((0, 3), (1, 0), (1, 1), (3, 0), (3, 2), (3, 2), (2, 3), (1, 2), (3, 3), (1, 3), (0, 0), (0, 2), (1, 0), (2, 1), (2, 1), (1, 1), (1, 3), (0, 3), (0, 0), (1, 2), (1, 1), (2, 1), (0, 0), (3, 1), (3, 0), (0, 1), (1, 3), (1, 3), (2, 1), (3, 2), (2, 0), (1, 2), (3, 2), (1, 2), (0, 2), (0, 0), (1, 0), (3, 1), (0, 2), (2, 2), (0, 3), (3, 0), (0, 0), (1, 1), (0, 1), (3, 1), (3, 3), (0, 0), (2, 2), (0, 3)), 7), (((1, 2), (3, 1), (0, 3), (3, 0), (1, 3), (1, 2), (2, 0), (3, 3), (3, 1), (0, 0), (2, 3), (3, 2), (3, 2), (1, 3), (1, 1), (0, 1), (2, 1), (2, 3), (2, 1), (2, 1), (1, 1), (1, 0), (2, 0), (2, 1), (3, 0), (1, 2), (3, 0), (1, 2), (2, 0), (2, 2), (3, 1), (2, 2), (2, 2), (3, 1), (1, 1), (2, 3), (0, 1), (0, 3), (1, 3), (3, 2), (0, 2), (3, 1), (1, 2), (1, 3), (2, 2), (2, 2), (0, 0), (0, 3), (3, 0), (3, 0)), 7), (((1, 0), (2, 0), (1, 3), (2, 1), (1, 2), (0, 2), (0, 1), (0, 2), (3, 0), (2, 2), (1, 2), (1, 0), (3, 0), (0, 0), (3, 2), (2, 3), (0, 1), (2, 1), (2, 3), (2, 2), (2, 0), (2, 0), (3, 2), (2, 3), (2, 0), (2, 1), (3, 1), (3, 2), (1, 2), (2, 0), (2, 2), (3, 0), (2, 1), (3, 2), (0, 1), (3, 2), (2, 2), (0, 3), (1, 2), (3, 2), (0, 1), (0, 2), (0, 2), (3, 2), (0, 0), (3, 1), (2, 1), (1, 0), (0, 0), (1, 3)), 7), (((1, 0), (1, 0), (1, 0), (0, 2), (1, 0), (3, 1), (0, 1), (0, 3), (2, 1), (1, 2), (3, 1), (3, 3), (0, 1), (2, 0), (2, 3), (1, 1), (1, 0), (0, 2), (2, 1), (2, 1), (2, 2), (1, 2), (0, 0), (2, 3), (3, 2), (1, 1), (3, 3), (0, 0), (2, 3), (1, 0), (1, 3), (0, 3), (0, 3), (0, 0), (2, 1), (3, 0), (2, 1), (0, 1), (2, 1), (0, 1), (2, 1), (0, 3), (3, 0), (2, 2), (0, 1), (0, 1), (1, 2), (3, 0), (0, 0), (2, 1)), 5), (((2, 0), (0, 1), (1, 3), (0, 2), (3, 2), (1, 3), (0, 0), (2, 0), (0, 3), (1, 0), (0, 1), (0, 1), (2, 0), (1, 1), (3, 1), (1, 1), (3, 0), (2, 0), (3, 2), (0, 0), (3, 1), (0, 1), (1, 3), (2, 1), (0, 3), (1, 1), (2, 1), (1, 0), (1, 1), (0, 1), (3, 3), (1, 0), (0, 3), (0, 1), (3, 1), (1, 0), (2, 1), (1, 1), (2, 2), (3, 0), (3, 3), (3, 0), (1, 3), (1, 1), (2, 3), (1, 1), (0, 0), (0, 0), (0, 0), (0, 3)), 7), (((1, 1), (2, 3), (1, 1), (2, 0), (0, 1), (3, 2), (2, 3), (2, 2), (3, 1), (3, 3), (1, 1), (0, 1), (3, 3), (2, 2), (0, 2), (0, 1), (0, 0), (3, 0), (2, 3), (1, 3), (3, 2), (2, 1), (0, 2), (3, 3), (0, 1), (2, 0), (0, 3), (2, 3), (3, 0), (0, 2), (3, 1), (3, 3), (2, 2), (0, 3), (1, 2), (2, 1), (3, 2), (0, 1), (0, 2), (0, 1), (3, 1), (2, 3), (0, 1), (3, 2), (3, 2), (0, 1), (1, 0), (0, 2), (2, 2), (0, 0)), 7), (((0, 0), (1, 0), (3, 2), (2, 0), (2, 2), (3, 3), (0, 1), (1, 2), (3, 2), (0, 3), (3, 2), (2, 1), (0, 0), (0, 3), (1, 3), (3, 1), (3, 2), (2, 1), (3, 3), (1, 0), (1, 3), (0, 2), (1, 3), (1, 0), (1, 0), (3, 0), (2, 3), (0, 1), (0, 2), (3, 1), (1, 0), (1, 3), (1, 1), (1, 1), (0, 3), (2, 1), (2, 2), (3, 2), (3, 0), (2, 3), (0, 3), (3, 0), (1, 3), (0, 1), (3, 3), (0, 3), (1, 2), (0, 0), (1, 1), (1, 1)), 7), (((3, 1), (1, 3), (0, 3), (1, 3), (1, 2), (2, 3), (2, 3), (1, 2), (0, 0), (2, 3), (2, 2), (1, 3), (0, 1), (0, 0), (1, 3), (1, 1), (0, 1), (1, 2), (0, 3), (1, 3), (0, 2), (3, 2), (1, 0), (1, 2), (0, 1), (2, 3), (3, 0), (3, 2), (2, 2), (3, 1), (3, 1), (2, 3), (0, 1), (0, 3), (2, 0), (1, 3), (1, 1), (3, 1), (1, 3), (0, 2), (0, 3), (1, 2), (2, 0), (1, 1), (0, 3), (1, 2), (1, 0), (3, 2), (2, 1), (3, 0)), 5), (((1, 2), (3, 2), (3, 3), (2, 3), (1, 3), (1, 0), (2, 1), (3, 2), (1, 3), (1, 3), (2, 2), (2, 1), (0, 1), (3, 0), (3, 1), (2, 0), (1, 0), (1, 0), (2, 0), (1, 2), (1, 0), (3, 0), (3, 0), (2, 2), (3, 2), (3, 0), (0, 0), (3, 3), (3, 2), (2, 3), (1, 2), (0, 2), (2, 1), (2, 1), (1, 0), (3, 0), (1, 2), (1, 3), (3, 1), (0, 1), (2, 0), (2, 0), (2, 0), (0, 2), (0, 1), (2, 1), (1, 1), (0, 2), (0, 2), (0, 1)), 5), (((3, 0), (3, 1), (3, 3), (3, 1), (2, 3), (1, 1), (2, 0), (2, 1), (2, 0), (0, 3), (0, 1), (2, 0), (1, 1), (1, 3), (1, 2), (1, 0), (0, 0), (1, 1), (2, 3), (0, 0), (2, 0), (2, 0), (0, 0), (0, 2), (2, 2), (3, 2), (1, 3), (1, 0), (0, 3), (3, 0), (2, 0), (0, 1), (1, 1), (1, 1), (0, 3), (1, 2), (2, 2), (0, 1), (2, 2), (3, 1), (0, 0), (0, 2), (3, 2), (2, 0), (1, 1), (1, 2), (2, 0), (0, 2), (3, 0), (1, 0)), 5), (((1, 0), (2, 2), (2, 3), (0, 1), (3, 2), (1, 3), (3, 3), (3, 0), (2, 0), (2, 2), (1, 1), (2, 0), (2, 1), (3, 1), (2, 0), (0, 3), (0, 2), (2, 2), (0, 1), (3, 1), (1, 3), (1, 3), (0, 2), (3, 3), (0, 2), (3, 3), (0, 3), (1, 2), (3, 3), (0, 1), (2, 2), (0, 3), (2, 2), (0, 3), (3, 0), (3, 1), (0, 1), (0, 1), (0, 2), (0, 0), (3, 2), (1, 2), (0, 0), (1, 0), (3, 2), (1, 2), (2, 2), (0, 0), (2, 0), (0, 3)), 7), (((1, 3), (0, 3), (2, 0), (2, 0), (3, 3), (2, 1), (1, 1), (3, 2), (2, 3), (3, 2), (2, 0), (1, 2), (2, 0), (1, 1), (1, 0), (0, 1), (1, 0), (0, 3), (0, 1), (3, 3), (2, 2), (1, 2), (0, 0), (1, 1), (2, 1), (1, 3), (1, 3), (0, 1), (0, 0), (1, 2), (1, 2), (3, 1), (3, 3), (3, 2), (0, 2), (0, 0), (2, 1), (1, 3), (1, 0), (1, 1), (0, 1), (0, 0), (0, 0), (2, 1), (2, 1), (3, 3), (0, 2), (3, 1), (0, 0), (0, 1)), 5), (((1, 3), (3, 1), (1, 1), (1, 1), (3, 0), (3, 1), (0, 2), (2, 1), (3, 3), (3, 3), (2, 3), (0, 1), (2, 0), (1, 0), (2, 0), (1, 1), (3, 1), (0, 1), (2, 3), (0, 3), (3, 3), (1, 1), (0, 3), (2, 3), (2, 1), (2, 1), (1, 0), (2, 2), (3, 0), (3, 3), (0, 1), (0, 1), (2, 2), (2, 0), (0, 2), (3, 2), (1, 2), (0, 3), (1, 2), (2, 1), (1, 3), (1, 0), (2, 1), (3, 1), (1, 1), (2, 3), (3, 0), (0, 1), (3, 2), (0, 0)), 7), (((3, 1), (3, 2), (3, 2), (3, 1), (3, 1), (2, 1), (1, 0), (1, 1), (3, 1), (2, 1), (0, 3), (0, 0), (2, 1), (0, 0), (0, 1), (2, 2), (3, 1), (1, 1), (3, 0), (2, 0), (0, 0), (1, 3), (0, 1), (0, 2), (1, 3), (0, 3), (3, 1), (3, 3), (0, 3), (2, 0), (0, 0), (2, 1), (3, 1), (3, 3), (1, 0), (3, 3), (3, 2), (2, 3), (2, 3), (1, 2), (2, 0), (2, 2), (2, 3), (0, 0), (0, 1), (2, 3), (1, 3), (2, 2), (2, 1), (2, 3)), 7), (((1, 2), (3, 0), (3, 2), (2, 3), (2, 3), (3, 1), (3, 2), (3, 3), (3, 2), (3, 1), (2, 0), (0, 2), (3, 2), (1, 1), (2, 0), (3, 3), (1, 3), (1, 3), (2, 3), (1, 3), (1, 0), (0, 0), (1, 3), (2, 2), (3, 0), (2, 2), (0, 3), (1, 2), (2, 2), (2, 3), (3, 0), (0, 1), (3, 1), (1, 0), (0, 3), (1, 1), (3, 0), (2, 2), (3, 3), (1, 2), (0, 3), (2, 1), (2, 2), (0, 0), (2, 0), (1, 1), (0, 1), (3, 1), (2, 1), (2, 3)), 7), (((3, 3), (2, 2), (2, 1), (3, 2), (3, 0), (3, 0), (2, 2), (1, 0), (2, 3), (1, 0), (1, 2), (0, 2), (2, 0), (0, 1), (0, 0), (3, 2), (1, 3), (0, 1), (0, 2), (2, 3), (0, 0), (3, 1), (3, 2), (2, 0), (0, 3), (2, 1), (0, 2), (1, 0), (3, 1), (1, 3), (1, 1), (1, 3), (3, 0), (2, 1), (2, 0), (0, 0), (1, 1), (1, 0), (1, 0), (3, 3), (2, 2), (2, 1), (1, 0), (2, 3), (0, 3), (0, 1), (3, 0), (1, 1), (0, 2), (1, 2)), 5), (((2, 0), (3, 2), (3, 1), (0, 1), (0, 3), (3, 0), (1, 0), (2, 1), (2, 1), (0, 1), (3, 2), (1, 3), (2, 2), (3, 0), (0, 0), (3, 0), (2, 0), (0, 1), (2, 3), (1, 3), (3, 0), (2, 2), (1, 1), (1, 1), (1, 3), (0, 1), (1, 2), (2, 0), (1, 2), (2, 0), (0, 0), (3, 2), (0, 0), (1, 3), (3, 1), (3, 3), (1, 3), (2, 2), (3, 2), (3, 0), (2, 2), (3, 0), (3, 3), (2, 1), (1, 1), (0, 3), (2, 2), (0, 2), (0, 3), (0, 2)), 7), (((1, 2), (0, 1), (1, 2), (3, 2), (3, 1), (3, 1), (1, 1), (1, 2), (1, 2), (2, 3), (1, 3), (3, 0), (3, 0), (0, 3), (3, 3), (1, 1), (3, 1), (1, 3), (0, 3), (3, 3), (0, 0), (2, 2), (1, 0), (2, 2), (3, 1), (3, 3), (1, 2), (3, 0), (0, 0), (2, 0), (0, 3), (1, 3), (3, 2), (1, 1), (0, 1), (2, 2), (2, 3), (2, 1), (3, 1), (2, 1), (3, 0), (3, 0), (2, 1), (3, 3), (3, 3), (1, 2), (2, 3), (2, 3), (1, 2), (1, 2)), 5), (((1, 1), (0, 2), (2, 0), (0, 0), (1, 3), (1, 2), (3, 3), (0, 1), (1, 3), (0, 3), (3, 1), (3, 0), (0, 2), (3, 2), (3, 2), (0, 3), (1, 3), (0, 3), (3, 2), (1, 0), (2, 2), (2, 1), (1, 3), (3, 3), (2, 1), (0, 0), (2, 1), (0, 1), (3, 2), (2, 2), (3, 2), (2, 3), (2, 2), (1, 0), (3, 0), (2, 3), (2, 3), (2, 2), (0, 1), (3, 0), (2, 3), (1, 1), (2, 3), (3, 3), (0, 1), (2, 3), (2, 1), (3, 3), (1, 2), (1, 2)), 5), (((3, 1), (0, 0), (1, 1), (3, 2), (1, 0), (1, 0), (3, 0), (0, 2), (1, 1), (2, 2), (0, 1), (1, 1), (1, 0), (0, 1), (3, 0), (0, 0), (1, 1), (3, 3), (2, 2), (0, 1), (2, 3), (1, 1), (0, 2), (3, 3), (2, 1), (3, 3), (2, 0), (2, 3), (2, 3), (3, 0), (2, 3), (0, 2), (3, 0), (0, 0), (2, 0), (0, 1), (0, 2), (2, 1), (0, 1), (3, 0), (0, 1), (2, 1), (2, 0), (3, 3), (1, 1), (2, 0), (0, 0), (3, 1), (1, 2), (3, 3)), 7), (((3, 3), (1, 1), (2, 2), (0, 1), (1, 2), (0, 2), (3, 0), (2, 3), (3, 1), (1, 3), (0, 3), (1, 2), (1, 2), (0, 3), (3, 1), (2, 2), (1, 0), (1, 1), (0, 0), (2, 3), (3, 2), (1, 0), (2, 0), (0, 0), (3, 3), (3, 3), (0, 0), (3, 1), (2, 1), (2, 2), (3, 3), (2, 1), (2, 1), (1, 3), (2, 0), (1, 0), (3, 3), (0, 2), (2, 2), (3, 2), (1, 3), (1, 1), (2, 3), (0, 2), (1, 1), (0, 0), (1, 3), (2, 0), (0, 3), (2, 2)), 5), (((2, 0), (2, 2), (1, 0), (0, 1), (3, 2), (2, 1), (1, 3), (2, 2), (3, 1), (1, 0), (0, 2), (1, 1), (2, 2), (2, 0), (0, 1), (3, 3), (2, 0), (1, 1), (3, 3), (1, 0), (1, 1), (0, 3), (3, 0), (2, 1), (2, 2), (2, 0), (3, 1), (2, 2), (1, 3), (2, 3), (0, 3), (1, 0), (0, 2), (2, 0), (2, 3), (0, 0), (2, 2), (3, 2), (2, 3), (2, 2), (0, 0), (3, 2), (1, 3), (1, 0), (1, 0), (3, 2), (2, 2), (0, 1), (2, 1), (2, 2)), 7), (((1, 1), (1, 1), (3, 2), (1, 3), (0, 2), (2, 0), (3, 3), (0, 2), (2, 2), (1, 3), (0, 3), (0, 2), (2, 2), (3, 1), (2, 0), (0, 0), (2, 1), (1, 1), (0, 3), (0, 3), (3, 3), (2, 2), (2, 1), (1, 1), (2, 1), (0, 1), (3, 1), (2, 2), (3, 1), (0, 2), (3, 3), (1, 3), (0, 3), (3, 3), (1, 0), (1, 2), (0, 3), (3, 0), (0, 3), (0, 1), (1, 2), (2, 2), (3, 2), (2, 1), (2, 1), (0, 0), (3, 1), (1, 1), (2, 3), (1, 2)), 5), (((1, 3), (3, 1), (0, 3), (3, 0), (1, 1), (0, 2), (2, 0), (1, 3), (3, 2), (3, 0), (2, 2), (2, 3), (1, 3), (2, 2), (2, 1), (2, 0), (0, 3), (0, 2), (0, 0), (1, 0), (3, 0), (2, 3), (2, 2), (2, 3), (0, 1), (2, 2), (2, 2), (1, 3), (0, 2), (3, 2), (1, 1), (0, 3), (1, 0), (2, 1), (0, 1), (2, 2), (2, 2), (3, 0), (3, 2), (3, 0), (3, 3), (1, 3), (0, 0), (3, 0), (3, 0), (0, 1), (2, 1), (1, 3), (3, 0), (2, 2)), 7), (((1, 3), (2, 0), (0, 3), (3, 1), (2, 2), (1, 2), (1, 2), (3, 2), (2, 2), (3, 0), (1, 3), (1, 2), (3, 0), (1, 2), (1, 3), (0, 1), (1, 2), (3, 0), (3, 0), (0, 2), (0, 2), (2, 2), (3, 3), (1, 3), (1, 2), (0, 1), (1, 3), (3, 1), (2, 1), (0, 3), (2, 0), (2, 3), (0, 1), (3, 0), (3, 1), (0, 2), (1, 3), (0, 1), (0, 1), (2, 3), (3, 1), (2, 0), (3, 0), (0, 1), (2, 1), (1, 1), (0, 2), (1, 3), (0, 2), (0, 2)), 7), (((0, 3), (1, 3), (1, 3), (1, 2), (2, 2), (1, 1), (3, 1), (3, 3), (0, 1), (3, 0), (1, 1), (3, 1), (0, 2), (1, 1), (0, 3), (0, 2), (0, 3), (2, 1), (1, 0), (1, 3), (3, 0), (2, 3), (1, 0), (2, 1), (2, 3), (2, 0), (0, 3), (2, 2), (2, 0), (2, 3), (2, 0), (2, 2), (2, 1), (2, 1), (1, 2), (2, 1), (2, 3), (2, 0), (2, 3), (2, 3), (3, 3), (1, 2), (2, 2), (1, 2), (2, 1), (2, 1), (2, 2), (2, 0), (3, 2), (3, 1)), 7), (((1, 1), (3, 1), (2, 3), (0, 0), (1, 2), (0, 1), (2, 0), (0, 2), (1, 2), (1, 2), (0, 2), (0, 0), (2, 1), (2, 1), (0, 0), (3, 2), (2, 2), (0, 3), (0, 0), (0, 0), (0, 3), (0, 2), (0, 2), (3, 3), (3, 2), (1, 0), (0, 2), (0, 1), (2, 2), (3, 1), (3, 1), (0, 3), (0, 1), (3, 0), (0, 0), (3, 2), (2, 3), (2, 0), (0, 1), (3, 1), (0, 0), (1, 3), (1, 3), (2, 1), (2, 1), (1, 2), (1, 3), (2, 2), (2, 0), (2, 3)), 5), (((2, 3), (1, 2), (2, 1), (3, 2), (1, 2), (1, 0), (3, 1), (0, 0), (2, 2), (3, 1), (2, 1), (1, 3), (3, 2), (3, 3), (3, 3), (0, 3), (1, 3), (2, 3), (0, 0), (3, 2), (3, 2), (3, 1), (3, 1), (2, 1), (0, 0), (1, 1), (2, 1), (2, 1), (2, 3), (1, 2), (0, 1), (2, 3), (3, 2), (3, 3), (0, 3), (3, 3), (3, 2), (1, 0), (2, 2), (0, 0), (0, 1), (2, 1), (0, 1), (1, 0), (3, 0), (2, 1), (0, 2), (2, 0), (2, 0), (3, 3)), 7), (((2, 2), (3, 0), (0, 3), (2, 3), (3, 0), (1, 2), (0, 2), (0, 1), (2, 3), (1, 0), (0, 3), (2, 2), (0, 3), (2, 0), (0, 1), (0, 1), (3, 0), (2, 2), (2, 2), (2, 3), (3, 0), (0, 2), (3, 0), (2, 3), (0, 1), (0, 1), (1, 0), (3, 3), (2, 0), (3, 1), (2, 2), (2, 3), (1, 0), (3, 1), (2, 1), (1, 1), (1, 2), (0, 0), (1, 2), (0, 0), (1, 1), (1, 2), (1, 1), (0, 3), (3, 1), (0, 0), (1, 3), (0, 2), (3, 1), (2, 0)), 7), (((1, 3), (1, 0), (0, 2), (2, 3), (2, 1), (1, 3), (1, 0), (1, 3), (2, 0), (2, 3), (0, 3), (1, 1), (1, 2), (3, 0), (1, 1), (3, 0), (1, 2), (1, 2), (0, 0), (0, 1), (3, 3), (2, 2), (3, 1), (2, 3), (3, 3), (2, 3), (3, 2), (3, 2), (2, 1), (1, 2), (2, 1), (2, 3), (3, 3), (1, 0), (0, 3), (0, 3), (1, 0), (1, 1), (2, 3), (0, 1), (3, 0), (2, 3), (3, 0), (0, 0), (2, 3), (3, 1), (1, 2), (2, 1), (2, 3), (3, 0)), 7), (((2, 3), (1, 2), (2, 3), (0, 0), (0, 0), (2, 1), (1, 2), (0, 2), (2, 0), (2, 0), (1, 1), (0, 2), (2, 0), (3, 0), (3, 3), (0, 1), (3, 3), (0, 3), (1, 2), (0, 2), (2, 2), (0, 2), (0, 2), (3, 2), (2, 2), (1, 1), (2, 0), (1, 1), (0, 3), (0, 1), (2, 2), (3, 2), (0, 2), (1, 3), (1, 3), (3, 3), (2, 2), (2, 1), (3, 3), (1, 1), (1, 2), (2, 3), (3, 2), (2, 3), (2, 0), (0, 2), (0, 2), (2, 0), (3, 0), (2, 1)), 7), (((0, 1), (0, 0), (2, 2), (2, 3), (2, 2), (1, 0), (0, 2), (3, 3), (3, 1), (2, 2), (3, 2), (2, 0), (2, 0), (3, 2), (2, 1), (1, 2), (3, 0), (0, 2), (1, 2), (3, 0), (2, 0), (1, 2), (2, 2), (0, 2), (1, 3), (3, 1), (2, 3), (3, 2), (2, 0), (0, 1), (1, 2), (0, 1), (0, 1), (2, 0), (1, 0), (0, 3), (2, 0), (0, 3), (3, 1), (0, 1), (2, 0), (0, 2), (0, 0), (1, 3), (0, 2), (2, 2), (1, 1), (1, 2), (1, 0), (1, 2)), 5), (((0, 0), (3, 0), (2, 3), (3, 0), (0, 2), (2, 2), (1, 0), (3, 2), (2, 3), (3, 1), (3, 2), (2, 0), (2, 2), (1, 3), (3, 0), (3, 0), (3, 2), (2, 2), (1, 0), (2, 3), (1, 2), (2, 2), (2, 0), (0, 1), (2, 2), (2, 1), (3, 0), (3, 2), (3, 0), (3, 3), (3, 2), (0, 2), (0, 0), (3, 3), (2, 2), (1, 1), (0, 3), (0, 2), (0, 0), (2, 3), (2, 1), (1, 0), (3, 3), (3, 3), (1, 0), (1, 0), (2, 0), (1, 3), (3, 3), (3, 2)), 7), (((2, 2), (0, 1), (3, 2), (3, 0), (1, 3), (3, 1), (1, 0), (3, 3), (2, 3), (1, 0), (3, 3), (1, 1), (0, 3), (0, 3), (3, 0), (2, 3), (2, 0), (0, 0), (3, 3), (3, 0), (1, 0), (3, 0), (2, 0), (0, 0), (3, 0), (1, 2), (2, 3), (2, 0), (1, 0), (2, 3), (3, 2), (3, 3), (2, 2), (3, 1), (0, 1), (2, 0), (3, 3), (3, 1), (3, 2), (1, 1), (2, 3), (0, 0), (2, 1), (0, 2), (0, 3), (0, 0), (1, 0), (3, 2), (0, 0), (3, 0)), 7), (((2, 0), (2, 3), (3, 3), (3, 3), (1, 1), (2, 2), (3, 1), (1, 2), (1, 3), (3, 0), (0, 0), (3, 3), (0, 3), (3, 0), (2, 1), (0, 0), (2, 2), (2, 0), (0, 0), (1, 3), (3, 1), (2, 2), (2, 3), (3, 3), (1, 1), (1, 0), (0, 0), (2, 1), (2, 1), (1, 0), (3, 3), (1, 0), (2, 0), (2, 1), (2, 1), (2, 2), (3, 2), (3, 2), (0, 1), (2, 0), (2, 3), (0, 2), (2, 0), (3, 1), (1, 0), (2, 2), (1, 3), (2, 2), (0, 0), (3, 0)), 5), (((1, 3), (3, 2), (2, 0), (0, 2), (2, 3), (3, 2), (0, 1), (3, 3), (0, 0), (0, 2), (2, 3), (1, 0), (3, 1), (2, 0), (2, 2), (0, 0), (1, 3), (3, 2), (3, 0), (0, 2), (0, 3), (0, 2), (2, 0), (1, 0), (2, 1), (2, 1), (3, 0), (1, 2), (1, 3), (1, 1), (2, 1), (0, 2), (1, 1), (3, 2), (1, 0), (0, 3), (2, 0), (3, 1), (0, 1), (0, 0), (3, 2), (0, 3), (2, 1), (3, 1), (2, 1), (3, 1), (1, 3), (2, 2), (2, 3), (3, 1)), 7)] \n",
      "\n",
      "Mapped Data:  [(((3, 1), (2, 3), (3, 0), (2, 3), (1, 2), (1, 2), (3, 0), (2, 2), (1, 0), (1, 0), (2, 2), (3, 1), (2, 0), (0, 0), (1, 1), (2, 1), (2, 2), (1, 1), (3, 2), (2, 1), (3, 0), (2, 3), (1, 0), (3, 2), (1, 3), (3, 0), (1, 1), (1, 3), (3, 3), (3, 2), (2, 2), (0, 2), (1, 2), (1, 2), (1, 2), (2, 0), (3, 1), (3, 2), (3, 1), (2, 2), (3, 0), (3, 2), (1, 3), (0, 2), (2, 3), (3, 1), (0, 2), (2, 3), (0, 0), (2, 0)), 7), (((1, 3), (3, 3), (1, 2), (3, 2), (3, 0), (0, 2), (3, 2), (0, 1), (3, 2), (0, 2), (3, 0), (2, 0), (2, 0), (1, 1), (3, 2), (1, 2), (2, 2), (3, 0), (2, 2), (3, 2), (3, 2), (0, 1), (0, 1), (3, 2), (2, 1), (1, 0), (2, 3), (2, 0), (2, 1), (0, 1), (3, 3), (1, 3), (1, 2), (2, 2), (1, 1), (3, 2), (1, 3), (2, 1), (2, 1), (0, 1), (3, 2), (2, 2), (1, 3), (2, 1), (3, 1), (0, 3), (3, 0), (2, 3), (2, 1), (1, 2)), 5), (((1, 0), (2, 3), (2, 3), (3, 0), (1, 0), (0, 3), (2, 2), (1, 3), (2, 1), (0, 1), (0, 0), (3, 2), (3, 2), (2, 1), (0, 2), (0, 2), (2, 3), (1, 3), (3, 3), (0, 3), (1, 1), (3, 1), (2, 1), (1, 2), (3, 2), (2, 2), (1, 1), (0, 2), (1, 2), (1, 3), (2, 1), (1, 1), (3, 1), (2, 2), (2, 0), (1, 3), (3, 1), (3, 1), (1, 3), (0, 3), (1, 2), (0, 2), (3, 1), (1, 3), (0, 2), (3, 3), (2, 1), (3, 2), (3, 1), (2, 3)), 7), (((0, 0), (3, 3), (3, 3), (0, 0), (3, 2), (3, 2), (3, 1), (0, 2), (0, 2), (3, 3), (0, 3), (2, 0), (2, 0), (2, 1), (1, 3), (2, 0), (3, 3), (1, 2), (3, 0), (0, 3), (1, 0), (2, 3), (3, 2), (2, 3), (2, 0), (3, 1), (3, 0), (2, 0), (1, 0), (0, 0), (1, 2), (1, 1), (0, 3), (0, 2), (3, 1), (2, 2), (2, 1), (1, 1), (2, 1), (1, 2), (2, 0), (1, 1), (2, 1), (3, 1), (2, 3), (0, 0), (2, 0), (1, 2), (2, 3), (3, 3)), 7), (((2, 2), (3, 1), (0, 1), (2, 3), (0, 1), (3, 0), (2, 1), (1, 1), (1, 0), (2, 0), (1, 3), (0, 2), (0, 2), (1, 1), (2, 1), (3, 2), (2, 2), (1, 3), (1, 2), (1, 3), (1, 3), (0, 2), (1, 3), (0, 1), (0, 0), (0, 2), (3, 1), (3, 1), (0, 0), (2, 3), (1, 2), (0, 3), (0, 0), (1, 1), (3, 1), (3, 3), (0, 2), (3, 3), (2, 0), (0, 1), (3, 3), (3, 3), (1, 1), (3, 1), (3, 0), (0, 1), (0, 2), (1, 2), (1, 0), (3, 0)), 5), (((3, 0), (1, 3), (0, 1), (1, 1), (2, 2), (1, 1), (2, 1), (0, 1), (2, 3), (2, 2), (3, 3), (0, 0), (1, 1), (0, 2), (2, 2), (1, 2), (3, 2), (2, 3), (2, 0), (2, 0), (2, 2), (1, 2), (0, 3), (2, 0), (2, 1), (1, 3), (0, 3), (0, 2), (1, 1), (0, 3), (0, 3), (3, 1), (3, 3), (3, 0), (1, 3), (1, 2), (2, 2), (2, 2), (3, 2), (1, 3), (3, 2), (2, 3), (1, 2), (0, 3), (0, 2), (0, 2), (3, 2), (3, 1), (0, 2), (0, 1)), 5), (((3, 0), (2, 3), (1, 3), (3, 2), (3, 3), (2, 1), (1, 3), (1, 3), (0, 1), (0, 2), (0, 1), (3, 3), (3, 2), (3, 3), (1, 2), (2, 0), (0, 0), (2, 0), (0, 2), (2, 2), (1, 2), (1, 2), (1, 0), (0, 3), (0, 3), (0, 2), (1, 3), (1, 1), (0, 2), (1, 3), (0, 3), (3, 3), (3, 3), (1, 0), (1, 3), (3, 3), (0, 1), (1, 1), (0, 0), (0, 2), (3, 2), (2, 0), (0, 3), (1, 3), (2, 1), (1, 3), (0, 2), (0, 1), (1, 1), (2, 2)), 7), (((3, 1), (0, 3), (2, 1), (1, 0), (0, 0), (0, 1), (3, 2), (2, 1), (0, 1), (0, 3), (1, 0), (0, 1), (3, 1), (2, 1), (3, 1), (0, 1), (3, 3), (0, 1), (2, 3), (2, 3), (2, 3), (2, 2), (2, 0), (1, 1), (2, 3), (2, 3), (0, 3), (2, 0), (3, 0), (0, 0), (0, 1), (1, 3), (0, 0), (1, 2), (1, 1), (0, 1), (3, 0), (2, 2), (2, 0), (0, 3), (0, 3), (1, 0), (3, 3), (3, 1), (3, 3), (3, 0), (3, 0), (3, 2), (2, 3), (1, 0)), 5), (((1, 2), (1, 2), (2, 2), (1, 3), (2, 3), (0, 3), (1, 0), (2, 2), (1, 0), (0, 1), (2, 0), (0, 1), (1, 0), (2, 0), (2, 3), (1, 0), (3, 1), (3, 1), (1, 1), (2, 0), (3, 1), (1, 1), (1, 2), (0, 3), (1, 2), (1, 3), (2, 3), (0, 2), (0, 3), (2, 2), (1, 2), (2, 0), (0, 3), (3, 0), (1, 3), (3, 3), (2, 1), (2, 3), (3, 2), (2, 3), (2, 1), (2, 0), (0, 0), (1, 0), (0, 2), (0, 0), (3, 1), (1, 2), (0, 1), (1, 2)), 5), (((0, 1), (0, 1), (1, 1), (1, 1), (0, 2), (3, 1), (0, 3), (1, 3), (0, 0), (0, 0), (0, 1), (3, 3), (1, 0), (2, 1), (1, 3), (2, 0), (3, 1), (2, 0), (3, 1), (2, 2), (0, 3), (2, 3), (0, 1), (0, 1), (0, 3), (0, 0), (0, 2), (3, 0), (0, 2), (0, 1), (3, 2), (0, 2), (0, 1), (3, 0), (3, 0), (3, 0), (1, 1), (2, 3), (0, 1), (3, 1), (1, 0), (2, 3), (1, 2), (2, 0), (1, 2), (1, 3), (3, 3), (2, 2), (2, 2), (1, 2)), 5), (((1, 3), (3, 1), (1, 0), (2, 2), (2, 1), (2, 3), (3, 0), (3, 0), (0, 3), (0, 1), (3, 2), (1, 2), (2, 1), (2, 0), (1, 2), (3, 0), (3, 2), (0, 1), (0, 0), (0, 1), (1, 1), (3, 0), (1, 1), (1, 0), (1, 2), (0, 3), (3, 2), (2, 3), (3, 3), (1, 0), (1, 3), (0, 0), (0, 3), (0, 0), (3, 1), (0, 2), (3, 2), (1, 0), (1, 0), (2, 0), (1, 1), (2, 1), (3, 0), (1, 1), (0, 1), (2, 1), (2, 3), (2, 1), (2, 1), (1, 3)), 7), (((0, 3), (3, 3), (2, 2), (1, 1), (3, 0), (0, 3), (3, 3), (0, 1), (1, 1), (2, 0), (2, 2), (1, 1), (0, 1), (2, 0), (1, 1), (1, 2), (0, 0), (0, 0), (3, 1), (0, 2), (3, 0), (1, 2), (2, 2), (0, 0), (3, 0), (2, 3), (1, 2), (3, 0), (2, 1), (1, 1), (1, 3), (2, 2), (2, 3), (3, 0), (2, 1), (3, 2), (3, 3), (1, 2), (0, 2), (1, 2), (2, 0), (1, 0), (2, 3), (1, 0), (3, 3), (2, 1), (3, 1), (1, 1), (1, 0), (1, 3)), 5), (((2, 2), (1, 0), (2, 2), (2, 3), (3, 1), (3, 3), (3, 2), (3, 0), (2, 3), (2, 1), (3, 3), (0, 2), (0, 0), (3, 1), (0, 2), (0, 1), (3, 3), (1, 0), (2, 1), (2, 1), (1, 2), (0, 3), (3, 3), (0, 1), (2, 3), (2, 2), (0, 2), (0, 3), (1, 2), (0, 2), (2, 1), (1, 1), (0, 2), (2, 3), (3, 2), (1, 3), (0, 0), (1, 1), (1, 0), (2, 3), (2, 1), (0, 1), (0, 3), (0, 3), (0, 0), (2, 3), (3, 0), (2, 0), (1, 0), (0, 0)), 7), (((2, 1), (0, 0), (1, 3), (0, 1), (1, 3), (2, 3), (0, 0), (0, 0), (1, 0), (1, 1), (1, 0), (2, 3), (3, 0), (2, 1), (2, 3), (3, 3), (2, 1), (0, 2), (0, 1), (3, 3), (0, 3), (2, 1), (2, 1), (0, 3), (2, 0), (3, 3), (0, 2), (2, 2), (1, 0), (1, 1), (3, 1), (1, 3), (1, 2), (2, 0), (2, 0), (2, 1), (2, 2), (1, 1), (1, 2), (1, 3), (2, 0), (3, 3), (2, 0), (3, 0), (1, 2), (1, 1), (3, 3), (3, 3), (3, 2), (2, 3)), 5), (((0, 3), (1, 0), (1, 1), (3, 0), (3, 2), (3, 2), (2, 3), (1, 2), (3, 3), (1, 3), (0, 0), (0, 2), (1, 0), (2, 1), (2, 1), (1, 1), (1, 3), (0, 3), (0, 0), (1, 2), (1, 1), (2, 1), (0, 0), (3, 1), (3, 0), (0, 1), (1, 3), (1, 3), (2, 1), (3, 2), (2, 0), (1, 2), (3, 2), (1, 2), (0, 2), (0, 0), (1, 0), (3, 1), (0, 2), (2, 2), (0, 3), (3, 0), (0, 0), (1, 1), (0, 1), (3, 1), (3, 3), (0, 0), (2, 2), (0, 3)), 7), (((1, 2), (3, 1), (0, 3), (3, 0), (1, 3), (1, 2), (2, 0), (3, 3), (3, 1), (0, 0), (2, 3), (3, 2), (3, 2), (1, 3), (1, 1), (0, 1), (2, 1), (2, 3), (2, 1), (2, 1), (1, 1), (1, 0), (2, 0), (2, 1), (3, 0), (1, 2), (3, 0), (1, 2), (2, 0), (2, 2), (3, 1), (2, 2), (2, 2), (3, 1), (1, 1), (2, 3), (0, 1), (0, 3), (1, 3), (3, 2), (0, 2), (3, 1), (1, 2), (1, 3), (2, 2), (2, 2), (0, 0), (0, 3), (3, 0), (3, 0)), 7), (((1, 0), (2, 0), (1, 3), (2, 1), (1, 2), (0, 2), (0, 1), (0, 2), (3, 0), (2, 2), (1, 2), (1, 0), (3, 0), (0, 0), (3, 2), (2, 3), (0, 1), (2, 1), (2, 3), (2, 2), (2, 0), (2, 0), (3, 2), (2, 3), (2, 0), (2, 1), (3, 1), (3, 2), (1, 2), (2, 0), (2, 2), (3, 0), (2, 1), (3, 2), (0, 1), (3, 2), (2, 2), (0, 3), (1, 2), (3, 2), (0, 1), (0, 2), (0, 2), (3, 2), (0, 0), (3, 1), (2, 1), (1, 0), (0, 0), (1, 3)), 7), (((1, 0), (1, 0), (1, 0), (0, 2), (1, 0), (3, 1), (0, 1), (0, 3), (2, 1), (1, 2), (3, 1), (3, 3), (0, 1), (2, 0), (2, 3), (1, 1), (1, 0), (0, 2), (2, 1), (2, 1), (2, 2), (1, 2), (0, 0), (2, 3), (3, 2), (1, 1), (3, 3), (0, 0), (2, 3), (1, 0), (1, 3), (0, 3), (0, 3), (0, 0), (2, 1), (3, 0), (2, 1), (0, 1), (2, 1), (0, 1), (2, 1), (0, 3), (3, 0), (2, 2), (0, 1), (0, 1), (1, 2), (3, 0), (0, 0), (2, 1)), 5), (((2, 0), (0, 1), (1, 3), (0, 2), (3, 2), (1, 3), (0, 0), (2, 0), (0, 3), (1, 0), (0, 1), (0, 1), (2, 0), (1, 1), (3, 1), (1, 1), (3, 0), (2, 0), (3, 2), (0, 0), (3, 1), (0, 1), (1, 3), (2, 1), (0, 3), (1, 1), (2, 1), (1, 0), (1, 1), (0, 1), (3, 3), (1, 0), (0, 3), (0, 1), (3, 1), (1, 0), (2, 1), (1, 1), (2, 2), (3, 0), (3, 3), (3, 0), (1, 3), (1, 1), (2, 3), (1, 1), (0, 0), (0, 0), (0, 0), (0, 3)), 7), (((1, 1), (2, 3), (1, 1), (2, 0), (0, 1), (3, 2), (2, 3), (2, 2), (3, 1), (3, 3), (1, 1), (0, 1), (3, 3), (2, 2), (0, 2), (0, 1), (0, 0), (3, 0), (2, 3), (1, 3), (3, 2), (2, 1), (0, 2), (3, 3), (0, 1), (2, 0), (0, 3), (2, 3), (3, 0), (0, 2), (3, 1), (3, 3), (2, 2), (0, 3), (1, 2), (2, 1), (3, 2), (0, 1), (0, 2), (0, 1), (3, 1), (2, 3), (0, 1), (3, 2), (3, 2), (0, 1), (1, 0), (0, 2), (2, 2), (0, 0)), 7), (((0, 0), (1, 0), (3, 2), (2, 0), (2, 2), (3, 3), (0, 1), (1, 2), (3, 2), (0, 3), (3, 2), (2, 1), (0, 0), (0, 3), (1, 3), (3, 1), (3, 2), (2, 1), (3, 3), (1, 0), (1, 3), (0, 2), (1, 3), (1, 0), (1, 0), (3, 0), (2, 3), (0, 1), (0, 2), (3, 1), (1, 0), (1, 3), (1, 1), (1, 1), (0, 3), (2, 1), (2, 2), (3, 2), (3, 0), (2, 3), (0, 3), (3, 0), (1, 3), (0, 1), (3, 3), (0, 3), (1, 2), (0, 0), (1, 1), (1, 1)), 7), (((3, 1), (1, 3), (0, 3), (1, 3), (1, 2), (2, 3), (2, 3), (1, 2), (0, 0), (2, 3), (2, 2), (1, 3), (0, 1), (0, 0), (1, 3), (1, 1), (0, 1), (1, 2), (0, 3), (1, 3), (0, 2), (3, 2), (1, 0), (1, 2), (0, 1), (2, 3), (3, 0), (3, 2), (2, 2), (3, 1), (3, 1), (2, 3), (0, 1), (0, 3), (2, 0), (1, 3), (1, 1), (3, 1), (1, 3), (0, 2), (0, 3), (1, 2), (2, 0), (1, 1), (0, 3), (1, 2), (1, 0), (3, 2), (2, 1), (3, 0)), 5), (((1, 2), (3, 2), (3, 3), (2, 3), (1, 3), (1, 0), (2, 1), (3, 2), (1, 3), (1, 3), (2, 2), (2, 1), (0, 1), (3, 0), (3, 1), (2, 0), (1, 0), (1, 0), (2, 0), (1, 2), (1, 0), (3, 0), (3, 0), (2, 2), (3, 2), (3, 0), (0, 0), (3, 3), (3, 2), (2, 3), (1, 2), (0, 2), (2, 1), (2, 1), (1, 0), (3, 0), (1, 2), (1, 3), (3, 1), (0, 1), (2, 0), (2, 0), (2, 0), (0, 2), (0, 1), (2, 1), (1, 1), (0, 2), (0, 2), (0, 1)), 5), (((3, 0), (3, 1), (3, 3), (3, 1), (2, 3), (1, 1), (2, 0), (2, 1), (2, 0), (0, 3), (0, 1), (2, 0), (1, 1), (1, 3), (1, 2), (1, 0), (0, 0), (1, 1), (2, 3), (0, 0), (2, 0), (2, 0), (0, 0), (0, 2), (2, 2), (3, 2), (1, 3), (1, 0), (0, 3), (3, 0), (2, 0), (0, 1), (1, 1), (1, 1), (0, 3), (1, 2), (2, 2), (0, 1), (2, 2), (3, 1), (0, 0), (0, 2), (3, 2), (2, 0), (1, 1), (1, 2), (2, 0), (0, 2), (3, 0), (1, 0)), 5), (((1, 0), (2, 2), (2, 3), (0, 1), (3, 2), (1, 3), (3, 3), (3, 0), (2, 0), (2, 2), (1, 1), (2, 0), (2, 1), (3, 1), (2, 0), (0, 3), (0, 2), (2, 2), (0, 1), (3, 1), (1, 3), (1, 3), (0, 2), (3, 3), (0, 2), (3, 3), (0, 3), (1, 2), (3, 3), (0, 1), (2, 2), (0, 3), (2, 2), (0, 3), (3, 0), (3, 1), (0, 1), (0, 1), (0, 2), (0, 0), (3, 2), (1, 2), (0, 0), (1, 0), (3, 2), (1, 2), (2, 2), (0, 0), (2, 0), (0, 3)), 7), (((1, 3), (0, 3), (2, 0), (2, 0), (3, 3), (2, 1), (1, 1), (3, 2), (2, 3), (3, 2), (2, 0), (1, 2), (2, 0), (1, 1), (1, 0), (0, 1), (1, 0), (0, 3), (0, 1), (3, 3), (2, 2), (1, 2), (0, 0), (1, 1), (2, 1), (1, 3), (1, 3), (0, 1), (0, 0), (1, 2), (1, 2), (3, 1), (3, 3), (3, 2), (0, 2), (0, 0), (2, 1), (1, 3), (1, 0), (1, 1), (0, 1), (0, 0), (0, 0), (2, 1), (2, 1), (3, 3), (0, 2), (3, 1), (0, 0), (0, 1)), 5), (((1, 3), (3, 1), (1, 1), (1, 1), (3, 0), (3, 1), (0, 2), (2, 1), (3, 3), (3, 3), (2, 3), (0, 1), (2, 0), (1, 0), (2, 0), (1, 1), (3, 1), (0, 1), (2, 3), (0, 3), (3, 3), (1, 1), (0, 3), (2, 3), (2, 1), (2, 1), (1, 0), (2, 2), (3, 0), (3, 3), (0, 1), (0, 1), (2, 2), (2, 0), (0, 2), (3, 2), (1, 2), (0, 3), (1, 2), (2, 1), (1, 3), (1, 0), (2, 1), (3, 1), (1, 1), (2, 3), (3, 0), (0, 1), (3, 2), (0, 0)), 7), (((3, 1), (3, 2), (3, 2), (3, 1), (3, 1), (2, 1), (1, 0), (1, 1), (3, 1), (2, 1), (0, 3), (0, 0), (2, 1), (0, 0), (0, 1), (2, 2), (3, 1), (1, 1), (3, 0), (2, 0), (0, 0), (1, 3), (0, 1), (0, 2), (1, 3), (0, 3), (3, 1), (3, 3), (0, 3), (2, 0), (0, 0), (2, 1), (3, 1), (3, 3), (1, 0), (3, 3), (3, 2), (2, 3), (2, 3), (1, 2), (2, 0), (2, 2), (2, 3), (0, 0), (0, 1), (2, 3), (1, 3), (2, 2), (2, 1), (2, 3)), 7), (((1, 2), (3, 0), (3, 2), (2, 3), (2, 3), (3, 1), (3, 2), (3, 3), (3, 2), (3, 1), (2, 0), (0, 2), (3, 2), (1, 1), (2, 0), (3, 3), (1, 3), (1, 3), (2, 3), (1, 3), (1, 0), (0, 0), (1, 3), (2, 2), (3, 0), (2, 2), (0, 3), (1, 2), (2, 2), (2, 3), (3, 0), (0, 1), (3, 1), (1, 0), (0, 3), (1, 1), (3, 0), (2, 2), (3, 3), (1, 2), (0, 3), (2, 1), (2, 2), (0, 0), (2, 0), (1, 1), (0, 1), (3, 1), (2, 1), (2, 3)), 7), (((3, 3), (2, 2), (2, 1), (3, 2), (3, 0), (3, 0), (2, 2), (1, 0), (2, 3), (1, 0), (1, 2), (0, 2), (2, 0), (0, 1), (0, 0), (3, 2), (1, 3), (0, 1), (0, 2), (2, 3), (0, 0), (3, 1), (3, 2), (2, 0), (0, 3), (2, 1), (0, 2), (1, 0), (3, 1), (1, 3), (1, 1), (1, 3), (3, 0), (2, 1), (2, 0), (0, 0), (1, 1), (1, 0), (1, 0), (3, 3), (2, 2), (2, 1), (1, 0), (2, 3), (0, 3), (0, 1), (3, 0), (1, 1), (0, 2), (1, 2)), 5), (((2, 0), (3, 2), (3, 1), (0, 1), (0, 3), (3, 0), (1, 0), (2, 1), (2, 1), (0, 1), (3, 2), (1, 3), (2, 2), (3, 0), (0, 0), (3, 0), (2, 0), (0, 1), (2, 3), (1, 3), (3, 0), (2, 2), (1, 1), (1, 1), (1, 3), (0, 1), (1, 2), (2, 0), (1, 2), (2, 0), (0, 0), (3, 2), (0, 0), (1, 3), (3, 1), (3, 3), (1, 3), (2, 2), (3, 2), (3, 0), (2, 2), (3, 0), (3, 3), (2, 1), (1, 1), (0, 3), (2, 2), (0, 2), (0, 3), (0, 2)), 7), (((1, 2), (0, 1), (1, 2), (3, 2), (3, 1), (3, 1), (1, 1), (1, 2), (1, 2), (2, 3), (1, 3), (3, 0), (3, 0), (0, 3), (3, 3), (1, 1), (3, 1), (1, 3), (0, 3), (3, 3), (0, 0), (2, 2), (1, 0), (2, 2), (3, 1), (3, 3), (1, 2), (3, 0), (0, 0), (2, 0), (0, 3), (1, 3), (3, 2), (1, 1), (0, 1), (2, 2), (2, 3), (2, 1), (3, 1), (2, 1), (3, 0), (3, 0), (2, 1), (3, 3), (3, 3), (1, 2), (2, 3), (2, 3), (1, 2), (1, 2)), 5), (((1, 1), (0, 2), (2, 0), (0, 0), (1, 3), (1, 2), (3, 3), (0, 1), (1, 3), (0, 3), (3, 1), (3, 0), (0, 2), (3, 2), (3, 2), (0, 3), (1, 3), (0, 3), (3, 2), (1, 0), (2, 2), (2, 1), (1, 3), (3, 3), (2, 1), (0, 0), (2, 1), (0, 1), (3, 2), (2, 2), (3, 2), (2, 3), (2, 2), (1, 0), (3, 0), (2, 3), (2, 3), (2, 2), (0, 1), (3, 0), (2, 3), (1, 1), (2, 3), (3, 3), (0, 1), (2, 3), (2, 1), (3, 3), (1, 2), (1, 2)), 5), (((3, 1), (0, 0), (1, 1), (3, 2), (1, 0), (1, 0), (3, 0), (0, 2), (1, 1), (2, 2), (0, 1), (1, 1), (1, 0), (0, 1), (3, 0), (0, 0), (1, 1), (3, 3), (2, 2), (0, 1), (2, 3), (1, 1), (0, 2), (3, 3), (2, 1), (3, 3), (2, 0), (2, 3), (2, 3), (3, 0), (2, 3), (0, 2), (3, 0), (0, 0), (2, 0), (0, 1), (0, 2), (2, 1), (0, 1), (3, 0), (0, 1), (2, 1), (2, 0), (3, 3), (1, 1), (2, 0), (0, 0), (3, 1), (1, 2), (3, 3)), 7), (((3, 3), (1, 1), (2, 2), (0, 1), (1, 2), (0, 2), (3, 0), (2, 3), (3, 1), (1, 3), (0, 3), (1, 2), (1, 2), (0, 3), (3, 1), (2, 2), (1, 0), (1, 1), (0, 0), (2, 3), (3, 2), (1, 0), (2, 0), (0, 0), (3, 3), (3, 3), (0, 0), (3, 1), (2, 1), (2, 2), (3, 3), (2, 1), (2, 1), (1, 3), (2, 0), (1, 0), (3, 3), (0, 2), (2, 2), (3, 2), (1, 3), (1, 1), (2, 3), (0, 2), (1, 1), (0, 0), (1, 3), (2, 0), (0, 3), (2, 2)), 5), (((2, 0), (2, 2), (1, 0), (0, 1), (3, 2), (2, 1), (1, 3), (2, 2), (3, 1), (1, 0), (0, 2), (1, 1), (2, 2), (2, 0), (0, 1), (3, 3), (2, 0), (1, 1), (3, 3), (1, 0), (1, 1), (0, 3), (3, 0), (2, 1), (2, 2), (2, 0), (3, 1), (2, 2), (1, 3), (2, 3), (0, 3), (1, 0), (0, 2), (2, 0), (2, 3), (0, 0), (2, 2), (3, 2), (2, 3), (2, 2), (0, 0), (3, 2), (1, 3), (1, 0), (1, 0), (3, 2), (2, 2), (0, 1), (2, 1), (2, 2)), 7), (((1, 1), (1, 1), (3, 2), (1, 3), (0, 2), (2, 0), (3, 3), (0, 2), (2, 2), (1, 3), (0, 3), (0, 2), (2, 2), (3, 1), (2, 0), (0, 0), (2, 1), (1, 1), (0, 3), (0, 3), (3, 3), (2, 2), (2, 1), (1, 1), (2, 1), (0, 1), (3, 1), (2, 2), (3, 1), (0, 2), (3, 3), (1, 3), (0, 3), (3, 3), (1, 0), (1, 2), (0, 3), (3, 0), (0, 3), (0, 1), (1, 2), (2, 2), (3, 2), (2, 1), (2, 1), (0, 0), (3, 1), (1, 1), (2, 3), (1, 2)), 5), (((1, 3), (3, 1), (0, 3), (3, 0), (1, 1), (0, 2), (2, 0), (1, 3), (3, 2), (3, 0), (2, 2), (2, 3), (1, 3), (2, 2), (2, 1), (2, 0), (0, 3), (0, 2), (0, 0), (1, 0), (3, 0), (2, 3), (2, 2), (2, 3), (0, 1), (2, 2), (2, 2), (1, 3), (0, 2), (3, 2), (1, 1), (0, 3), (1, 0), (2, 1), (0, 1), (2, 2), (2, 2), (3, 0), (3, 2), (3, 0), (3, 3), (1, 3), (0, 0), (3, 0), (3, 0), (0, 1), (2, 1), (1, 3), (3, 0), (2, 2)), 7), (((1, 3), (2, 0), (0, 3), (3, 1), (2, 2), (1, 2), (1, 2), (3, 2), (2, 2), (3, 0), (1, 3), (1, 2), (3, 0), (1, 2), (1, 3), (0, 1), (1, 2), (3, 0), (3, 0), (0, 2), (0, 2), (2, 2), (3, 3), (1, 3), (1, 2), (0, 1), (1, 3), (3, 1), (2, 1), (0, 3), (2, 0), (2, 3), (0, 1), (3, 0), (3, 1), (0, 2), (1, 3), (0, 1), (0, 1), (2, 3), (3, 1), (2, 0), (3, 0), (0, 1), (2, 1), (1, 1), (0, 2), (1, 3), (0, 2), (0, 2)), 7), (((0, 3), (1, 3), (1, 3), (1, 2), (2, 2), (1, 1), (3, 1), (3, 3), (0, 1), (3, 0), (1, 1), (3, 1), (0, 2), (1, 1), (0, 3), (0, 2), (0, 3), (2, 1), (1, 0), (1, 3), (3, 0), (2, 3), (1, 0), (2, 1), (2, 3), (2, 0), (0, 3), (2, 2), (2, 0), (2, 3), (2, 0), (2, 2), (2, 1), (2, 1), (1, 2), (2, 1), (2, 3), (2, 0), (2, 3), (2, 3), (3, 3), (1, 2), (2, 2), (1, 2), (2, 1), (2, 1), (2, 2), (2, 0), (3, 2), (3, 1)), 7), (((1, 1), (3, 1), (2, 3), (0, 0), (1, 2), (0, 1), (2, 0), (0, 2), (1, 2), (1, 2), (0, 2), (0, 0), (2, 1), (2, 1), (0, 0), (3, 2), (2, 2), (0, 3), (0, 0), (0, 0), (0, 3), (0, 2), (0, 2), (3, 3), (3, 2), (1, 0), (0, 2), (0, 1), (2, 2), (3, 1), (3, 1), (0, 3), (0, 1), (3, 0), (0, 0), (3, 2), (2, 3), (2, 0), (0, 1), (3, 1), (0, 0), (1, 3), (1, 3), (2, 1), (2, 1), (1, 2), (1, 3), (2, 2), (2, 0), (2, 3)), 5), (((2, 3), (1, 2), (2, 1), (3, 2), (1, 2), (1, 0), (3, 1), (0, 0), (2, 2), (3, 1), (2, 1), (1, 3), (3, 2), (3, 3), (3, 3), (0, 3), (1, 3), (2, 3), (0, 0), (3, 2), (3, 2), (3, 1), (3, 1), (2, 1), (0, 0), (1, 1), (2, 1), (2, 1), (2, 3), (1, 2), (0, 1), (2, 3), (3, 2), (3, 3), (0, 3), (3, 3), (3, 2), (1, 0), (2, 2), (0, 0), (0, 1), (2, 1), (0, 1), (1, 0), (3, 0), (2, 1), (0, 2), (2, 0), (2, 0), (3, 3)), 7), (((2, 2), (3, 0), (0, 3), (2, 3), (3, 0), (1, 2), (0, 2), (0, 1), (2, 3), (1, 0), (0, 3), (2, 2), (0, 3), (2, 0), (0, 1), (0, 1), (3, 0), (2, 2), (2, 2), (2, 3), (3, 0), (0, 2), (3, 0), (2, 3), (0, 1), (0, 1), (1, 0), (3, 3), (2, 0), (3, 1), (2, 2), (2, 3), (1, 0), (3, 1), (2, 1), (1, 1), (1, 2), (0, 0), (1, 2), (0, 0), (1, 1), (1, 2), (1, 1), (0, 3), (3, 1), (0, 0), (1, 3), (0, 2), (3, 1), (2, 0)), 7), (((1, 3), (1, 0), (0, 2), (2, 3), (2, 1), (1, 3), (1, 0), (1, 3), (2, 0), (2, 3), (0, 3), (1, 1), (1, 2), (3, 0), (1, 1), (3, 0), (1, 2), (1, 2), (0, 0), (0, 1), (3, 3), (2, 2), (3, 1), (2, 3), (3, 3), (2, 3), (3, 2), (3, 2), (2, 1), (1, 2), (2, 1), (2, 3), (3, 3), (1, 0), (0, 3), (0, 3), (1, 0), (1, 1), (2, 3), (0, 1), (3, 0), (2, 3), (3, 0), (0, 0), (2, 3), (3, 1), (1, 2), (2, 1), (2, 3), (3, 0)), 7), (((2, 3), (1, 2), (2, 3), (0, 0), (0, 0), (2, 1), (1, 2), (0, 2), (2, 0), (2, 0), (1, 1), (0, 2), (2, 0), (3, 0), (3, 3), (0, 1), (3, 3), (0, 3), (1, 2), (0, 2), (2, 2), (0, 2), (0, 2), (3, 2), (2, 2), (1, 1), (2, 0), (1, 1), (0, 3), (0, 1), (2, 2), (3, 2), (0, 2), (1, 3), (1, 3), (3, 3), (2, 2), (2, 1), (3, 3), (1, 1), (1, 2), (2, 3), (3, 2), (2, 3), (2, 0), (0, 2), (0, 2), (2, 0), (3, 0), (2, 1)), 7), (((0, 1), (0, 0), (2, 2), (2, 3), (2, 2), (1, 0), (0, 2), (3, 3), (3, 1), (2, 2), (3, 2), (2, 0), (2, 0), (3, 2), (2, 1), (1, 2), (3, 0), (0, 2), (1, 2), (3, 0), (2, 0), (1, 2), (2, 2), (0, 2), (1, 3), (3, 1), (2, 3), (3, 2), (2, 0), (0, 1), (1, 2), (0, 1), (0, 1), (2, 0), (1, 0), (0, 3), (2, 0), (0, 3), (3, 1), (0, 1), (2, 0), (0, 2), (0, 0), (1, 3), (0, 2), (2, 2), (1, 1), (1, 2), (1, 0), (1, 2)), 5), (((0, 0), (3, 0), (2, 3), (3, 0), (0, 2), (2, 2), (1, 0), (3, 2), (2, 3), (3, 1), (3, 2), (2, 0), (2, 2), (1, 3), (3, 0), (3, 0), (3, 2), (2, 2), (1, 0), (2, 3), (1, 2), (2, 2), (2, 0), (0, 1), (2, 2), (2, 1), (3, 0), (3, 2), (3, 0), (3, 3), (3, 2), (0, 2), (0, 0), (3, 3), (2, 2), (1, 1), (0, 3), (0, 2), (0, 0), (2, 3), (2, 1), (1, 0), (3, 3), (3, 3), (1, 0), (1, 0), (2, 0), (1, 3), (3, 3), (3, 2)), 7), (((2, 2), (0, 1), (3, 2), (3, 0), (1, 3), (3, 1), (1, 0), (3, 3), (2, 3), (1, 0), (3, 3), (1, 1), (0, 3), (0, 3), (3, 0), (2, 3), (2, 0), (0, 0), (3, 3), (3, 0), (1, 0), (3, 0), (2, 0), (0, 0), (3, 0), (1, 2), (2, 3), (2, 0), (1, 0), (2, 3), (3, 2), (3, 3), (2, 2), (3, 1), (0, 1), (2, 0), (3, 3), (3, 1), (3, 2), (1, 1), (2, 3), (0, 0), (2, 1), (0, 2), (0, 3), (0, 0), (1, 0), (3, 2), (0, 0), (3, 0)), 7), (((2, 0), (2, 3), (3, 3), (3, 3), (1, 1), (2, 2), (3, 1), (1, 2), (1, 3), (3, 0), (0, 0), (3, 3), (0, 3), (3, 0), (2, 1), (0, 0), (2, 2), (2, 0), (0, 0), (1, 3), (3, 1), (2, 2), (2, 3), (3, 3), (1, 1), (1, 0), (0, 0), (2, 1), (2, 1), (1, 0), (3, 3), (1, 0), (2, 0), (2, 1), (2, 1), (2, 2), (3, 2), (3, 2), (0, 1), (2, 0), (2, 3), (0, 2), (2, 0), (3, 1), (1, 0), (2, 2), (1, 3), (2, 2), (0, 0), (3, 0)), 5), (((1, 3), (3, 2), (2, 0), (0, 2), (2, 3), (3, 2), (0, 1), (3, 3), (0, 0), (0, 2), (2, 3), (1, 0), (3, 1), (2, 0), (2, 2), (0, 0), (1, 3), (3, 2), (3, 0), (0, 2), (0, 3), (0, 2), (2, 0), (1, 0), (2, 1), (2, 1), (3, 0), (1, 2), (1, 3), (1, 1), (2, 1), (0, 2), (1, 1), (3, 2), (1, 0), (0, 3), (2, 0), (3, 1), (0, 1), (0, 0), (3, 2), (0, 3), (2, 1), (3, 1), (2, 1), (3, 1), (1, 3), (2, 2), (2, 3), (3, 1)), 7)] \n",
      "\n",
      "Shuffled Data:  [(((3, 1), (2, 3), (3, 0), (2, 3), (1, 2), (1, 2), (3, 0), (2, 2), (1, 0), (1, 0), (2, 2), (3, 1), (2, 0), (0, 0), (1, 1), (2, 1), (2, 2), (1, 1), (3, 2), (2, 1), (3, 0), (2, 3), (1, 0), (3, 2), (1, 3), (3, 0), (1, 1), (1, 3), (3, 3), (3, 2), (2, 2), (0, 2), (1, 2), (1, 2), (1, 2), (2, 0), (3, 1), (3, 2), (3, 1), (2, 2), (3, 0), (3, 2), (1, 3), (0, 2), (2, 3), (3, 1), (0, 2), (2, 3), (0, 0), (2, 0)), [7]), (((1, 3), (3, 3), (1, 2), (3, 2), (3, 0), (0, 2), (3, 2), (0, 1), (3, 2), (0, 2), (3, 0), (2, 0), (2, 0), (1, 1), (3, 2), (1, 2), (2, 2), (3, 0), (2, 2), (3, 2), (3, 2), (0, 1), (0, 1), (3, 2), (2, 1), (1, 0), (2, 3), (2, 0), (2, 1), (0, 1), (3, 3), (1, 3), (1, 2), (2, 2), (1, 1), (3, 2), (1, 3), (2, 1), (2, 1), (0, 1), (3, 2), (2, 2), (1, 3), (2, 1), (3, 1), (0, 3), (3, 0), (2, 3), (2, 1), (1, 2)), [5]), (((1, 0), (2, 3), (2, 3), (3, 0), (1, 0), (0, 3), (2, 2), (1, 3), (2, 1), (0, 1), (0, 0), (3, 2), (3, 2), (2, 1), (0, 2), (0, 2), (2, 3), (1, 3), (3, 3), (0, 3), (1, 1), (3, 1), (2, 1), (1, 2), (3, 2), (2, 2), (1, 1), (0, 2), (1, 2), (1, 3), (2, 1), (1, 1), (3, 1), (2, 2), (2, 0), (1, 3), (3, 1), (3, 1), (1, 3), (0, 3), (1, 2), (0, 2), (3, 1), (1, 3), (0, 2), (3, 3), (2, 1), (3, 2), (3, 1), (2, 3)), [7]), (((0, 0), (3, 3), (3, 3), (0, 0), (3, 2), (3, 2), (3, 1), (0, 2), (0, 2), (3, 3), (0, 3), (2, 0), (2, 0), (2, 1), (1, 3), (2, 0), (3, 3), (1, 2), (3, 0), (0, 3), (1, 0), (2, 3), (3, 2), (2, 3), (2, 0), (3, 1), (3, 0), (2, 0), (1, 0), (0, 0), (1, 2), (1, 1), (0, 3), (0, 2), (3, 1), (2, 2), (2, 1), (1, 1), (2, 1), (1, 2), (2, 0), (1, 1), (2, 1), (3, 1), (2, 3), (0, 0), (2, 0), (1, 2), (2, 3), (3, 3)), [7]), (((2, 2), (3, 1), (0, 1), (2, 3), (0, 1), (3, 0), (2, 1), (1, 1), (1, 0), (2, 0), (1, 3), (0, 2), (0, 2), (1, 1), (2, 1), (3, 2), (2, 2), (1, 3), (1, 2), (1, 3), (1, 3), (0, 2), (1, 3), (0, 1), (0, 0), (0, 2), (3, 1), (3, 1), (0, 0), (2, 3), (1, 2), (0, 3), (0, 0), (1, 1), (3, 1), (3, 3), (0, 2), (3, 3), (2, 0), (0, 1), (3, 3), (3, 3), (1, 1), (3, 1), (3, 0), (0, 1), (0, 2), (1, 2), (1, 0), (3, 0)), [5]), (((3, 0), (1, 3), (0, 1), (1, 1), (2, 2), (1, 1), (2, 1), (0, 1), (2, 3), (2, 2), (3, 3), (0, 0), (1, 1), (0, 2), (2, 2), (1, 2), (3, 2), (2, 3), (2, 0), (2, 0), (2, 2), (1, 2), (0, 3), (2, 0), (2, 1), (1, 3), (0, 3), (0, 2), (1, 1), (0, 3), (0, 3), (3, 1), (3, 3), (3, 0), (1, 3), (1, 2), (2, 2), (2, 2), (3, 2), (1, 3), (3, 2), (2, 3), (1, 2), (0, 3), (0, 2), (0, 2), (3, 2), (3, 1), (0, 2), (0, 1)), [5]), (((3, 0), (2, 3), (1, 3), (3, 2), (3, 3), (2, 1), (1, 3), (1, 3), (0, 1), (0, 2), (0, 1), (3, 3), (3, 2), (3, 3), (1, 2), (2, 0), (0, 0), (2, 0), (0, 2), (2, 2), (1, 2), (1, 2), (1, 0), (0, 3), (0, 3), (0, 2), (1, 3), (1, 1), (0, 2), (1, 3), (0, 3), (3, 3), (3, 3), (1, 0), (1, 3), (3, 3), (0, 1), (1, 1), (0, 0), (0, 2), (3, 2), (2, 0), (0, 3), (1, 3), (2, 1), (1, 3), (0, 2), (0, 1), (1, 1), (2, 2)), [7]), (((3, 1), (0, 3), (2, 1), (1, 0), (0, 0), (0, 1), (3, 2), (2, 1), (0, 1), (0, 3), (1, 0), (0, 1), (3, 1), (2, 1), (3, 1), (0, 1), (3, 3), (0, 1), (2, 3), (2, 3), (2, 3), (2, 2), (2, 0), (1, 1), (2, 3), (2, 3), (0, 3), (2, 0), (3, 0), (0, 0), (0, 1), (1, 3), (0, 0), (1, 2), (1, 1), (0, 1), (3, 0), (2, 2), (2, 0), (0, 3), (0, 3), (1, 0), (3, 3), (3, 1), (3, 3), (3, 0), (3, 0), (3, 2), (2, 3), (1, 0)), [5]), (((1, 2), (1, 2), (2, 2), (1, 3), (2, 3), (0, 3), (1, 0), (2, 2), (1, 0), (0, 1), (2, 0), (0, 1), (1, 0), (2, 0), (2, 3), (1, 0), (3, 1), (3, 1), (1, 1), (2, 0), (3, 1), (1, 1), (1, 2), (0, 3), (1, 2), (1, 3), (2, 3), (0, 2), (0, 3), (2, 2), (1, 2), (2, 0), (0, 3), (3, 0), (1, 3), (3, 3), (2, 1), (2, 3), (3, 2), (2, 3), (2, 1), (2, 0), (0, 0), (1, 0), (0, 2), (0, 0), (3, 1), (1, 2), (0, 1), (1, 2)), [5]), (((0, 1), (0, 1), (1, 1), (1, 1), (0, 2), (3, 1), (0, 3), (1, 3), (0, 0), (0, 0), (0, 1), (3, 3), (1, 0), (2, 1), (1, 3), (2, 0), (3, 1), (2, 0), (3, 1), (2, 2), (0, 3), (2, 3), (0, 1), (0, 1), (0, 3), (0, 0), (0, 2), (3, 0), (0, 2), (0, 1), (3, 2), (0, 2), (0, 1), (3, 0), (3, 0), (3, 0), (1, 1), (2, 3), (0, 1), (3, 1), (1, 0), (2, 3), (1, 2), (2, 0), (1, 2), (1, 3), (3, 3), (2, 2), (2, 2), (1, 2)), [5]), (((1, 3), (3, 1), (1, 0), (2, 2), (2, 1), (2, 3), (3, 0), (3, 0), (0, 3), (0, 1), (3, 2), (1, 2), (2, 1), (2, 0), (1, 2), (3, 0), (3, 2), (0, 1), (0, 0), (0, 1), (1, 1), (3, 0), (1, 1), (1, 0), (1, 2), (0, 3), (3, 2), (2, 3), (3, 3), (1, 0), (1, 3), (0, 0), (0, 3), (0, 0), (3, 1), (0, 2), (3, 2), (1, 0), (1, 0), (2, 0), (1, 1), (2, 1), (3, 0), (1, 1), (0, 1), (2, 1), (2, 3), (2, 1), (2, 1), (1, 3)), [7]), (((0, 3), (3, 3), (2, 2), (1, 1), (3, 0), (0, 3), (3, 3), (0, 1), (1, 1), (2, 0), (2, 2), (1, 1), (0, 1), (2, 0), (1, 1), (1, 2), (0, 0), (0, 0), (3, 1), (0, 2), (3, 0), (1, 2), (2, 2), (0, 0), (3, 0), (2, 3), (1, 2), (3, 0), (2, 1), (1, 1), (1, 3), (2, 2), (2, 3), (3, 0), (2, 1), (3, 2), (3, 3), (1, 2), (0, 2), (1, 2), (2, 0), (1, 0), (2, 3), (1, 0), (3, 3), (2, 1), (3, 1), (1, 1), (1, 0), (1, 3)), [5]), (((2, 2), (1, 0), (2, 2), (2, 3), (3, 1), (3, 3), (3, 2), (3, 0), (2, 3), (2, 1), (3, 3), (0, 2), (0, 0), (3, 1), (0, 2), (0, 1), (3, 3), (1, 0), (2, 1), (2, 1), (1, 2), (0, 3), (3, 3), (0, 1), (2, 3), (2, 2), (0, 2), (0, 3), (1, 2), (0, 2), (2, 1), (1, 1), (0, 2), (2, 3), (3, 2), (1, 3), (0, 0), (1, 1), (1, 0), (2, 3), (2, 1), (0, 1), (0, 3), (0, 3), (0, 0), (2, 3), (3, 0), (2, 0), (1, 0), (0, 0)), [7]), (((2, 1), (0, 0), (1, 3), (0, 1), (1, 3), (2, 3), (0, 0), (0, 0), (1, 0), (1, 1), (1, 0), (2, 3), (3, 0), (2, 1), (2, 3), (3, 3), (2, 1), (0, 2), (0, 1), (3, 3), (0, 3), (2, 1), (2, 1), (0, 3), (2, 0), (3, 3), (0, 2), (2, 2), (1, 0), (1, 1), (3, 1), (1, 3), (1, 2), (2, 0), (2, 0), (2, 1), (2, 2), (1, 1), (1, 2), (1, 3), (2, 0), (3, 3), (2, 0), (3, 0), (1, 2), (1, 1), (3, 3), (3, 3), (3, 2), (2, 3)), [5]), (((0, 3), (1, 0), (1, 1), (3, 0), (3, 2), (3, 2), (2, 3), (1, 2), (3, 3), (1, 3), (0, 0), (0, 2), (1, 0), (2, 1), (2, 1), (1, 1), (1, 3), (0, 3), (0, 0), (1, 2), (1, 1), (2, 1), (0, 0), (3, 1), (3, 0), (0, 1), (1, 3), (1, 3), (2, 1), (3, 2), (2, 0), (1, 2), (3, 2), (1, 2), (0, 2), (0, 0), (1, 0), (3, 1), (0, 2), (2, 2), (0, 3), (3, 0), (0, 0), (1, 1), (0, 1), (3, 1), (3, 3), (0, 0), (2, 2), (0, 3)), [7]), (((1, 2), (3, 1), (0, 3), (3, 0), (1, 3), (1, 2), (2, 0), (3, 3), (3, 1), (0, 0), (2, 3), (3, 2), (3, 2), (1, 3), (1, 1), (0, 1), (2, 1), (2, 3), (2, 1), (2, 1), (1, 1), (1, 0), (2, 0), (2, 1), (3, 0), (1, 2), (3, 0), (1, 2), (2, 0), (2, 2), (3, 1), (2, 2), (2, 2), (3, 1), (1, 1), (2, 3), (0, 1), (0, 3), (1, 3), (3, 2), (0, 2), (3, 1), (1, 2), (1, 3), (2, 2), (2, 2), (0, 0), (0, 3), (3, 0), (3, 0)), [7]), (((1, 0), (2, 0), (1, 3), (2, 1), (1, 2), (0, 2), (0, 1), (0, 2), (3, 0), (2, 2), (1, 2), (1, 0), (3, 0), (0, 0), (3, 2), (2, 3), (0, 1), (2, 1), (2, 3), (2, 2), (2, 0), (2, 0), (3, 2), (2, 3), (2, 0), (2, 1), (3, 1), (3, 2), (1, 2), (2, 0), (2, 2), (3, 0), (2, 1), (3, 2), (0, 1), (3, 2), (2, 2), (0, 3), (1, 2), (3, 2), (0, 1), (0, 2), (0, 2), (3, 2), (0, 0), (3, 1), (2, 1), (1, 0), (0, 0), (1, 3)), [7]), (((1, 0), (1, 0), (1, 0), (0, 2), (1, 0), (3, 1), (0, 1), (0, 3), (2, 1), (1, 2), (3, 1), (3, 3), (0, 1), (2, 0), (2, 3), (1, 1), (1, 0), (0, 2), (2, 1), (2, 1), (2, 2), (1, 2), (0, 0), (2, 3), (3, 2), (1, 1), (3, 3), (0, 0), (2, 3), (1, 0), (1, 3), (0, 3), (0, 3), (0, 0), (2, 1), (3, 0), (2, 1), (0, 1), (2, 1), (0, 1), (2, 1), (0, 3), (3, 0), (2, 2), (0, 1), (0, 1), (1, 2), (3, 0), (0, 0), (2, 1)), [5]), (((2, 0), (0, 1), (1, 3), (0, 2), (3, 2), (1, 3), (0, 0), (2, 0), (0, 3), (1, 0), (0, 1), (0, 1), (2, 0), (1, 1), (3, 1), (1, 1), (3, 0), (2, 0), (3, 2), (0, 0), (3, 1), (0, 1), (1, 3), (2, 1), (0, 3), (1, 1), (2, 1), (1, 0), (1, 1), (0, 1), (3, 3), (1, 0), (0, 3), (0, 1), (3, 1), (1, 0), (2, 1), (1, 1), (2, 2), (3, 0), (3, 3), (3, 0), (1, 3), (1, 1), (2, 3), (1, 1), (0, 0), (0, 0), (0, 0), (0, 3)), [7]), (((1, 1), (2, 3), (1, 1), (2, 0), (0, 1), (3, 2), (2, 3), (2, 2), (3, 1), (3, 3), (1, 1), (0, 1), (3, 3), (2, 2), (0, 2), (0, 1), (0, 0), (3, 0), (2, 3), (1, 3), (3, 2), (2, 1), (0, 2), (3, 3), (0, 1), (2, 0), (0, 3), (2, 3), (3, 0), (0, 2), (3, 1), (3, 3), (2, 2), (0, 3), (1, 2), (2, 1), (3, 2), (0, 1), (0, 2), (0, 1), (3, 1), (2, 3), (0, 1), (3, 2), (3, 2), (0, 1), (1, 0), (0, 2), (2, 2), (0, 0)), [7]), (((0, 0), (1, 0), (3, 2), (2, 0), (2, 2), (3, 3), (0, 1), (1, 2), (3, 2), (0, 3), (3, 2), (2, 1), (0, 0), (0, 3), (1, 3), (3, 1), (3, 2), (2, 1), (3, 3), (1, 0), (1, 3), (0, 2), (1, 3), (1, 0), (1, 0), (3, 0), (2, 3), (0, 1), (0, 2), (3, 1), (1, 0), (1, 3), (1, 1), (1, 1), (0, 3), (2, 1), (2, 2), (3, 2), (3, 0), (2, 3), (0, 3), (3, 0), (1, 3), (0, 1), (3, 3), (0, 3), (1, 2), (0, 0), (1, 1), (1, 1)), [7]), (((3, 1), (1, 3), (0, 3), (1, 3), (1, 2), (2, 3), (2, 3), (1, 2), (0, 0), (2, 3), (2, 2), (1, 3), (0, 1), (0, 0), (1, 3), (1, 1), (0, 1), (1, 2), (0, 3), (1, 3), (0, 2), (3, 2), (1, 0), (1, 2), (0, 1), (2, 3), (3, 0), (3, 2), (2, 2), (3, 1), (3, 1), (2, 3), (0, 1), (0, 3), (2, 0), (1, 3), (1, 1), (3, 1), (1, 3), (0, 2), (0, 3), (1, 2), (2, 0), (1, 1), (0, 3), (1, 2), (1, 0), (3, 2), (2, 1), (3, 0)), [5]), (((1, 2), (3, 2), (3, 3), (2, 3), (1, 3), (1, 0), (2, 1), (3, 2), (1, 3), (1, 3), (2, 2), (2, 1), (0, 1), (3, 0), (3, 1), (2, 0), (1, 0), (1, 0), (2, 0), (1, 2), (1, 0), (3, 0), (3, 0), (2, 2), (3, 2), (3, 0), (0, 0), (3, 3), (3, 2), (2, 3), (1, 2), (0, 2), (2, 1), (2, 1), (1, 0), (3, 0), (1, 2), (1, 3), (3, 1), (0, 1), (2, 0), (2, 0), (2, 0), (0, 2), (0, 1), (2, 1), (1, 1), (0, 2), (0, 2), (0, 1)), [5]), (((3, 0), (3, 1), (3, 3), (3, 1), (2, 3), (1, 1), (2, 0), (2, 1), (2, 0), (0, 3), (0, 1), (2, 0), (1, 1), (1, 3), (1, 2), (1, 0), (0, 0), (1, 1), (2, 3), (0, 0), (2, 0), (2, 0), (0, 0), (0, 2), (2, 2), (3, 2), (1, 3), (1, 0), (0, 3), (3, 0), (2, 0), (0, 1), (1, 1), (1, 1), (0, 3), (1, 2), (2, 2), (0, 1), (2, 2), (3, 1), (0, 0), (0, 2), (3, 2), (2, 0), (1, 1), (1, 2), (2, 0), (0, 2), (3, 0), (1, 0)), [5]), (((1, 0), (2, 2), (2, 3), (0, 1), (3, 2), (1, 3), (3, 3), (3, 0), (2, 0), (2, 2), (1, 1), (2, 0), (2, 1), (3, 1), (2, 0), (0, 3), (0, 2), (2, 2), (0, 1), (3, 1), (1, 3), (1, 3), (0, 2), (3, 3), (0, 2), (3, 3), (0, 3), (1, 2), (3, 3), (0, 1), (2, 2), (0, 3), (2, 2), (0, 3), (3, 0), (3, 1), (0, 1), (0, 1), (0, 2), (0, 0), (3, 2), (1, 2), (0, 0), (1, 0), (3, 2), (1, 2), (2, 2), (0, 0), (2, 0), (0, 3)), [7]), (((1, 3), (0, 3), (2, 0), (2, 0), (3, 3), (2, 1), (1, 1), (3, 2), (2, 3), (3, 2), (2, 0), (1, 2), (2, 0), (1, 1), (1, 0), (0, 1), (1, 0), (0, 3), (0, 1), (3, 3), (2, 2), (1, 2), (0, 0), (1, 1), (2, 1), (1, 3), (1, 3), (0, 1), (0, 0), (1, 2), (1, 2), (3, 1), (3, 3), (3, 2), (0, 2), (0, 0), (2, 1), (1, 3), (1, 0), (1, 1), (0, 1), (0, 0), (0, 0), (2, 1), (2, 1), (3, 3), (0, 2), (3, 1), (0, 0), (0, 1)), [5]), (((1, 3), (3, 1), (1, 1), (1, 1), (3, 0), (3, 1), (0, 2), (2, 1), (3, 3), (3, 3), (2, 3), (0, 1), (2, 0), (1, 0), (2, 0), (1, 1), (3, 1), (0, 1), (2, 3), (0, 3), (3, 3), (1, 1), (0, 3), (2, 3), (2, 1), (2, 1), (1, 0), (2, 2), (3, 0), (3, 3), (0, 1), (0, 1), (2, 2), (2, 0), (0, 2), (3, 2), (1, 2), (0, 3), (1, 2), (2, 1), (1, 3), (1, 0), (2, 1), (3, 1), (1, 1), (2, 3), (3, 0), (0, 1), (3, 2), (0, 0)), [7]), (((3, 1), (3, 2), (3, 2), (3, 1), (3, 1), (2, 1), (1, 0), (1, 1), (3, 1), (2, 1), (0, 3), (0, 0), (2, 1), (0, 0), (0, 1), (2, 2), (3, 1), (1, 1), (3, 0), (2, 0), (0, 0), (1, 3), (0, 1), (0, 2), (1, 3), (0, 3), (3, 1), (3, 3), (0, 3), (2, 0), (0, 0), (2, 1), (3, 1), (3, 3), (1, 0), (3, 3), (3, 2), (2, 3), (2, 3), (1, 2), (2, 0), (2, 2), (2, 3), (0, 0), (0, 1), (2, 3), (1, 3), (2, 2), (2, 1), (2, 3)), [7]), (((1, 2), (3, 0), (3, 2), (2, 3), (2, 3), (3, 1), (3, 2), (3, 3), (3, 2), (3, 1), (2, 0), (0, 2), (3, 2), (1, 1), (2, 0), (3, 3), (1, 3), (1, 3), (2, 3), (1, 3), (1, 0), (0, 0), (1, 3), (2, 2), (3, 0), (2, 2), (0, 3), (1, 2), (2, 2), (2, 3), (3, 0), (0, 1), (3, 1), (1, 0), (0, 3), (1, 1), (3, 0), (2, 2), (3, 3), (1, 2), (0, 3), (2, 1), (2, 2), (0, 0), (2, 0), (1, 1), (0, 1), (3, 1), (2, 1), (2, 3)), [7]), (((3, 3), (2, 2), (2, 1), (3, 2), (3, 0), (3, 0), (2, 2), (1, 0), (2, 3), (1, 0), (1, 2), (0, 2), (2, 0), (0, 1), (0, 0), (3, 2), (1, 3), (0, 1), (0, 2), (2, 3), (0, 0), (3, 1), (3, 2), (2, 0), (0, 3), (2, 1), (0, 2), (1, 0), (3, 1), (1, 3), (1, 1), (1, 3), (3, 0), (2, 1), (2, 0), (0, 0), (1, 1), (1, 0), (1, 0), (3, 3), (2, 2), (2, 1), (1, 0), (2, 3), (0, 3), (0, 1), (3, 0), (1, 1), (0, 2), (1, 2)), [5]), (((2, 0), (3, 2), (3, 1), (0, 1), (0, 3), (3, 0), (1, 0), (2, 1), (2, 1), (0, 1), (3, 2), (1, 3), (2, 2), (3, 0), (0, 0), (3, 0), (2, 0), (0, 1), (2, 3), (1, 3), (3, 0), (2, 2), (1, 1), (1, 1), (1, 3), (0, 1), (1, 2), (2, 0), (1, 2), (2, 0), (0, 0), (3, 2), (0, 0), (1, 3), (3, 1), (3, 3), (1, 3), (2, 2), (3, 2), (3, 0), (2, 2), (3, 0), (3, 3), (2, 1), (1, 1), (0, 3), (2, 2), (0, 2), (0, 3), (0, 2)), [7]), (((1, 2), (0, 1), (1, 2), (3, 2), (3, 1), (3, 1), (1, 1), (1, 2), (1, 2), (2, 3), (1, 3), (3, 0), (3, 0), (0, 3), (3, 3), (1, 1), (3, 1), (1, 3), (0, 3), (3, 3), (0, 0), (2, 2), (1, 0), (2, 2), (3, 1), (3, 3), (1, 2), (3, 0), (0, 0), (2, 0), (0, 3), (1, 3), (3, 2), (1, 1), (0, 1), (2, 2), (2, 3), (2, 1), (3, 1), (2, 1), (3, 0), (3, 0), (2, 1), (3, 3), (3, 3), (1, 2), (2, 3), (2, 3), (1, 2), (1, 2)), [5]), (((1, 1), (0, 2), (2, 0), (0, 0), (1, 3), (1, 2), (3, 3), (0, 1), (1, 3), (0, 3), (3, 1), (3, 0), (0, 2), (3, 2), (3, 2), (0, 3), (1, 3), (0, 3), (3, 2), (1, 0), (2, 2), (2, 1), (1, 3), (3, 3), (2, 1), (0, 0), (2, 1), (0, 1), (3, 2), (2, 2), (3, 2), (2, 3), (2, 2), (1, 0), (3, 0), (2, 3), (2, 3), (2, 2), (0, 1), (3, 0), (2, 3), (1, 1), (2, 3), (3, 3), (0, 1), (2, 3), (2, 1), (3, 3), (1, 2), (1, 2)), [5]), (((3, 1), (0, 0), (1, 1), (3, 2), (1, 0), (1, 0), (3, 0), (0, 2), (1, 1), (2, 2), (0, 1), (1, 1), (1, 0), (0, 1), (3, 0), (0, 0), (1, 1), (3, 3), (2, 2), (0, 1), (2, 3), (1, 1), (0, 2), (3, 3), (2, 1), (3, 3), (2, 0), (2, 3), (2, 3), (3, 0), (2, 3), (0, 2), (3, 0), (0, 0), (2, 0), (0, 1), (0, 2), (2, 1), (0, 1), (3, 0), (0, 1), (2, 1), (2, 0), (3, 3), (1, 1), (2, 0), (0, 0), (3, 1), (1, 2), (3, 3)), [7]), (((3, 3), (1, 1), (2, 2), (0, 1), (1, 2), (0, 2), (3, 0), (2, 3), (3, 1), (1, 3), (0, 3), (1, 2), (1, 2), (0, 3), (3, 1), (2, 2), (1, 0), (1, 1), (0, 0), (2, 3), (3, 2), (1, 0), (2, 0), (0, 0), (3, 3), (3, 3), (0, 0), (3, 1), (2, 1), (2, 2), (3, 3), (2, 1), (2, 1), (1, 3), (2, 0), (1, 0), (3, 3), (0, 2), (2, 2), (3, 2), (1, 3), (1, 1), (2, 3), (0, 2), (1, 1), (0, 0), (1, 3), (2, 0), (0, 3), (2, 2)), [5]), (((2, 0), (2, 2), (1, 0), (0, 1), (3, 2), (2, 1), (1, 3), (2, 2), (3, 1), (1, 0), (0, 2), (1, 1), (2, 2), (2, 0), (0, 1), (3, 3), (2, 0), (1, 1), (3, 3), (1, 0), (1, 1), (0, 3), (3, 0), (2, 1), (2, 2), (2, 0), (3, 1), (2, 2), (1, 3), (2, 3), (0, 3), (1, 0), (0, 2), (2, 0), (2, 3), (0, 0), (2, 2), (3, 2), (2, 3), (2, 2), (0, 0), (3, 2), (1, 3), (1, 0), (1, 0), (3, 2), (2, 2), (0, 1), (2, 1), (2, 2)), [7]), (((1, 1), (1, 1), (3, 2), (1, 3), (0, 2), (2, 0), (3, 3), (0, 2), (2, 2), (1, 3), (0, 3), (0, 2), (2, 2), (3, 1), (2, 0), (0, 0), (2, 1), (1, 1), (0, 3), (0, 3), (3, 3), (2, 2), (2, 1), (1, 1), (2, 1), (0, 1), (3, 1), (2, 2), (3, 1), (0, 2), (3, 3), (1, 3), (0, 3), (3, 3), (1, 0), (1, 2), (0, 3), (3, 0), (0, 3), (0, 1), (1, 2), (2, 2), (3, 2), (2, 1), (2, 1), (0, 0), (3, 1), (1, 1), (2, 3), (1, 2)), [5]), (((1, 3), (3, 1), (0, 3), (3, 0), (1, 1), (0, 2), (2, 0), (1, 3), (3, 2), (3, 0), (2, 2), (2, 3), (1, 3), (2, 2), (2, 1), (2, 0), (0, 3), (0, 2), (0, 0), (1, 0), (3, 0), (2, 3), (2, 2), (2, 3), (0, 1), (2, 2), (2, 2), (1, 3), (0, 2), (3, 2), (1, 1), (0, 3), (1, 0), (2, 1), (0, 1), (2, 2), (2, 2), (3, 0), (3, 2), (3, 0), (3, 3), (1, 3), (0, 0), (3, 0), (3, 0), (0, 1), (2, 1), (1, 3), (3, 0), (2, 2)), [7]), (((1, 3), (2, 0), (0, 3), (3, 1), (2, 2), (1, 2), (1, 2), (3, 2), (2, 2), (3, 0), (1, 3), (1, 2), (3, 0), (1, 2), (1, 3), (0, 1), (1, 2), (3, 0), (3, 0), (0, 2), (0, 2), (2, 2), (3, 3), (1, 3), (1, 2), (0, 1), (1, 3), (3, 1), (2, 1), (0, 3), (2, 0), (2, 3), (0, 1), (3, 0), (3, 1), (0, 2), (1, 3), (0, 1), (0, 1), (2, 3), (3, 1), (2, 0), (3, 0), (0, 1), (2, 1), (1, 1), (0, 2), (1, 3), (0, 2), (0, 2)), [7]), (((0, 3), (1, 3), (1, 3), (1, 2), (2, 2), (1, 1), (3, 1), (3, 3), (0, 1), (3, 0), (1, 1), (3, 1), (0, 2), (1, 1), (0, 3), (0, 2), (0, 3), (2, 1), (1, 0), (1, 3), (3, 0), (2, 3), (1, 0), (2, 1), (2, 3), (2, 0), (0, 3), (2, 2), (2, 0), (2, 3), (2, 0), (2, 2), (2, 1), (2, 1), (1, 2), (2, 1), (2, 3), (2, 0), (2, 3), (2, 3), (3, 3), (1, 2), (2, 2), (1, 2), (2, 1), (2, 1), (2, 2), (2, 0), (3, 2), (3, 1)), [7]), (((1, 1), (3, 1), (2, 3), (0, 0), (1, 2), (0, 1), (2, 0), (0, 2), (1, 2), (1, 2), (0, 2), (0, 0), (2, 1), (2, 1), (0, 0), (3, 2), (2, 2), (0, 3), (0, 0), (0, 0), (0, 3), (0, 2), (0, 2), (3, 3), (3, 2), (1, 0), (0, 2), (0, 1), (2, 2), (3, 1), (3, 1), (0, 3), (0, 1), (3, 0), (0, 0), (3, 2), (2, 3), (2, 0), (0, 1), (3, 1), (0, 0), (1, 3), (1, 3), (2, 1), (2, 1), (1, 2), (1, 3), (2, 2), (2, 0), (2, 3)), [5]), (((2, 3), (1, 2), (2, 1), (3, 2), (1, 2), (1, 0), (3, 1), (0, 0), (2, 2), (3, 1), (2, 1), (1, 3), (3, 2), (3, 3), (3, 3), (0, 3), (1, 3), (2, 3), (0, 0), (3, 2), (3, 2), (3, 1), (3, 1), (2, 1), (0, 0), (1, 1), (2, 1), (2, 1), (2, 3), (1, 2), (0, 1), (2, 3), (3, 2), (3, 3), (0, 3), (3, 3), (3, 2), (1, 0), (2, 2), (0, 0), (0, 1), (2, 1), (0, 1), (1, 0), (3, 0), (2, 1), (0, 2), (2, 0), (2, 0), (3, 3)), [7]), (((2, 2), (3, 0), (0, 3), (2, 3), (3, 0), (1, 2), (0, 2), (0, 1), (2, 3), (1, 0), (0, 3), (2, 2), (0, 3), (2, 0), (0, 1), (0, 1), (3, 0), (2, 2), (2, 2), (2, 3), (3, 0), (0, 2), (3, 0), (2, 3), (0, 1), (0, 1), (1, 0), (3, 3), (2, 0), (3, 1), (2, 2), (2, 3), (1, 0), (3, 1), (2, 1), (1, 1), (1, 2), (0, 0), (1, 2), (0, 0), (1, 1), (1, 2), (1, 1), (0, 3), (3, 1), (0, 0), (1, 3), (0, 2), (3, 1), (2, 0)), [7]), (((1, 3), (1, 0), (0, 2), (2, 3), (2, 1), (1, 3), (1, 0), (1, 3), (2, 0), (2, 3), (0, 3), (1, 1), (1, 2), (3, 0), (1, 1), (3, 0), (1, 2), (1, 2), (0, 0), (0, 1), (3, 3), (2, 2), (3, 1), (2, 3), (3, 3), (2, 3), (3, 2), (3, 2), (2, 1), (1, 2), (2, 1), (2, 3), (3, 3), (1, 0), (0, 3), (0, 3), (1, 0), (1, 1), (2, 3), (0, 1), (3, 0), (2, 3), (3, 0), (0, 0), (2, 3), (3, 1), (1, 2), (2, 1), (2, 3), (3, 0)), [7]), (((2, 3), (1, 2), (2, 3), (0, 0), (0, 0), (2, 1), (1, 2), (0, 2), (2, 0), (2, 0), (1, 1), (0, 2), (2, 0), (3, 0), (3, 3), (0, 1), (3, 3), (0, 3), (1, 2), (0, 2), (2, 2), (0, 2), (0, 2), (3, 2), (2, 2), (1, 1), (2, 0), (1, 1), (0, 3), (0, 1), (2, 2), (3, 2), (0, 2), (1, 3), (1, 3), (3, 3), (2, 2), (2, 1), (3, 3), (1, 1), (1, 2), (2, 3), (3, 2), (2, 3), (2, 0), (0, 2), (0, 2), (2, 0), (3, 0), (2, 1)), [7]), (((0, 1), (0, 0), (2, 2), (2, 3), (2, 2), (1, 0), (0, 2), (3, 3), (3, 1), (2, 2), (3, 2), (2, 0), (2, 0), (3, 2), (2, 1), (1, 2), (3, 0), (0, 2), (1, 2), (3, 0), (2, 0), (1, 2), (2, 2), (0, 2), (1, 3), (3, 1), (2, 3), (3, 2), (2, 0), (0, 1), (1, 2), (0, 1), (0, 1), (2, 0), (1, 0), (0, 3), (2, 0), (0, 3), (3, 1), (0, 1), (2, 0), (0, 2), (0, 0), (1, 3), (0, 2), (2, 2), (1, 1), (1, 2), (1, 0), (1, 2)), [5]), (((0, 0), (3, 0), (2, 3), (3, 0), (0, 2), (2, 2), (1, 0), (3, 2), (2, 3), (3, 1), (3, 2), (2, 0), (2, 2), (1, 3), (3, 0), (3, 0), (3, 2), (2, 2), (1, 0), (2, 3), (1, 2), (2, 2), (2, 0), (0, 1), (2, 2), (2, 1), (3, 0), (3, 2), (3, 0), (3, 3), (3, 2), (0, 2), (0, 0), (3, 3), (2, 2), (1, 1), (0, 3), (0, 2), (0, 0), (2, 3), (2, 1), (1, 0), (3, 3), (3, 3), (1, 0), (1, 0), (2, 0), (1, 3), (3, 3), (3, 2)), [7]), (((2, 2), (0, 1), (3, 2), (3, 0), (1, 3), (3, 1), (1, 0), (3, 3), (2, 3), (1, 0), (3, 3), (1, 1), (0, 3), (0, 3), (3, 0), (2, 3), (2, 0), (0, 0), (3, 3), (3, 0), (1, 0), (3, 0), (2, 0), (0, 0), (3, 0), (1, 2), (2, 3), (2, 0), (1, 0), (2, 3), (3, 2), (3, 3), (2, 2), (3, 1), (0, 1), (2, 0), (3, 3), (3, 1), (3, 2), (1, 1), (2, 3), (0, 0), (2, 1), (0, 2), (0, 3), (0, 0), (1, 0), (3, 2), (0, 0), (3, 0)), [7]), (((2, 0), (2, 3), (3, 3), (3, 3), (1, 1), (2, 2), (3, 1), (1, 2), (1, 3), (3, 0), (0, 0), (3, 3), (0, 3), (3, 0), (2, 1), (0, 0), (2, 2), (2, 0), (0, 0), (1, 3), (3, 1), (2, 2), (2, 3), (3, 3), (1, 1), (1, 0), (0, 0), (2, 1), (2, 1), (1, 0), (3, 3), (1, 0), (2, 0), (2, 1), (2, 1), (2, 2), (3, 2), (3, 2), (0, 1), (2, 0), (2, 3), (0, 2), (2, 0), (3, 1), (1, 0), (2, 2), (1, 3), (2, 2), (0, 0), (3, 0)), [5]), (((1, 3), (3, 2), (2, 0), (0, 2), (2, 3), (3, 2), (0, 1), (3, 3), (0, 0), (0, 2), (2, 3), (1, 0), (3, 1), (2, 0), (2, 2), (0, 0), (1, 3), (3, 2), (3, 0), (0, 2), (0, 3), (0, 2), (2, 0), (1, 0), (2, 1), (2, 1), (3, 0), (1, 2), (1, 3), (1, 1), (2, 1), (0, 2), (1, 1), (3, 2), (1, 0), (0, 3), (2, 0), (3, 1), (0, 1), (0, 0), (3, 2), (0, 3), (2, 1), (3, 1), (2, 1), (3, 1), (1, 3), (2, 2), (2, 3), (3, 1)), [7])] \n",
      "\n",
      "Reduced Data:  [((1, 3), (1, 3)), ((2, 2), (2, 2)), ((3, 0), (3, 0)), ((3, 1), (3, 1)), ((1, 2), (1, 2)), ((0, 1), (0, 1)), ((0, 3), (0, 3)), ((2, 1), (2, 1)), ((1, 0), (1, 0)), ((3, 1), (3, 1)), ((1, 2), (1, 2)), ((3, 0), (3, 0)), ((1, 3), (1, 3)), ((3, 3), (3, 3)), ((1, 2), (1, 2)), ((1, 1), (1, 1)), ((3, 3), (3, 3)), ((1, 1), (1, 1)), ((1, 1), (1, 1)), ((0, 1), (0, 1)), ((2, 0), (2, 0))] \n",
      "\n"
     ]
    }
   ],
   "source": [
    "R = [5, 7]\n",
    "\n",
    "def RECORDREADER(count):\n",
    "    lst = []\n",
    "    for i in range(count):\n",
    "        data = tuple([(random.randint(0, 3), random.randint(0, 3)) for i in range(count)])\n",
    "        idx = R[random.randint(0, len(R) - 1)]\n",
    "        lst.append((data, idx))\n",
    "    return lst\n",
    "\n",
    "def MAP(t):\n",
    "  return (t[0], t[1])\n",
    "\n",
    "def REDUCE(key, values):\n",
    "  if values == [R[0]]:\n",
    "    return ((key[0], key[0]), (key[1], key[1]))\n",
    "\n",
    "def group_by_key(iterable):\n",
    "  t = {}\n",
    "  for (k2, v2) in iterable:\n",
    "    t[k2] = t.get(k2, []) + [v2]\n",
    "  return t.items()\n",
    "\n",
    "\n",
    "records = RECORDREADER(50)\n",
    "print(\"Records: \", records, '\\n')\n",
    "\n",
    "map_res = list(map(lambda x: MAP(x), records))\n",
    "print(\"Mapped Data: \", map_res, '\\n')\n",
    "\n",
    "group_res = list(group_by_key(map_res))\n",
    "print(\"Shuffled Data: \", group_res, '\\n')\n",
    "\n",
    "reduce_res = [element[0] for element in list(map(lambda x: REDUCE(*x), group_res)) if element is not None]\n",
    "print(\"Reduced Data: \", reduce_res, '\\n')"
   ]
  },
  {
   "cell_type": "markdown",
   "metadata": {
    "id": "j8I58V2VwhSm"
   },
   "source": [
    "### Natural Join\n",
    "\n",
    "**The Map Function:** Для каждого кортежа $(a, b)$ отношения $R$, создайте пару $(b,(R, a))$. Для каждого кортежа $(b, c)$ отношения $S$, создайте пару $(b,(S, c))$.\n",
    "\n",
    "**The Reduce Function:** Каждый ключ $b$ будет асоциирован со списком пар, которые принимают форму либо $(R, a)$, либо $(S, c)$. Создайте все пары, одни, состоящие из  первого компонента $R$, а другие, из первого компонента $S$, то есть $(R, a)$ и $(S, c)$. На выходе вы получаете последовательность пар ключ-значение из списков ключей и значений. Ключ не нужен. Каждое значение, это тройка $(a, b, c)$ такая, что $(R, a)$ и $(S, c)$ это принадлежат входному списку значений."
   ]
  },
  {
   "cell_type": "code",
   "execution_count": 31,
   "metadata": {
    "id": "yHiuuTctw86I"
   },
   "outputs": [
    {
     "name": "stdout",
     "output_type": "stream",
     "text": [
      "Records:  [(((1, 0), (0, 3), (1, 1), (0, 3), (0, 3), (2, 1), (0, 0), (1, 0), (1, 2), (3, 1), (2, 1), (2, 1), (1, 2), (3, 1), (2, 0), (0, 2), (1, 3), (0, 0), (2, 1), (3, 1), (3, 0), (0, 1), (2, 0), (2, 2), (3, 2), (1, 3), (2, 2), (0, 0), (3, 3), (3, 0), (3, 3), (2, 1), (1, 0), (0, 3), (3, 0), (0, 1), (3, 1), (3, 0), (3, 0), (2, 2), (3, 0), (3, 3), (2, 1), (0, 3), (3, 3), (0, 2), (3, 0), (3, 2), (0, 2), (0, 2)), 7), (((2, 2), (3, 2), (3, 3), (3, 0), (3, 3), (3, 3), (0, 2), (2, 1), (0, 0), (0, 2), (2, 2), (0, 2), (1, 3), (3, 2), (1, 0), (0, 1), (2, 1), (0, 1), (1, 2), (0, 0), (2, 2), (2, 3), (0, 1), (1, 1), (0, 3), (2, 2), (3, 2), (3, 0), (3, 3), (2, 1), (1, 0), (2, 3), (0, 1), (1, 1), (0, 3), (2, 2), (3, 2), (0, 0), (0, 0), (3, 3), (3, 0), (2, 3), (2, 1), (2, 0), (0, 1), (1, 1), (3, 1), (3, 1), (1, 3), (2, 2)), 7), (((3, 2), (2, 3), (3, 2), (3, 3), (2, 3), (2, 1), (3, 2), (1, 0), (1, 3), (1, 2), (1, 0), (2, 0), (1, 3), (0, 0), (2, 3), (3, 3), (3, 0), (2, 3), (1, 2), (3, 0), (2, 0), (3, 0), (0, 2), (0, 3), (1, 3), (1, 3), (3, 0), (0, 0), (2, 3), (1, 3), (1, 2), (0, 3), (2, 2), (3, 3), (3, 0), (0, 3), (2, 1), (3, 1), (1, 1), (3, 2), (3, 0), (1, 0), (2, 2), (0, 1), (1, 2), (1, 2), (0, 0), (3, 0), (0, 0), (2, 1)), 7), (((3, 1), (3, 2), (3, 2), (1, 2), (0, 3), (2, 1), (0, 2), (3, 2), (1, 1), (3, 0), (1, 0), (0, 2), (2, 2), (3, 3), (1, 1), (2, 0), (3, 1), (2, 2), (0, 0), (1, 1), (3, 1), (2, 0), (2, 2), (2, 1), (2, 3), (3, 3), (2, 0), (3, 2), (0, 0), (0, 2), (2, 0), (0, 2), (1, 2), (1, 3), (2, 1), (1, 0), (1, 1), (3, 2), (0, 1), (3, 1), (1, 3), (3, 2), (1, 2), (2, 2), (3, 2), (2, 0), (3, 1), (1, 0), (2, 1), (3, 0)), 5), (((3, 2), (3, 2), (3, 3), (1, 0), (0, 0), (3, 3), (0, 1), (0, 2), (1, 0), (0, 2), (3, 1), (3, 1), (1, 3), (1, 0), (2, 0), (0, 0), (1, 2), (3, 0), (2, 1), (3, 2), (3, 0), (3, 3), (1, 2), (3, 0), (3, 1), (1, 2), (1, 2), (3, 2), (0, 2), (3, 3), (3, 0), (3, 2), (0, 1), (2, 1), (3, 1), (3, 2), (3, 3), (0, 2), (0, 2), (3, 3), (0, 1), (0, 2), (2, 3), (2, 3), (3, 0), (2, 3), (0, 2), (3, 0), (0, 0), (3, 0)), 7), (((3, 0), (2, 3), (1, 2), (2, 0), (2, 3), (0, 3), (3, 1), (3, 3), (2, 1), (3, 0), (3, 0), (0, 0), (3, 2), (1, 3), (0, 1), (1, 3), (1, 3), (1, 0), (3, 1), (3, 0), (3, 3), (2, 2), (0, 3), (1, 0), (3, 3), (2, 1), (3, 1), (1, 0), (3, 1), (1, 0), (2, 3), (2, 3), (0, 2), (2, 0), (2, 3), (2, 0), (0, 0), (0, 0), (1, 3), (0, 0), (0, 2), (0, 2), (1, 2), (2, 0), (3, 0), (3, 3), (2, 0), (2, 2), (3, 0), (3, 0)), 7), (((3, 1), (2, 0), (3, 1), (3, 2), (0, 0), (1, 3), (1, 3), (0, 0), (2, 1), (1, 1), (3, 1), (2, 3), (0, 0), (0, 3), (1, 1), (1, 2), (3, 0), (2, 2), (3, 2), (0, 3), (1, 2), (1, 2), (0, 1), (1, 3), (2, 0), (3, 2), (0, 0), (2, 2), (2, 0), (0, 3), (3, 3), (3, 3), (0, 3), (0, 1), (1, 0), (2, 2), (0, 0), (3, 3), (1, 0), (2, 3), (2, 2), (2, 1), (3, 3), (1, 3), (1, 3), (0, 1), (3, 1), (1, 1), (2, 2), (3, 2)), 5), (((0, 3), (3, 1), (1, 2), (1, 1), (0, 1), (1, 2), (3, 3), (3, 1), (2, 1), (1, 1), (3, 2), (1, 1), (3, 0), (3, 2), (3, 0), (0, 1), (1, 1), (0, 2), (1, 1), (3, 1), (1, 0), (0, 1), (2, 1), (2, 2), (3, 1), (0, 0), (2, 2), (3, 3), (1, 1), (3, 0), (3, 3), (3, 0), (2, 0), (0, 3), (3, 0), (1, 1), (0, 3), (2, 3), (2, 3), (2, 2), (0, 2), (2, 0), (1, 2), (2, 1), (1, 1), (0, 2), (2, 1), (3, 3), (0, 3), (1, 3)), 7), (((3, 2), (1, 0), (0, 1), (3, 2), (2, 3), (1, 1), (3, 2), (2, 2), (1, 2), (0, 0), (0, 0), (2, 2), (3, 3), (2, 3), (3, 2), (3, 2), (1, 1), (0, 0), (1, 3), (1, 2), (3, 1), (0, 2), (2, 3), (0, 1), (3, 3), (2, 1), (2, 2), (1, 2), (1, 3), (0, 0), (0, 0), (3, 0), (3, 1), (0, 2), (3, 1), (3, 0), (2, 2), (1, 1), (2, 0), (1, 1), (0, 2), (1, 3), (2, 0), (1, 2), (0, 3), (1, 1), (0, 0), (3, 2), (1, 0), (3, 1)), 5), (((1, 1), (0, 3), (1, 3), (1, 2), (3, 3), (0, 3), (1, 3), (2, 2), (0, 1), (1, 3), (1, 2), (1, 3), (0, 2), (2, 3), (0, 0), (2, 3), (2, 1), (3, 0), (2, 2), (1, 1), (2, 3), (2, 3), (3, 2), (2, 3), (1, 2), (1, 2), (3, 1), (3, 1), (3, 1), (0, 0), (1, 3), (2, 1), (3, 1), (1, 0), (3, 1), (2, 1), (1, 2), (1, 3), (2, 2), (0, 1), (0, 0), (0, 3), (1, 0), (3, 2), (0, 3), (1, 2), (3, 0), (1, 0), (3, 3), (2, 0)), 7), (((2, 2), (2, 0), (0, 0), (0, 3), (0, 0), (3, 3), (0, 1), (3, 2), (0, 3), (2, 1), (3, 3), (0, 3), (3, 3), (3, 2), (0, 3), (3, 2), (2, 1), (2, 3), (3, 2), (3, 2), (0, 1), (0, 0), (0, 3), (0, 3), (2, 1), (0, 0), (2, 1), (2, 0), (2, 2), (0, 1), (2, 2), (3, 2), (3, 0), (2, 0), (1, 0), (3, 3), (3, 1), (0, 0), (3, 2), (0, 2), (1, 0), (0, 2), (0, 2), (0, 1), (3, 2), (0, 0), (3, 0), (2, 1), (3, 1), (3, 2)), 5), (((2, 0), (2, 1), (1, 1), (0, 0), (1, 2), (1, 0), (2, 0), (2, 2), (2, 0), (1, 3), (1, 0), (2, 3), (1, 0), (1, 1), (3, 2), (1, 0), (2, 3), (0, 3), (0, 0), (2, 2), (3, 0), (1, 3), (3, 1), (2, 0), (0, 0), (0, 2), (0, 2), (0, 3), (0, 1), (0, 3), (2, 1), (3, 2), (1, 0), (0, 0), (2, 3), (1, 3), (1, 0), (0, 1), (0, 3), (1, 2), (3, 2), (2, 1), (3, 0), (2, 1), (1, 2), (0, 1), (2, 2), (1, 2), (2, 3), (0, 3)), 5), (((2, 3), (3, 1), (2, 3), (0, 1), (3, 1), (2, 0), (1, 1), (1, 0), (0, 3), (3, 0), (0, 0), (0, 2), (2, 0), (3, 2), (1, 0), (3, 3), (2, 1), (1, 1), (3, 2), (2, 2), (3, 1), (2, 1), (1, 3), (3, 1), (0, 2), (3, 0), (0, 3), (1, 2), (2, 3), (0, 0), (2, 1), (0, 2), (2, 1), (2, 3), (0, 3), (0, 3), (3, 2), (3, 2), (3, 3), (3, 0), (3, 2), (1, 0), (3, 3), (3, 3), (3, 0), (0, 0), (2, 1), (1, 0), (2, 2), (2, 2)), 5), (((3, 2), (0, 0), (0, 2), (3, 2), (0, 0), (2, 1), (3, 1), (3, 2), (0, 3), (3, 1), (0, 3), (1, 1), (2, 1), (3, 3), (0, 3), (3, 3), (0, 0), (0, 2), (0, 2), (0, 0), (0, 1), (1, 3), (1, 0), (0, 2), (0, 0), (3, 2), (2, 1), (3, 0), (3, 0), (3, 2), (3, 0), (0, 1), (1, 1), (2, 0), (1, 1), (2, 3), (2, 1), (1, 1), (2, 3), (3, 2), (2, 0), (1, 1), (1, 2), (2, 1), (0, 2), (1, 1), (0, 2), (2, 0), (3, 1), (0, 0)), 5), (((3, 1), (0, 0), (1, 2), (3, 2), (1, 1), (1, 3), (0, 2), (3, 2), (2, 2), (1, 1), (1, 3), (2, 2), (2, 0), (2, 0), (3, 3), (3, 1), (0, 0), (3, 3), (1, 1), (1, 3), (1, 0), (0, 1), (3, 0), (0, 1), (3, 0), (1, 3), (3, 1), (3, 1), (2, 2), (2, 2), (0, 2), (2, 2), (1, 2), (2, 0), (1, 2), (0, 0), (1, 2), (1, 1), (3, 2), (3, 0), (3, 2), (0, 0), (1, 3), (0, 1), (2, 2), (1, 3), (0, 2), (1, 3), (3, 0), (0, 2)), 7), (((1, 1), (3, 2), (2, 1), (3, 2), (0, 2), (2, 1), (0, 0), (1, 1), (2, 0), (3, 3), (0, 1), (3, 3), (3, 2), (1, 2), (3, 3), (3, 2), (0, 0), (1, 0), (1, 0), (1, 1), (1, 1), (3, 2), (3, 2), (1, 2), (1, 2), (3, 3), (2, 2), (2, 3), (1, 0), (2, 2), (1, 1), (2, 3), (0, 2), (0, 1), (2, 2), (1, 2), (3, 2), (1, 1), (2, 2), (2, 0), (2, 1), (1, 0), (2, 3), (1, 2), (2, 0), (1, 2), (1, 0), (0, 1), (0, 1), (0, 3)), 7), (((1, 1), (1, 2), (2, 2), (0, 3), (3, 3), (1, 2), (2, 1), (3, 2), (3, 2), (0, 0), (0, 0), (3, 1), (1, 0), (0, 3), (2, 2), (3, 1), (3, 1), (1, 2), (2, 2), (0, 0), (0, 1), (0, 1), (2, 1), (3, 0), (1, 0), (3, 0), (3, 1), (0, 3), (0, 1), (1, 2), (0, 3), (2, 3), (3, 0), (2, 2), (3, 3), (2, 1), (2, 1), (3, 1), (1, 2), (0, 0), (0, 0), (0, 0), (0, 1), (1, 0), (2, 1), (3, 0), (3, 1), (3, 3), (2, 3), (1, 3)), 5), (((1, 3), (0, 0), (3, 3), (2, 3), (0, 2), (2, 1), (3, 2), (2, 1), (0, 3), (3, 1), (0, 3), (3, 1), (2, 2), (0, 1), (2, 2), (0, 2), (2, 3), (0, 2), (2, 2), (3, 3), (3, 2), (3, 3), (0, 1), (2, 2), (0, 0), (0, 3), (3, 1), (0, 2), (1, 0), (3, 3), (3, 2), (1, 2), (3, 3), (0, 3), (1, 3), (1, 2), (1, 3), (2, 3), (2, 0), (3, 1), (3, 3), (2, 1), (0, 3), (0, 0), (3, 3), (0, 2), (2, 0), (3, 2), (2, 0), (3, 2)), 5), (((3, 1), (0, 1), (2, 1), (2, 3), (0, 1), (2, 1), (2, 1), (1, 1), (1, 2), (0, 0), (3, 3), (2, 1), (3, 1), (1, 2), (0, 2), (2, 1), (3, 0), (1, 1), (2, 0), (3, 2), (2, 2), (0, 3), (0, 1), (0, 0), (2, 2), (1, 3), (1, 1), (0, 2), (2, 1), (3, 1), (2, 0), (1, 1), (1, 3), (0, 0), (1, 1), (1, 1), (1, 3), (2, 0), (2, 1), (0, 3), (3, 1), (0, 0), (0, 3), (3, 0), (1, 1), (3, 2), (2, 2), (2, 1), (0, 3), (2, 0)), 7), (((2, 3), (3, 0), (0, 3), (3, 3), (2, 1), (3, 2), (1, 0), (2, 2), (3, 3), (0, 1), (0, 2), (2, 0), (2, 1), (1, 0), (1, 0), (0, 0), (3, 1), (3, 1), (2, 2), (0, 1), (0, 0), (0, 1), (1, 2), (0, 3), (3, 3), (0, 1), (2, 0), (3, 0), (0, 2), (0, 3), (2, 0), (0, 1), (2, 0), (1, 3), (1, 3), (0, 2), (0, 2), (2, 2), (3, 3), (0, 1), (2, 0), (2, 1), (1, 0), (0, 3), (3, 3), (0, 0), (3, 3), (2, 0), (0, 0), (0, 2)), 5), (((3, 1), (3, 1), (2, 3), (3, 0), (1, 2), (0, 1), (0, 0), (1, 2), (0, 2), (0, 2), (2, 0), (0, 0), (0, 2), (3, 3), (1, 0), (1, 2), (1, 3), (3, 0), (0, 1), (3, 2), (0, 1), (0, 1), (1, 3), (2, 2), (3, 2), (1, 1), (3, 3), (1, 2), (3, 1), (2, 0), (3, 3), (2, 3), (3, 2), (1, 1), (2, 3), (2, 1), (1, 2), (2, 3), (0, 2), (1, 1), (2, 3), (1, 3), (0, 1), (2, 1), (2, 3), (1, 0), (3, 1), (1, 0), (3, 2), (3, 0)), 7), (((2, 1), (0, 0), (2, 1), (0, 0), (3, 3), (2, 0), (2, 0), (3, 0), (2, 0), (0, 2), (0, 3), (0, 0), (2, 3), (2, 1), (2, 0), (1, 0), (3, 1), (2, 2), (3, 2), (1, 0), (3, 0), (1, 2), (0, 1), (0, 1), (0, 0), (0, 3), (2, 0), (0, 0), (0, 2), (3, 2), (3, 0), (0, 2), (2, 3), (3, 3), (0, 3), (3, 3), (1, 2), (3, 2), (3, 0), (3, 1), (0, 2), (1, 3), (0, 2), (3, 2), (2, 2), (3, 2), (0, 3), (1, 3), (3, 2), (1, 3)), 5), (((2, 2), (2, 2), (3, 2), (2, 0), (1, 1), (2, 1), (0, 2), (2, 3), (1, 0), (0, 3), (3, 2), (3, 2), (1, 3), (2, 2), (2, 2), (3, 0), (1, 1), (1, 2), (2, 2), (1, 3), (3, 1), (0, 2), (1, 0), (0, 1), (3, 1), (3, 2), (2, 2), (0, 0), (2, 1), (2, 2), (1, 1), (0, 3), (3, 3), (1, 0), (1, 1), (0, 3), (3, 2), (1, 1), (2, 1), (3, 2), (1, 1), (2, 1), (1, 0), (0, 3), (3, 3), (3, 0), (0, 2), (3, 0), (1, 3), (1, 1)), 7), (((3, 1), (1, 0), (3, 0), (0, 3), (1, 3), (3, 2), (3, 3), (1, 1), (3, 2), (2, 2), (3, 3), (0, 3), (1, 0), (2, 3), (3, 0), (3, 0), (0, 3), (2, 0), (2, 1), (1, 2), (0, 2), (0, 2), (1, 0), (2, 2), (3, 0), (3, 3), (2, 3), (3, 0), (3, 2), (3, 0), (0, 3), (0, 2), (1, 3), (3, 2), (2, 3), (3, 3), (0, 2), (1, 2), (1, 2), (3, 2), (2, 2), (0, 0), (3, 0), (0, 2), (3, 1), (3, 2), (2, 3), (2, 3), (3, 0), (1, 0)), 5), (((2, 3), (1, 3), (0, 3), (3, 3), (0, 2), (0, 2), (3, 1), (1, 0), (0, 0), (2, 0), (3, 0), (1, 0), (0, 1), (2, 2), (1, 0), (1, 3), (2, 0), (2, 2), (2, 3), (1, 1), (1, 3), (2, 2), (3, 2), (3, 2), (2, 1), (1, 1), (3, 3), (3, 3), (2, 2), (1, 2), (0, 2), (0, 3), (3, 0), (0, 2), (1, 2), (1, 3), (0, 1), (2, 3), (3, 3), (0, 3), (3, 1), (1, 0), (1, 3), (0, 2), (0, 1), (1, 0), (3, 0), (1, 0), (1, 0), (0, 0)), 5), (((2, 3), (0, 3), (3, 1), (1, 1), (1, 3), (0, 2), (0, 2), (1, 0), (0, 3), (2, 2), (2, 2), (3, 1), (3, 2), (2, 2), (3, 2), (1, 3), (1, 2), (1, 0), (2, 1), (3, 0), (3, 2), (3, 2), (2, 1), (0, 1), (1, 2), (2, 3), (3, 1), (0, 2), (2, 2), (3, 1), (1, 0), (3, 2), (2, 0), (3, 1), (0, 1), (0, 3), (1, 2), (2, 3), (1, 0), (0, 2), (3, 0), (1, 1), (2, 2), (3, 0), (3, 3), (3, 1), (3, 1), (1, 1), (1, 1), (1, 3)), 5), (((2, 0), (2, 0), (1, 3), (3, 3), (1, 1), (3, 0), (1, 1), (2, 3), (3, 0), (2, 3), (2, 3), (1, 0), (3, 0), (1, 3), (1, 0), (3, 0), (1, 2), (1, 2), (1, 1), (3, 3), (0, 2), (1, 1), (2, 1), (1, 0), (2, 2), (2, 1), (3, 1), (1, 3), (2, 0), (1, 1), (1, 2), (1, 0), (1, 0), (0, 3), (1, 2), (1, 3), (1, 2), (2, 1), (1, 0), (3, 2), (1, 3), (0, 2), (3, 1), (1, 0), (0, 1), (1, 2), (0, 2), (2, 3), (3, 2), (1, 3)), 5), (((1, 3), (1, 0), (2, 1), (2, 2), (3, 1), (0, 0), (2, 2), (2, 2), (0, 0), (3, 3), (1, 1), (0, 3), (2, 3), (3, 1), (0, 2), (3, 2), (3, 0), (0, 3), (0, 0), (3, 3), (2, 2), (3, 2), (0, 2), (0, 2), (3, 1), (0, 1), (2, 2), (0, 3), (2, 2), (0, 0), (1, 1), (0, 0), (0, 1), (2, 3), (2, 2), (0, 2), (2, 0), (2, 1), (1, 1), (1, 0), (0, 2), (1, 1), (3, 0), (2, 1), (2, 2), (1, 0), (3, 0), (1, 3), (1, 0), (3, 1)), 5), (((3, 1), (0, 3), (0, 1), (2, 1), (2, 0), (2, 0), (1, 2), (3, 0), (2, 0), (0, 0), (2, 1), (1, 1), (3, 2), (2, 3), (2, 3), (0, 0), (1, 1), (0, 3), (3, 2), (1, 3), (2, 2), (1, 0), (3, 0), (3, 0), (0, 0), (0, 3), (3, 0), (0, 2), (2, 2), (0, 2), (0, 2), (1, 3), (0, 0), (1, 0), (0, 3), (3, 0), (0, 2), (2, 2), (0, 2), (0, 1), (2, 1), (1, 3), (0, 1), (2, 0), (1, 1), (0, 0), (3, 1), (3, 0), (0, 0), (0, 3)), 5), (((0, 2), (2, 0), (1, 0), (2, 1), (0, 0), (1, 2), (3, 3), (0, 1), (3, 1), (0, 0), (3, 0), (2, 3), (1, 3), (3, 2), (1, 1), (0, 2), (0, 1), (1, 2), (3, 0), (0, 0), (1, 3), (2, 0), (3, 1), (3, 0), (2, 2), (3, 3), (2, 1), (2, 2), (2, 0), (3, 2), (2, 0), (2, 0), (2, 3), (0, 2), (2, 3), (1, 0), (2, 2), (1, 1), (3, 1), (0, 0), (1, 1), (0, 2), (1, 0), (1, 0), (3, 0), (1, 2), (2, 1), (3, 1), (3, 2), (1, 2)), 7), (((2, 0), (2, 1), (3, 3), (1, 3), (2, 3), (3, 2), (2, 3), (0, 1), (1, 1), (1, 2), (3, 3), (0, 1), (2, 3), (1, 0), (1, 2), (0, 3), (3, 2), (0, 2), (0, 3), (0, 3), (0, 1), (2, 1), (3, 2), (3, 3), (0, 0), (0, 1), (2, 3), (2, 0), (1, 0), (3, 2), (2, 3), (2, 2), (3, 3), (2, 0), (0, 0), (2, 2), (1, 3), (0, 3), (3, 2), (0, 1), (0, 0), (0, 1), (1, 2), (2, 1), (3, 1), (0, 2), (0, 0), (1, 3), (3, 1), (2, 1)), 7), (((3, 0), (0, 3), (3, 0), (1, 3), (3, 0), (1, 0), (2, 2), (2, 2), (2, 2), (1, 2), (1, 1), (2, 3), (1, 3), (1, 1), (1, 2), (0, 3), (1, 2), (3, 0), (3, 0), (3, 0), (3, 3), (3, 0), (1, 2), (2, 3), (3, 1), (2, 0), (3, 2), (0, 2), (1, 3), (2, 0), (3, 1), (3, 0), (1, 3), (0, 3), (1, 0), (2, 0), (2, 0), (1, 0), (2, 3), (0, 1), (3, 3), (1, 3), (3, 0), (1, 3), (2, 0), (0, 3), (2, 2), (3, 0), (1, 1), (3, 1)), 7), (((0, 1), (1, 3), (2, 2), (3, 3), (2, 1), (0, 3), (0, 2), (3, 1), (3, 2), (2, 1), (1, 0), (1, 2), (3, 3), (0, 0), (1, 1), (2, 3), (0, 2), (0, 2), (0, 0), (2, 0), (3, 1), (0, 0), (2, 3), (3, 3), (0, 3), (1, 3), (3, 2), (3, 1), (3, 0), (1, 1), (2, 3), (3, 0), (2, 1), (2, 0), (0, 0), (3, 0), (3, 1), (1, 3), (3, 2), (2, 3), (3, 3), (3, 3), (1, 3), (0, 3), (2, 0), (0, 1), (3, 2), (2, 0), (1, 0), (1, 0)), 5), (((3, 3), (1, 2), (1, 3), (3, 2), (1, 3), (2, 3), (1, 0), (1, 1), (0, 0), (2, 1), (3, 1), (1, 3), (2, 2), (3, 3), (1, 0), (2, 0), (0, 1), (0, 3), (1, 2), (1, 0), (3, 3), (2, 3), (3, 0), (2, 2), (0, 2), (3, 1), (2, 1), (3, 0), (2, 1), (3, 2), (2, 2), (3, 3), (1, 3), (0, 2), (2, 0), (0, 0), (2, 1), (0, 1), (0, 2), (0, 1), (0, 1), (3, 0), (0, 0), (0, 2), (1, 2), (3, 1), (2, 2), (3, 1), (0, 2), (2, 0)), 5), (((1, 2), (3, 0), (0, 2), (0, 2), (0, 1), (2, 2), (3, 1), (1, 3), (1, 0), (2, 3), (0, 1), (3, 1), (1, 1), (0, 0), (3, 3), (3, 2), (2, 1), (2, 2), (2, 3), (0, 1), (2, 2), (0, 3), (0, 2), (0, 3), (0, 3), (0, 3), (2, 3), (0, 1), (0, 3), (0, 2), (0, 3), (3, 3), (0, 1), (1, 3), (3, 3), (0, 3), (3, 1), (0, 3), (3, 2), (2, 1), (2, 1), (1, 1), (2, 0), (2, 0), (1, 0), (0, 1), (3, 1), (2, 2), (0, 0), (2, 1)), 7), (((1, 0), (1, 0), (2, 0), (3, 0), (1, 1), (2, 2), (1, 3), (1, 0), (3, 1), (2, 2), (0, 1), (1, 1), (2, 2), (0, 1), (3, 3), (2, 2), (2, 0), (3, 2), (2, 0), (2, 3), (1, 1), (1, 2), (1, 2), (3, 0), (3, 3), (2, 0), (0, 3), (2, 0), (2, 0), (1, 1), (1, 0), (1, 2), (0, 0), (0, 3), (1, 1), (3, 2), (3, 3), (0, 1), (1, 1), (3, 2), (2, 2), (1, 3), (2, 1), (2, 0), (1, 2), (1, 0), (2, 2), (3, 1), (0, 0), (1, 2)), 5), (((3, 0), (0, 1), (0, 0), (1, 0), (2, 0), (1, 2), (3, 3), (0, 3), (3, 3), (3, 3), (0, 0), (2, 1), (0, 3), (2, 1), (3, 2), (0, 1), (2, 2), (2, 2), (2, 2), (2, 2), (2, 1), (0, 0), (0, 2), (0, 2), (0, 2), (2, 3), (0, 3), (2, 1), (1, 2), (3, 0), (3, 2), (3, 0), (0, 3), (2, 1), (1, 1), (1, 3), (2, 0), (2, 0), (2, 0), (0, 2), (3, 0), (1, 1), (0, 3), (0, 1), (0, 2), (3, 3), (2, 0), (3, 1), (2, 0), (3, 0)), 7), (((2, 2), (2, 3), (1, 0), (0, 1), (3, 2), (0, 3), (1, 0), (0, 2), (3, 1), (2, 0), (3, 1), (1, 2), (3, 2), (0, 1), (0, 2), (1, 2), (1, 2), (2, 3), (0, 1), (2, 0), (2, 0), (0, 3), (0, 3), (1, 1), (3, 3), (3, 2), (2, 1), (0, 3), (3, 1), (0, 1), (0, 3), (2, 0), (2, 0), (1, 1), (2, 2), (3, 3), (3, 1), (2, 1), (0, 3), (2, 0), (3, 2), (2, 0), (2, 0), (0, 1), (0, 0), (2, 1), (0, 3), (2, 1), (3, 3), (2, 3)), 5), (((0, 1), (0, 1), (3, 3), (2, 0), (1, 3), (1, 1), (3, 3), (1, 3), (2, 0), (1, 1), (1, 1), (1, 0), (3, 1), (0, 0), (1, 1), (0, 0), (0, 0), (2, 1), (1, 0), (2, 1), (0, 0), (1, 1), (2, 1), (0, 1), (2, 2), (0, 1), (2, 1), (1, 2), (3, 1), (3, 2), (2, 1), (2, 3), (3, 2), (1, 2), (3, 1), (3, 3), (1, 3), (3, 2), (3, 3), (0, 0), (2, 1), (3, 0), (3, 2), (3, 2), (2, 3), (0, 3), (2, 3), (3, 1), (1, 2), (3, 3)), 5), (((3, 0), (2, 1), (1, 0), (1, 2), (1, 2), (1, 3), (3, 2), (2, 2), (1, 0), (1, 2), (2, 2), (2, 1), (2, 1), (1, 3), (1, 2), (1, 1), (3, 2), (1, 2), (2, 0), (0, 0), (3, 2), (3, 2), (1, 2), (1, 2), (2, 2), (0, 2), (2, 1), (2, 0), (1, 3), (0, 3), (1, 0), (0, 0), (2, 3), (0, 0), (3, 0), (2, 2), (2, 1), (3, 3), (1, 2), (2, 3), (0, 3), (3, 3), (3, 0), (3, 0), (1, 0), (3, 3), (0, 2), (0, 1), (3, 3), (0, 0)), 5), (((0, 2), (2, 0), (2, 1), (3, 3), (1, 3), (3, 3), (0, 2), (1, 2), (1, 0), (3, 1), (0, 2), (3, 3), (0, 2), (3, 2), (1, 3), (2, 1), (2, 0), (3, 2), (0, 1), (3, 1), (1, 3), (3, 0), (0, 3), (3, 1), (1, 1), (1, 3), (0, 1), (0, 1), (1, 0), (0, 3), (3, 1), (2, 0), (2, 1), (2, 0), (0, 0), (1, 1), (3, 0), (1, 3), (2, 0), (3, 1), (1, 3), (3, 0), (3, 1), (2, 2), (2, 0), (3, 0), (0, 3), (3, 1), (0, 0), (0, 0)), 7), (((3, 0), (3, 2), (0, 0), (0, 0), (1, 0), (2, 3), (1, 1), (0, 1), (3, 1), (0, 1), (2, 1), (2, 2), (3, 0), (0, 3), (2, 1), (0, 1), (0, 0), (1, 1), (3, 0), (3, 0), (1, 2), (1, 1), (3, 2), (3, 0), (0, 1), (2, 3), (0, 2), (1, 3), (3, 3), (1, 2), (2, 3), (1, 3), (3, 2), (2, 0), (0, 3), (3, 3), (3, 1), (0, 3), (0, 2), (3, 0), (3, 1), (1, 0), (2, 0), (1, 3), (2, 2), (1, 0), (0, 0), (0, 2), (0, 1), (0, 3)), 7), (((0, 0), (1, 3), (3, 0), (2, 3), (2, 2), (2, 3), (1, 0), (1, 1), (2, 3), (0, 2), (3, 1), (3, 0), (2, 0), (0, 2), (0, 1), (3, 1), (0, 3), (2, 1), (0, 1), (3, 2), (2, 1), (1, 1), (1, 1), (1, 0), (0, 2), (3, 2), (1, 3), (2, 2), (1, 0), (1, 2), (2, 0), (1, 2), (1, 0), (3, 3), (1, 0), (0, 0), (3, 3), (3, 0), (2, 2), (0, 3), (1, 2), (3, 3), (1, 2), (0, 0), (0, 1), (3, 2), (3, 3), (3, 2), (2, 3), (3, 1)), 5), (((0, 2), (1, 3), (3, 2), (2, 1), (1, 0), (3, 0), (2, 1), (1, 1), (0, 2), (3, 1), (0, 0), (0, 2), (1, 3), (2, 2), (1, 2), (0, 1), (3, 3), (1, 2), (3, 1), (2, 2), (2, 0), (2, 1), (0, 3), (2, 0), (0, 2), (2, 2), (2, 3), (1, 0), (2, 0), (1, 2), (3, 0), (2, 3), (3, 0), (2, 3), (3, 3), (2, 2), (0, 2), (2, 1), (0, 1), (3, 2), (2, 3), (2, 3), (2, 1), (2, 3), (0, 0), (2, 3), (2, 3), (2, 1), (2, 0), (0, 3)), 7), (((0, 1), (0, 3), (0, 2), (1, 3), (3, 2), (0, 2), (2, 3), (3, 3), (0, 1), (2, 1), (0, 3), (1, 3), (2, 0), (1, 1), (2, 2), (3, 3), (3, 1), (3, 2), (3, 1), (1, 2), (1, 1), (1, 2), (2, 0), (0, 2), (0, 0), (0, 2), (2, 2), (0, 1), (1, 2), (2, 0), (0, 2), (2, 3), (0, 3), (3, 1), (0, 1), (0, 3), (2, 1), (0, 2), (2, 3), (1, 0), (1, 0), (3, 3), (1, 2), (1, 3), (2, 0), (3, 2), (0, 3), (3, 0), (1, 3), (1, 0)), 7), (((3, 1), (2, 3), (3, 2), (3, 0), (3, 3), (3, 2), (1, 3), (1, 2), (0, 3), (3, 1), (1, 2), (3, 3), (3, 0), (0, 3), (3, 3), (3, 3), (2, 0), (0, 3), (1, 2), (3, 3), (1, 0), (0, 2), (2, 2), (0, 1), (2, 0), (1, 3), (3, 1), (2, 3), (1, 2), (3, 1), (0, 1), (2, 0), (3, 1), (1, 3), (2, 3), (3, 3), (3, 0), (2, 3), (3, 1), (2, 3), (0, 0), (3, 3), (3, 2), (0, 0), (2, 1), (0, 1), (0, 1), (2, 2), (1, 1), (1, 1)), 7), (((2, 3), (0, 3), (1, 1), (3, 2), (0, 1), (1, 1), (2, 0), (3, 1), (2, 3), (0, 3), (1, 3), (0, 0), (2, 2), (3, 1), (1, 0), (1, 0), (1, 1), (1, 1), (1, 3), (3, 3), (0, 0), (1, 3), (3, 2), (3, 2), (0, 1), (3, 2), (3, 1), (2, 0), (0, 3), (0, 2), (3, 1), (3, 0), (1, 2), (2, 3), (0, 1), (0, 1), (1, 0), (1, 3), (0, 3), (0, 0), (3, 0), (1, 0), (2, 3), (2, 0), (1, 1), (2, 3), (3, 3), (2, 0), (1, 0), (1, 3)), 5), (((0, 2), (0, 1), (1, 3), (1, 2), (1, 2), (2, 0), (2, 3), (1, 3), (1, 1), (2, 0), (0, 2), (2, 3), (1, 1), (0, 0), (0, 2), (2, 3), (0, 0), (2, 3), (0, 0), (0, 1), (1, 0), (2, 1), (0, 0), (3, 1), (0, 2), (2, 0), (0, 2), (1, 3), (2, 3), (2, 2), (3, 1), (2, 3), (0, 2), (0, 2), (0, 0), (2, 1), (1, 1), (0, 3), (3, 1), (1, 0), (2, 2), (2, 0), (3, 0), (2, 2), (2, 0), (1, 3), (2, 1), (3, 3), (0, 3), (3, 2)), 5), (((1, 1), (3, 1), (2, 0), (0, 1), (2, 3), (3, 3), (0, 2), (2, 0), (2, 3), (3, 0), (2, 1), (0, 3), (2, 1), (3, 0), (1, 1), (0, 2), (0, 0), (3, 1), (3, 1), (0, 3), (1, 1), (0, 0), (0, 0), (1, 0), (1, 1), (3, 0), (3, 2), (2, 3), (1, 1), (0, 1), (3, 2), (2, 0), (2, 0), (1, 3), (3, 2), (2, 2), (1, 1), (0, 2), (0, 2), (0, 3), (2, 0), (3, 2), (3, 0), (1, 1), (1, 1), (2, 2), (3, 3), (2, 1), (2, 2), (2, 2)), 7), (((3, 2), (0, 2), (1, 3), (0, 3), (0, 1), (1, 0), (0, 1), (0, 2), (0, 1), (3, 1), (0, 3), (1, 3), (3, 2), (2, 1), (1, 2), (3, 2), (1, 3), (2, 3), (3, 3), (3, 0), (3, 1), (3, 3), (0, 1), (2, 3), (2, 2), (0, 3), (0, 1), (0, 2), (2, 3), (0, 1), (0, 2), (1, 3), (1, 2), (2, 0), (2, 0), (3, 1), (0, 0), (1, 1), (0, 0), (0, 0), (2, 2), (0, 1), (3, 3), (3, 2), (3, 0), (2, 3), (3, 0), (1, 3), (1, 2), (2, 1)), 5)] \n",
      "\n",
      "Mapped Data:  [((1, 0), (7, (0, 3))), ((2, 2), (7, (3, 2))), ((3, 2), (7, (2, 3))), ((3, 2), (5, (3, 1))), ((3, 2), (7, (3, 2))), ((3, 0), (7, (2, 3))), ((2, 0), (5, (3, 1))), ((0, 3), (7, (3, 1))), ((1, 0), (5, (3, 2))), ((1, 1), (7, (0, 3))), ((2, 0), (5, (2, 2))), ((2, 1), (5, (2, 0))), ((3, 1), (5, (2, 3))), ((0, 0), (5, (3, 2))), ((3, 1), (7, (0, 0))), ((1, 1), (7, (3, 2))), ((1, 2), (5, (1, 1))), ((0, 0), (5, (1, 3))), ((3, 1), (7, (0, 1))), ((3, 0), (5, (2, 3))), ((3, 1), (7, (3, 1))), ((0, 0), (5, (2, 1))), ((2, 2), (7, (2, 2))), ((1, 0), (5, (3, 1))), ((1, 3), (5, (2, 3))), ((0, 3), (5, (2, 3))), ((2, 0), (5, (2, 0))), ((1, 0), (5, (1, 3))), ((0, 3), (5, (3, 1))), ((0, 2), (7, (2, 0))), ((2, 0), (7, (2, 1))), ((3, 0), (7, (0, 3))), ((1, 3), (5, (0, 1))), ((1, 2), (5, (3, 3))), ((1, 2), (7, (3, 0))), ((1, 0), (5, (1, 0))), ((3, 0), (7, (0, 1))), ((2, 3), (5, (2, 2))), ((0, 1), (5, (0, 1))), ((2, 1), (5, (3, 0))), ((0, 2), (7, (2, 0))), ((3, 0), (7, (3, 2))), ((1, 3), (5, (0, 0))), ((0, 2), (7, (1, 3))), ((0, 1), (7, (0, 3))), ((3, 1), (7, (2, 3))), ((0, 3), (5, (2, 3))), ((0, 1), (5, (0, 2))), ((1, 1), (7, (3, 1))), ((0, 2), (5, (3, 2)))] \n",
      "\n"
     ]
    },
    {
     "ename": "NameError",
     "evalue": "name 'itertools' is not defined",
     "output_type": "error",
     "traceback": [
      "\u001b[1;31m---------------------------------------------------------------------------\u001b[0m",
      "\u001b[1;31mNameError\u001b[0m                                 Traceback (most recent call last)",
      "Cell \u001b[1;32mIn[31], line 30\u001b[0m\n\u001b[0;32m     27\u001b[0m map_res \u001b[38;5;241m=\u001b[39m \u001b[38;5;28mlist\u001b[39m(\u001b[38;5;28mmap\u001b[39m(\u001b[38;5;28;01mlambda\u001b[39;00m x: MAP(x), records))\n\u001b[0;32m     28\u001b[0m \u001b[38;5;28mprint\u001b[39m(\u001b[38;5;124m\"\u001b[39m\u001b[38;5;124mMapped Data: \u001b[39m\u001b[38;5;124m\"\u001b[39m, map_res, \u001b[38;5;124m'\u001b[39m\u001b[38;5;130;01m\\n\u001b[39;00m\u001b[38;5;124m'\u001b[39m)\n\u001b[1;32m---> 30\u001b[0m group_res \u001b[38;5;241m=\u001b[39m \u001b[43mgroup_by_key\u001b[49m\u001b[43m(\u001b[49m\u001b[43mmap_res\u001b[49m\u001b[43m)\u001b[49m\n\u001b[0;32m     31\u001b[0m \u001b[38;5;28mprint\u001b[39m(\u001b[38;5;124m\"\u001b[39m\u001b[38;5;124mShuffled Data: \u001b[39m\u001b[38;5;124m\"\u001b[39m, group_res, \u001b[38;5;124m'\u001b[39m\u001b[38;5;130;01m\\n\u001b[39;00m\u001b[38;5;124m'\u001b[39m)\n\u001b[0;32m     33\u001b[0m reduce_res \u001b[38;5;241m=\u001b[39m [REDUCE(k, v) \u001b[38;5;28;01mfor\u001b[39;00m k, v \u001b[38;5;129;01min\u001b[39;00m group_res\u001b[38;5;241m.\u001b[39mitems()]\n",
      "Cell \u001b[1;32mIn[31], line 22\u001b[0m, in \u001b[0;36mgroup_by_key\u001b[1;34m(iterable)\u001b[0m\n\u001b[0;32m     21\u001b[0m \u001b[38;5;28;01mdef\u001b[39;00m \u001b[38;5;21mgroup_by_key\u001b[39m(iterable):\n\u001b[1;32m---> 22\u001b[0m   \u001b[38;5;28;01mreturn\u001b[39;00m {k: \u001b[38;5;28mlist\u001b[39m(v) \u001b[38;5;28;01mfor\u001b[39;00m k, v \u001b[38;5;129;01min\u001b[39;00m \u001b[43mitertools\u001b[49m\u001b[38;5;241m.\u001b[39mgroupby(\u001b[38;5;28msorted\u001b[39m(iterable), key\u001b[38;5;241m=\u001b[39m\u001b[38;5;28;01mlambda\u001b[39;00m x: x[\u001b[38;5;241m0\u001b[39m])}\n",
      "\u001b[1;31mNameError\u001b[0m: name 'itertools' is not defined"
     ]
    }
   ],
   "source": [
    "R = [5, 7]\n",
    "\n",
    "def RECORDREADER(count):\n",
    "    lst = []\n",
    "    for i in range(count):\n",
    "        data = tuple([(random.randint(0, 3), random.randint(0, 3)) for i in range(count)])\n",
    "        idx = R[random.randint(0, len(R) - 1)]\n",
    "        lst.append((data, idx))\n",
    "    return lst\n",
    "\n",
    "def MAP(t):\n",
    "  data, idx = t\n",
    "  if idx == R[0]:\n",
    "    return (data[1], (idx, data[0]))\n",
    "  else:\n",
    "    return (data[0], (idx, data[1]))\n",
    "\n",
    "def REDUCE(key, values):\n",
    "  return [(v[0], key, v[1]) for v in values]\n",
    "\n",
    "def group_by_key(iterable):\n",
    "  return {k: list(v) for k, v in itertools.groupby(sorted(iterable), key=lambda x: x[0])}\n",
    "\n",
    "records = RECORDREADER(50)\n",
    "print(\"Records: \", records, '\\n')\n",
    "\n",
    "map_res = list(map(lambda x: MAP(x), records))\n",
    "print(\"Mapped Data: \", map_res, '\\n')\n",
    "\n",
    "group_res = group_by_key(map_res)\n",
    "print(\"Shuffled Data: \", group_res, '\\n')\n",
    "\n",
    "reduce_res = [REDUCE(k, v) for k, v in group_res.items()]\n",
    "print(\"Reduced Data: \", reduce_res, '\\n')"
   ]
  },
  {
   "cell_type": "markdown",
   "metadata": {
    "id": "kYdlr0YUxE27"
   },
   "source": [
    "### Grouping and Aggregation (Группировка и аггрегация)\n",
    "\n",
    "**The Map Function:** Для каждого кортежа $(a, b, c$) создайте пару $(a, b)$.\n",
    "\n",
    "**The Reduce Function:** Ключ представляет ту или иную группу. Примение аггрегирующую операцию $\\theta$ к списку значений $[b1, b2, . . . , bn]$ ассоциированных с ключом $a$. Возвращайте в выходной поток $(a, x)$, где $x$ результат применения  $\\theta$ к списку. Например, если $\\theta$ это $SUM$, тогда $x = b1 + b2 + · · · + bn$, а если $\\theta$ is $MAX$, тогда $x$ это максимальное из значений $b1, b2, . . . , bn$."
   ]
  },
  {
   "cell_type": "code",
   "execution_count": 32,
   "metadata": {
    "id": "MLPckfEGxico"
   },
   "outputs": [
    {
     "data": {
      "text/plain": [
       "[('55', 20), ('25', 740), ('33', 800)]"
      ]
     },
     "execution_count": 32,
     "metadata": {},
     "output_type": "execute_result"
    }
   ],
   "source": [
    "from typing import NamedTuple, Iterator, List, Tuple, Dict\n",
    "from collections import defaultdict\n",
    "\n",
    "class User(NamedTuple):\n",
    "    id: int\n",
    "    age: str\n",
    "    social_contacts: int\n",
    "    gender: str\n",
    "    \n",
    "input_collection = [\n",
    "    User(id=0, age=\"55\", gender='male', social_contacts=20),\n",
    "    User(id=1, age=\"25\", gender='female', social_contacts=240),\n",
    "    User(id=2, age=\"25\", gender='female', social_contacts=500),\n",
    "    User(id=3, age=\"33\", gender='female', social_contacts=800)\n",
    "]\n",
    "\n",
    "def map_function(user: User) -> Tuple[str, int]:\n",
    "    return (user.age, user.social_contacts)\n",
    "  \n",
    "def reduce_function(age: str, social_contacts_list: List[int]) -> Tuple[str, int]:\n",
    "    sum_social_contacts = sum(social_contacts_list)\n",
    "    return (age, sum_social_contacts)\n",
    "\n",
    "# Emulating MapReduce\n",
    "def emulate_map_reduce(users: List[User]) -> List[Tuple[str, int]]:\n",
    "    mapped = [map_function(user) for user in users]\n",
    "    \n",
    "    intermediate = defaultdict(list)\n",
    "    for age, social_contacts in mapped:\n",
    "        intermediate[age].append(social_contacts)\n",
    "    \n",
    "    reduced = [reduce_function(age, contacts) for age, contacts in intermediate.items()]\n",
    "    \n",
    "    return reduced\n",
    "\n",
    "\n",
    "output = emulate_map_reduce(input_collection)\n",
    "output"
   ]
  },
  {
   "cell_type": "markdown",
   "metadata": {
    "id": "03IffTEOJgOb"
   },
   "source": [
    "# "
   ]
  },
  {
   "cell_type": "markdown",
   "metadata": {
    "id": "IIrRgvG4RIS4"
   },
   "source": [
    "### Matrix-Vector multiplication\n",
    "\n",
    "Случай, когда вектор не помещается в памяти Map задачи\n"
   ]
  },
  {
   "cell_type": "code",
   "execution_count": 33,
   "metadata": {
    "id": "KQhDbiL3zS9r"
   },
   "outputs": [
    {
     "data": {
      "text/plain": [
       "[(0, 1.691297266762131),\n",
       " (1, 1.691297266762131),\n",
       " (2, 1.691297266762131),\n",
       " (3, 1.691297266762131),\n",
       " (4, 1.691297266762131)]"
      ]
     },
     "execution_count": 33,
     "metadata": {},
     "output_type": "execute_result"
    }
   ],
   "source": [
    "import numpy as np\n",
    "from collections import defaultdict\n",
    "\n",
    "mat = np.ones((5, 4))\n",
    "vec = np.random.rand(4)\n",
    "\n",
    "\n",
    "vec_parts = {j: vec[j] for j in range(len(vec))}\n",
    "\n",
    "def map_emulate(coordinates, value):\n",
    "    i, j = coordinates\n",
    "    # Доступ к соответствующей части вектора\n",
    "    yield (i, value * vec_parts[j])\n",
    "\n",
    "def reduce_emulate(i, products):\n",
    "    sum_result = sum(products)\n",
    "    yield (i, sum_result)\n",
    "\n",
    "def record_reader_emulate():\n",
    "    for i in range(mat.shape[0]):\n",
    "        for j in range(mat.shape[1]):\n",
    "            yield ((i, j), mat[i, j])\n",
    "\n",
    "\n",
    "def emulate_map_reduce():\n",
    "    map_results = defaultdict(list)\n",
    "    \n",
    "\n",
    "    for coordinates, value in record_reader_emulate():\n",
    "        for result in map_emulate(coordinates, value):\n",
    "            map_results[result[0]].append(result[1])\n",
    "    \n",
    "\n",
    "    reduce_results = []\n",
    "    for i, products in map_results.items():\n",
    "        for result in reduce_emulate(i, products):\n",
    "            reduce_results.append(result)\n",
    "    \n",
    "    return reduce_results\n",
    "\n",
    "\n",
    "output = emulate_map_reduce()\n",
    "output"
   ]
  },
  {
   "cell_type": "markdown",
   "metadata": {
    "id": "GIo2t7nNxvA9"
   },
   "source": [
    "## Matrix multiplication (Перемножение матриц)\n",
    "\n",
    "Если у нас есть матрица $M$ с элементами $m_{ij}$ в строке $i$ и столбце $j$, и матрица $N$ с элементами $n_{jk}$ в строке $j$ и столбце $k$, тогда их произведение $P = MN$ есть матрица $P$ с элементами $p_{ik}$ в строке $i$ и столбце $k$, где\n",
    "\n",
    "$$p_{ik} =\\sum_{j} m_{ij}n_{jk}$$\n",
    "\n",
    "Необходимым требованием является одинаковое количество столбцов в $M$ и строк в $N$, чтобы операция суммирования по  $j$ была осмысленной. Мы можем размышлять о матрице, как об отношении с тремя атрибутами: номер строки, номер столбца, само значение. Таким образом матрица $M$ предстваляется как отношение $ M(I, J, V )$, с кортежами $(i, j, m_{ij})$, и, аналогично, матрица $N$ представляется как отношение $N(J, K, W)$, с кортежами $(j, k, n_{jk})$. Так как большие матрицы как правило разреженные (большинство значений равно 0), и так как мы можем нулевыми значениями пренебречь (не хранить), такое реляционное представление достаточно эффективно для больших матриц. Однако, возможно, что координаты $i$, $j$, и $k$ неявно закодированы в смещение позиции элемента относительно начала файла, вместо явного хранения. Тогда, функция Map (или Reader) должна быть разработана таким образом, чтобы реконструировать компоненты $I$, $J$, и $K$ кортежей из смещения.\n",
    "\n",
    "Произведение $MN$ это фактически join, за которым следуют группировка по ключу и аггрегация. Таким образом join отношений $M(I, J, V )$ и $N(J, K, W)$, имеющих общим только атрибут $J$, создаст кортежи $(i, j, k, v, w)$ из каждого кортежа $(i, j, v) \\in M$ и кортежа $(j, k, w) \\in N$. Такой 5 компонентный кортеж представляет пару элементов матрицы $(m_{ij} , n_{jk})$. Что нам хотелось бы получить на самом деле, это произведение этих элементов, то есть, 4 компонентный кортеж$(i, j, k, v \\times w)$, так как он представляет произведение $m_{ij}n_{jk}$. Мы представляем отношение как результат одной MapReduce операции, в которой мы можем произвести группировку и аггрегацию, с $I$ и $K$  атрибутами, по которым идёт группировка, и суммой  $V \\times W$. \n",
    "\n",
    "\n",
    "\n"
   ]
  },
  {
   "cell_type": "code",
   "execution_count": 34,
   "metadata": {
    "id": "1MBkGaLAYVCt"
   },
   "outputs": [],
   "source": [
    "# MapReduce model\n",
    "def flatten(nested_iterable):\n",
    "  for iterable in nested_iterable:\n",
    "    for element in iterable:\n",
    "      yield element\n",
    "\n",
    "def groupbykey(iterable):\n",
    "  t = {}\n",
    "  for (k2, v2) in iterable:\n",
    "    t[k2] = t.get(k2, []) + [v2]\n",
    "  return t.items()\n",
    "\n",
    "def MapReduce(RECORDREADER, MAP, REDUCE):\n",
    "  return flatten(map(lambda x: REDUCE(*x), groupbykey(flatten(map(lambda x: MAP(*x), RECORDREADER())))))"
   ]
  },
  {
   "cell_type": "markdown",
   "metadata": {
    "id": "sMspsOT0ZB35"
   },
   "source": [
    "Реализуйте перемножение матриц с использованием модельного кода MapReduce для одной машины в случае, когда одна матрица хранится в памяти, а другая генерируется RECORDREADER-ом."
   ]
  },
  {
   "cell_type": "code",
   "execution_count": 35,
   "metadata": {
    "id": "psP1XekbsEjS"
   },
   "outputs": [],
   "source": [
    "import numpy as np\n",
    "I = 2\n",
    "J = 3\n",
    "K = 4*10\n",
    "small_mat = np.random.rand(I,J) # it is legal to access this from RECORDREADER, MAP, REDUCE\n",
    "big_mat = np.random.rand(J,K)\n",
    "\n",
    "def RECORDREADER():\n",
    "  for j in range(big_mat.shape[0]):\n",
    "    for k in range(big_mat.shape[1]):\n",
    "      yield ((j,k), big_mat[j,k])\n",
    "      \n",
    "def MAP(k1, v1):\n",
    "  (j, k) = k1\n",
    "  w = v1\n",
    "  # solution code that yield(k2,v2) pairs\n",
    "  for i in range(small_mat.shape[0]):\n",
    "    yield ((i, k), small_mat[i, j] * w)\n",
    "  \n",
    "def REDUCE(key, values):\n",
    "  (i, k) = key\n",
    "  # solution code that yield(k3,v3) pairs\n",
    "  yield (key, sum(values))"
   ]
  },
  {
   "cell_type": "markdown",
   "metadata": {
    "id": "rnt306LHhHrm"
   },
   "source": [
    "Проверьте своё решение"
   ]
  },
  {
   "cell_type": "code",
   "execution_count": 36,
   "metadata": {
    "colab": {
     "base_uri": "https://localhost:8080/",
     "height": 34
    },
    "id": "Ewy_ZNYqW5a2",
    "outputId": "9ce264f2-9412-44e2-9b0a-cc780573ab3a"
   },
   "outputs": [
    {
     "data": {
      "text/plain": [
       "True"
      ]
     },
     "execution_count": 36,
     "metadata": {},
     "output_type": "execute_result"
    }
   ],
   "source": [
    "# CHECK THE SOLUTION\n",
    "reference_solution = np.matmul(small_mat, big_mat) \n",
    "solution = MapReduce(RECORDREADER, MAP, REDUCE)\n",
    "\n",
    "def asmatrix(reduce_output):\n",
    "  reduce_output = list(reduce_output)\n",
    "  I = max(i for ((i,k), vw) in reduce_output)+1\n",
    "  K = max(k for ((i,k), vw) in reduce_output)+1\n",
    "  mat = np.empty(shape=(I,K))\n",
    "  for ((i,k), vw) in reduce_output:\n",
    "    mat[i,k] = vw\n",
    "  return mat\n",
    "\n",
    "np.allclose(reference_solution, asmatrix(solution)) # should return true"
   ]
  },
  {
   "cell_type": "code",
   "execution_count": 37,
   "metadata": {
    "colab": {
     "base_uri": "https://localhost:8080/",
     "height": 34
    },
    "id": "TK7v4CEcfxqf",
    "outputId": "2c865d0a-4065-4e6b-c83f-5508ed5eb4fa"
   },
   "outputs": [
    {
     "data": {
      "text/plain": [
       "1"
      ]
     },
     "execution_count": 37,
     "metadata": {},
     "output_type": "execute_result"
    }
   ],
   "source": [
    "reduce_output = list(MapReduce(RECORDREADER, MAP, REDUCE))\n",
    "max(i for ((i,k), vw) in reduce_output)"
   ]
  },
  {
   "cell_type": "markdown",
   "metadata": {
    "id": "i4yyg3kOZqJJ"
   },
   "source": [
    "Реализуйте перемножение матриц  с использованием модельного кода MapReduce для одной машины в случае, когда обе матрицы генерируются в RECORDREADER. Например, сначала одна, а потом другая."
   ]
  },
  {
   "cell_type": "code",
   "execution_count": 38,
   "metadata": {
    "id": "3B7rIAJCaHZq"
   },
   "outputs": [
    {
     "data": {
      "text/plain": [
       "True"
      ]
     },
     "execution_count": 38,
     "metadata": {},
     "output_type": "execute_result"
    }
   ],
   "source": [
    "import numpy as np\n",
    "\n",
    "# Инициализация размеров матриц\n",
    "I, J, K = 2, 3, 40\n",
    "# Инициализация матриц\n",
    "small_mat = np.random.rand(I, J)\n",
    "big_mat = np.random.rand(J, K)\n",
    "\n",
    "def RECORDREADER():\n",
    "    for i in range(I):\n",
    "        for j in range(J):\n",
    "            yield (('small', i, j), small_mat[i, j])\n",
    "    for j in range(J):\n",
    "        for k in range(K):\n",
    "            yield (('big', j, k), big_mat[j, k])\n",
    "\n",
    "def MAP(k1, v1):\n",
    "    matrix_type, i_or_j, j_or_k = k1\n",
    "    if matrix_type == 'small':\n",
    "        for k in range(K):\n",
    "            yield ((i_or_j, k), ('A', j_or_k, v1))\n",
    "    else:\n",
    "        for i in range(I):\n",
    "            yield ((i, j_or_k), ('B', i_or_j, v1))\n",
    "\n",
    "def REDUCE(key, values):\n",
    "    sum_product = 0\n",
    "    values_A = [v for v in values if v[0] == 'A']\n",
    "    values_B = [v for v in values if v[0] == 'B']\n",
    "    for a in values_A:\n",
    "        for b in values_B:\n",
    "            if a[1] == b[1]:\n",
    "                sum_product += a[2] * b[2]\n",
    "    yield (key, sum_product)\n",
    "\n",
    "def flatten(nested_iterable):\n",
    "    for iterable in nested_iterable:\n",
    "        for element in iterable:\n",
    "            yield element\n",
    "\n",
    "def groupbykey(iterable):\n",
    "    t = {}\n",
    "    for (k2, v2) in iterable:\n",
    "        if k2 in t:\n",
    "            t[k2].append(v2)\n",
    "        else:\n",
    "            t[k2] = [v2]\n",
    "    return t.items()\n",
    "\n",
    "def MapReduce(RECORDREADER, MAP, REDUCE):\n",
    "    mapper_output = flatten([MAP(k1, v1) for k1, v1 in RECORDREADER()])\n",
    "    grouped_items = groupbykey(mapper_output)\n",
    "    reducer_output = flatten([REDUCE(key, values) for key, values in grouped_items])\n",
    "    return reducer_output\n",
    "\n",
    "reference_solution = np.matmul(small_mat, big_mat) \n",
    "solution = MapReduce(RECORDREADER, MAP, REDUCE)\n",
    "\n",
    "\n",
    "def asmatrix(reduce_output):\n",
    "  reduce_output = list(reduce_output)\n",
    "  I = max(i for ((i,k), vw) in reduce_output)+1\n",
    "  K = max(k for ((i,k), vw) in reduce_output)+1\n",
    "  mat = np.empty(shape=(I,K))\n",
    "  for ((i,k), vw) in reduce_output:\n",
    "    mat[i,k] = vw\n",
    "  return mat\n",
    "\n",
    "np.allclose(reference_solution, asmatrix(solution)) # should return true\n"
   ]
  },
  {
   "cell_type": "markdown",
   "metadata": {
    "id": "mXyzQi1DaIwo"
   },
   "source": [
    "Реализуйте перемножение матриц с использованием модельного кода MapReduce Distributed, когда каждая матрица генерируется в своём RECORDREADER. "
   ]
  },
  {
   "cell_type": "code",
   "execution_count": 39,
   "metadata": {
    "id": "TDM_s78Rb5eR"
   },
   "outputs": [
    {
     "data": {
      "text/plain": [
       "True"
      ]
     },
     "execution_count": 39,
     "metadata": {},
     "output_type": "execute_result"
    }
   ],
   "source": [
    "import itertools\n",
    "import numpy as np\n",
    "I = 2\n",
    "J = 3\n",
    "K = 40\n",
    "first_mat = np.random.rand(I,J)\n",
    "second_mat = np.random.rand(J,K)\n",
    "reference_solution = np.matmul(first_mat, second_mat)\n",
    "\n",
    "def INPUTFORMAT1():\n",
    "    matrix1 = [((0, i, j), value) for (i, j), value in np.ndenumerate(first_mat)]\n",
    "    yield matrix1\n",
    "\n",
    "    matrix2 = [((1, j, k), value) for (j, k), value in np.ndenumerate(second_mat)]\n",
    "    yield matrix2\n",
    "\n",
    "\n",
    "def MAP1(k1, v1):\n",
    "    mat_id, i, j = k1\n",
    "    w = v1\n",
    "    index = j if mat_id == 0 else i\n",
    "    mat_idx = (mat_id, i, w) if mat_id == 0 else (mat_id, j, w)\n",
    "    yield (index, mat_idx)\n",
    "\n",
    "\n",
    "def REDUCE1(key, values):\n",
    "    first_matr = [v for v in values if v[0] == 0]\n",
    "    second_matr = [v for v in values if v[0] == 1]\n",
    "\n",
    "    for f, s in itertools.product(first_matr, second_matr):\n",
    "        yield ((f[1], s[1]), f[2] * s[2])\n",
    "\n",
    "\n",
    "def INPUTFORMAT2():\n",
    "  for j in for_inp:\n",
    "    yield j[1]\n",
    "\n",
    "\n",
    "def MAP2(k1, v1):\n",
    "  yield (k1, v1)\n",
    "\n",
    "\n",
    "def REDUCE2(key, value_list):\n",
    "  total_value = sum(value_list)\n",
    "  yield (key, total_value)\n",
    "\n",
    "\n",
    "mr1 = MapReduceDistributed(INPUTFORMAT1, MAP1, REDUCE1, COMBINER=None)\n",
    "for_inp = [(partition_id, list(partition)) for (partition_id, partition) in mr1]\n",
    "\n",
    "\n",
    "mr2 = MapReduceDistributed(INPUTFORMAT2, MAP2, REDUCE2, COMBINER=None)\n",
    "res = [(partition_id, list(partition)) for (partition_id, partition) in mr2]\n",
    "\n",
    "result = [v for r in res for v in r[1]]\n",
    "\n",
    "\n",
    "np.allclose(reference_solution, asmatrix(result)) # should return true"
   ]
  },
  {
   "cell_type": "markdown",
   "metadata": {
    "id": "ZuSA2P9Db6UM"
   },
   "source": [
    "Обобщите предыдущее решение на случай, когда каждая матрица генерируется несколькими RECORDREADER-ами, и проверьте его работоспособность. Будет ли работать решение, если RECORDREADER-ы будут генерировать случайное подмножество элементов матрицы?"
   ]
  },
  {
   "cell_type": "code",
   "execution_count": 40,
   "metadata": {
    "id": "ehN0FqRDcwU5"
   },
   "outputs": [
    {
     "data": {
      "text/plain": [
       "True"
      ]
     },
     "execution_count": 40,
     "metadata": {},
     "output_type": "execute_result"
    }
   ],
   "source": [
    "import itertools\n",
    "import numpy as np\n",
    "I = 2\n",
    "J = 3\n",
    "K = 40\n",
    "first_mat = np.random.rand(I,J)\n",
    "second_mat = np.random.rand(J,K)\n",
    "reference_solution = np.matmul(first_mat, second_mat)\n",
    "maps = 4\n",
    "def INPUTFORMAT1():\n",
    "  for mat_num, matrix in enumerate([first_mat, second_mat]):\n",
    "    mat = [((mat_num, i, j), matrix[i, j]) for i, j in np.ndindex(matrix.shape)]\n",
    "    split_size = int(np.ceil(len(mat) / maps))\n",
    "    yield from (mat[i:i + split_size] for i in range(0, len(mat), split_size))\n",
    "\n",
    "\n",
    "def MAP1(k1, v1):\n",
    "    mat_id, i, j = k1\n",
    "    w = v1\n",
    "    index = j if mat_id == 0 else i\n",
    "    mat_idx = (mat_id, i, w) if mat_id == 0 else (mat_id, j, w)\n",
    "    yield (index, mat_idx)\n",
    "\n",
    "\n",
    "def REDUCE1(key, values):\n",
    "    first_matr = [v for v in values if v[0] == 0]\n",
    "    second_matr = [v for v in values if v[0] == 1]\n",
    "\n",
    "    for f, s in itertools.product(first_matr, second_matr):\n",
    "        yield ((f[1], s[1]), f[2] * s[2])\n",
    "\n",
    "\n",
    "def INPUTFORMAT2():\n",
    "  for j in for_inp:\n",
    "    yield j[1]\n",
    "\n",
    "\n",
    "def MAP2(k1, v1):\n",
    "  yield (k1, v1)\n",
    "\n",
    "\n",
    "def REDUCE2(key, value_list):\n",
    "  total_value = sum(value_list)\n",
    "  yield (key, total_value)\n",
    "\n",
    "\n",
    "mr1 = MapReduceDistributed(INPUTFORMAT1, MAP1, REDUCE1, COMBINER=None)\n",
    "for_inp = [(partition_id, list(partition)) for (partition_id, partition) in mr1]\n",
    "\n",
    "\n",
    "mr2 = MapReduceDistributed(INPUTFORMAT2, MAP2, REDUCE2, COMBINER=None)\n",
    "res = [(partition_id, list(partition)) for (partition_id, partition) in mr2]\n",
    "\n",
    "result = [v for r in res for v in r[1]]\n",
    "\n",
    "\n",
    "np.allclose(reference_solution, asmatrix(result)) # should return true"
   ]
  },
  {
   "cell_type": "code",
   "execution_count": null,
   "metadata": {},
   "outputs": [],
   "source": []
  }
 ],
 "metadata": {
  "colab": {
   "provenance": []
  },
  "kernelspec": {
   "display_name": "Python 3 (ipykernel)",
   "language": "python",
   "name": "python3"
  },
  "language_info": {
   "codemirror_mode": {
    "name": "ipython",
    "version": 3
   },
   "file_extension": ".py",
   "mimetype": "text/x-python",
   "name": "python",
   "nbconvert_exporter": "python",
   "pygments_lexer": "ipython3",
   "version": "3.11.5"
  }
 },
 "nbformat": 4,
 "nbformat_minor": 4
}
