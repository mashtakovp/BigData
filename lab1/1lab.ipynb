{
 "cells": [
  {
   "cell_type": "code",
   "execution_count": 34,
   "id": "f04ff44a-2af0-4f30-8975-48e854263934",
   "metadata": {},
   "outputs": [
    {
     "name": "stdout",
     "output_type": "stream",
     "text": [
      "Defaulting to user installation because normal site-packages is not writeable\n",
      "Requirement already satisfied: pyspark==3.0.0 in ./.local/lib/python3.10/site-packages (3.0.0)\n",
      "Requirement already satisfied: py4j==0.10.9 in ./.local/lib/python3.10/site-packages (from pyspark==3.0.0) (0.10.9)\n"
     ]
    }
   ],
   "source": [
    "!pip3 install pyspark==3.0.0\n",
    "import warnings\n",
    "warnings.filterwarnings('ignore')\n"
   ]
  },
  {
   "cell_type": "code",
   "execution_count": 35,
   "id": "e57d8792-d455-4f4e-bd72-81807a7ecc12",
   "metadata": {},
   "outputs": [],
   "source": [
    "import os\n",
    "import sys\n",
    "from pyspark.sql import SparkSession\n",
    "from typing import NamedTuple\n",
    "from datetime import datetime\n",
    "from functools import reduce\n",
    "\n",
    "os.environ['PYSPARK_PYTHON'] = sys.executable\n",
    "os.environ['PYSPARK_DRIVER_PYTHON'] = sys.executable\n",
    "spark = SparkSession.builder.getOrCreate()"
   ]
  },
  {
   "cell_type": "code",
   "execution_count": 36,
   "id": "9d5e4a10-bee6-4300-a9db-8cb4892c4e9b",
   "metadata": {},
   "outputs": [
    {
     "data": {
      "text/html": [
       "\n",
       "        <div>\n",
       "            <p><b>SparkContext</b></p>\n",
       "\n",
       "            <p><a href=\"http://192.168.70.130:4040\">Spark UI</a></p>\n",
       "\n",
       "            <dl>\n",
       "              <dt>Version</dt>\n",
       "                <dd><code>v3.0.0</code></dd>\n",
       "              <dt>Master</dt>\n",
       "                <dd><code>local[1]</code></dd>\n",
       "              <dt>AppName</dt>\n",
       "                <dd><code>Lab1</code></dd>\n",
       "            </dl>\n",
       "        </div>\n",
       "        "
      ],
      "text/plain": [
       "<SparkContext master=local[1] appName=Lab1>"
      ]
     },
     "execution_count": 36,
     "metadata": {},
     "output_type": "execute_result"
    }
   ],
   "source": [
    "from pyspark import SparkContext, SparkConf\n",
    "app_name = \"Lab1\"\n",
    "spark.stop()\n",
    "conf = SparkConf().setAppName(app_name).setMaster('local[1]')\n",
    "\n",
    "sc = SparkContext(conf=conf)\n",
    "sc"
   ]
  },
  {
   "cell_type": "code",
   "execution_count": null,
   "id": "991ccdfa-e552-4a58-a6be-a75ce6e9cf69",
   "metadata": {},
   "outputs": [],
   "source": []
  },
  {
   "cell_type": "code",
   "execution_count": 37,
   "id": "65dc31a6-6fa8-48ad-9ba6-a485493a4b97",
   "metadata": {},
   "outputs": [
    {
     "name": "stdout",
     "output_type": "stream",
     "text": [
      "Defaulting to user installation because normal site-packages is not writeable\n",
      "Requirement already satisfied: numpy in ./.local/lib/python3.10/site-packages (1.26.4)\n"
     ]
    }
   ],
   "source": [
    "!pip3 install numpy"
   ]
  },
  {
   "cell_type": "code",
   "execution_count": 38,
   "id": "c9c1b27b-a08e-45e6-8e2f-5bbf44ac26f4",
   "metadata": {},
   "outputs": [],
   "source": [
    "from pyspark import SparkContext, SparkConf\n",
    "from typing import NamedTuple\n",
    "from datetime import datetime\n",
    "import numpy as np"
   ]
  },
  {
   "cell_type": "code",
   "execution_count": 39,
   "id": "ed0aa87a-69ae-418c-aacc-4d03268a7678",
   "metadata": {},
   "outputs": [],
   "source": [
    "def initStation(stations):\n",
    "    class Station(NamedTuple):\n",
    "        station_id: int\n",
    "        name: str\n",
    "        lat: float\n",
    "        long: float\n",
    "        dockcount: int\n",
    "        landmark: str\n",
    "        installation: str\n",
    "    \n",
    "    for station in stations:\n",
    "        yield Station(\n",
    "            station_id = int(station[0]),\n",
    "            name = station[1],\n",
    "            lat = float(station[2]),\n",
    "            long = float(station[3]),\n",
    "            dockcount = int(station[4]),\n",
    "            landmark = station[5],\n",
    "            installation = datetime.strptime(station[6], '%m/%d/%Y')\n",
    "        )\n",
    "        \n",
    "def initTrip(trips):\n",
    "    class Trip(NamedTuple):\n",
    "        trip_id: int\n",
    "        duration: int\n",
    "        start_date: datetime\n",
    "        start_station_name: str\n",
    "        start_station_id: int\n",
    "        end_date: datetime\n",
    "        end_station_name: str\n",
    "        end_station_id: int\n",
    "        bike_id: int\n",
    "        subscription_type: str\n",
    "        zip_code: str\n",
    "        \n",
    "    for trip in trips:\n",
    "        yield Trip(                             \n",
    "             trip_id = int(trip[0]),\n",
    "             duration = int(trip[1]),\n",
    "             start_date = datetime.strptime(trip[2], '%m/%d/%Y %H:%M'),\n",
    "             start_station_name = trip[3],\n",
    "             start_station_id = int(trip[4]),\n",
    "             end_date = datetime.strptime(trip[5], '%m/%d/%Y %H:%M'),\n",
    "             end_station_name = trip[6],\n",
    "             end_station_id = trip[7],\n",
    "             bike_id = int(trip[8]),\n",
    "             subscription_type = trip[9],\n",
    "             zip_code = trip[10]\n",
    "        )"
   ]
  },
  {
   "cell_type": "code",
   "execution_count": 40,
   "id": "41ab80da-dacb-45ed-a293-1a30e45ade6b",
   "metadata": {},
   "outputs": [
    {
     "name": "stderr",
     "output_type": "stream",
     "text": [
      "                                                                                \r"
     ]
    }
   ],
   "source": [
    "trip_data = sc.textFile(\"trip.csv\")\n",
    "station_data = sc.textFile(\"station.csv\")\n",
    "trip_headers = trip_data.first()"
   ]
  },
  {
   "cell_type": "code",
   "execution_count": 41,
   "id": "d987d249-7749-4d48-bba3-4ac2d7ffda46",
   "metadata": {},
   "outputs": [],
   "source": [
    "station_headers = station_data.first()"
   ]
  },
  {
   "cell_type": "code",
   "execution_count": 42,
   "id": "fb5e224f-4db8-4988-94b7-5dd18c804b5d",
   "metadata": {},
   "outputs": [
    {
     "name": "stdout",
     "output_type": "stream",
     "text": [
      "[['4576', '63', '8/29/2013 14:13', 'South Van Ness at Market', '66', '8/29/2013 14:14', 'South Van Ness at Market', '66', '520', 'Subscriber', '94127'], ['4607', '70', '8/29/2013 14:42', 'San Jose City Hall', '10', '8/29/2013 14:43', 'San Jose City Hall', '10', '661', 'Subscriber', '95138'], ['4130', '71', '8/29/2013 10:16', 'Mountain View City Hall', '27', '8/29/2013 10:17', 'Mountain View City Hall', '27', '48', 'Subscriber', '97214'], ['4251', '77', '8/29/2013 11:29', 'San Jose City Hall', '10', '8/29/2013 11:30', 'San Jose City Hall', '10', '26', 'Subscriber', '95060'], ['4299', '83', '8/29/2013 12:02', 'South Van Ness at Market', '66', '8/29/2013 12:04', 'Market at 10th', '67', '319', 'Subscriber', '94103'], ['4927', '103', '8/29/2013 18:54', 'Golden Gate at Polk', '59', '8/29/2013 18:56', 'Golden Gate at Polk', '59', '527', 'Subscriber', '94109'], ['4500', '109', '8/29/2013 13:25', 'Santa Clara at Almaden', '4', '8/29/2013 13:27', 'Adobe on Almaden', '5', '679', 'Subscriber', '95112']] \n",
      "\n",
      "[['2', 'San Jose Diridon Caltrain Station', '37.329732', '-121.90178200000001', '27', 'San Jose', '8/6/2013'], ['3', 'San Jose Civic Center', '37.330698', '-121.888979', '15', 'San Jose', '8/5/2013'], ['4', 'Santa Clara at Almaden', '37.333988', '-121.894902', '11', 'San Jose', '8/6/2013'], ['5', 'Adobe on Almaden', '37.331415', '-121.8932', '19', 'San Jose', '8/5/2013'], ['6', 'San Pedro Square', '37.336721000000004', '-121.894074', '15', 'San Jose', '8/7/2013'], ['7', 'Paseo de San Antonio', '37.333798', '-121.88694299999999', '15', 'San Jose', '8/7/2013'], ['8', 'San Salvador at 1st', '37.330165', '-121.88583100000001', '15', 'San Jose', '8/5/2013']]\n"
     ]
    }
   ],
   "source": [
    "trips = trip_data.filter(lambda row: row != trip_headers).map(lambda row: row.split(\",\"))\n",
    "stations = station_data.filter(lambda row: row != station_headers).map(lambda row: row.split(\",\"))\n",
    "print(trips.take(7), '\\n')\n",
    "print(stations.take(7))"
   ]
  },
  {
   "cell_type": "code",
   "execution_count": 43,
   "id": "f7347d06-fc6d-455c-8b99-64c74a00e7e7",
   "metadata": {},
   "outputs": [],
   "source": [
    "station_map = stations.mapPartitions(initStation)\n",
    "trip_map= trips.mapPartitions(initTrip)"
   ]
  },
  {
   "cell_type": "code",
   "execution_count": 44,
   "id": "1f4f58fe-3f46-41a4-870a-5ca8ec0a770d",
   "metadata": {},
   "outputs": [
    {
     "data": {
      "text/plain": [
       "Station(station_id=2, name='San Jose Diridon Caltrain Station', lat=37.329732, long=-121.90178200000001, dockcount=27, landmark='San Jose', installation=datetime.datetime(2013, 8, 6, 0, 0))"
      ]
     },
     "execution_count": 44,
     "metadata": {},
     "output_type": "execute_result"
    }
   ],
   "source": [
    "station_map.first()"
   ]
  },
  {
   "cell_type": "code",
   "execution_count": 45,
   "id": "93456d11-98bf-4beb-a80b-dae06f73d1e2",
   "metadata": {},
   "outputs": [
    {
     "data": {
      "text/plain": [
       "Trip(trip_id=4576, duration=63, start_date=datetime.datetime(2013, 8, 29, 14, 13), start_station_name='South Van Ness at Market', start_station_id=66, end_date=datetime.datetime(2013, 8, 29, 14, 14), end_station_name='South Van Ness at Market', end_station_id='66', bike_id=520, subscription_type='Subscriber', zip_code='94127')"
      ]
     },
     "execution_count": 45,
     "metadata": {},
     "output_type": "execute_result"
    }
   ],
   "source": [
    "trip_map.first()"
   ]
  },
  {
   "cell_type": "markdown",
   "id": "2f53f60a-eb39-4506-b314-4938589d30bb",
   "metadata": {},
   "source": [
    "Найти велосипед с максимальным временем пробега:"
   ]
  },
  {
   "cell_type": "code",
   "execution_count": 46,
   "id": "5696cb0f-85e7-47f4-a64d-1b7f3f6c4547",
   "metadata": {},
   "outputs": [
    {
     "name": "stderr",
     "output_type": "stream",
     "text": [
      "                                                                                \r"
     ]
    },
    {
     "name": "stdout",
     "output_type": "stream",
     "text": [
      "535\n"
     ]
    }
   ],
   "source": [
    "bike_duration = trip_map.map(lambda x: (x.bike_id, x.duration)).reduceByKey(lambda x, y: x + y)\n",
    "bike_duration_top = bike_duration.sortBy(lambda x: -x[1]).first()[0]\n",
    "\n",
    "print(bike_duration_top)"
   ]
  },
  {
   "cell_type": "markdown",
   "id": "7885704b-7c9d-49d5-84f4-76343f42dae9",
   "metadata": {},
   "source": [
    "Найти наибольшее геодезическое расстояние между станциями:\n"
   ]
  },
  {
   "cell_type": "code",
   "execution_count": 47,
   "id": "fc47660e-70aa-4324-8ade-081ccf2c7f23",
   "metadata": {},
   "outputs": [
    {
     "name": "stderr",
     "output_type": "stream",
     "text": [
      "                                                                                \r"
     ]
    },
    {
     "name": "stdout",
     "output_type": "stream",
     "text": [
      "(26, '16') 229914.0\n",
      "(32, '63') 179212.5\n",
      "(80, '36') 169308.0\n",
      "(66, '62') 156461.03603603604\n",
      "(28, '2') 101207.5\n"
     ]
    }
   ],
   "source": [
    "trips_stations = trip_map.filter(lambda trip: trip.start_station_id != trip.end_station_id)\n",
    "\n",
    "\n",
    "trips_grouped = trips_stations.map(lambda trip: ((trip.start_station_id, trip.end_station_id), (trip.duration, 1)))\\\n",
    "    .reduceByKey(lambda acc, value: (acc[0] + value[0], acc[1] + value[1]))\\\n",
    "    .mapValues(lambda values: values[0] / values[1])\n",
    "\n",
    "\n",
    "top_5_trips = trips_grouped.map(lambda x: (x[1], x[0]))\\\n",
    "    .sortByKey(False)\\\n",
    "    .take(5)\n",
    "\n",
    "\n",
    "for trip in top_5_trips:\n",
    "    print(trip[1], trip[0])"
   ]
  },
  {
   "cell_type": "markdown",
   "id": "3629880e-a8e5-407f-9bfb-b062e8540f7b",
   "metadata": {},
   "source": [
    "Найти путь велосипеда с максимальным временем пробега через станции:"
   ]
  },
  {
   "cell_type": "code",
   "execution_count": 48,
   "id": "2745ecc7-7e7c-489f-9d7e-51695522902e",
   "metadata": {},
   "outputs": [
    {
     "name": "stderr",
     "output_type": "stream",
     "text": [
      "                                                                                \r"
     ]
    },
    {
     "data": {
      "text/plain": [
       "('Post at Kearney', 'San Francisco Caltrain (Townsend at 4th)')"
      ]
     },
     "execution_count": 48,
     "metadata": {},
     "output_type": "execute_result"
    }
   ],
   "source": [
    "bike_path = trip_map.filter(lambda x: x.bike_id == bike_duration_top).sortBy(lambda x: x.start_date, ascending=True).map(lambda x: (x.start_station_name, x.end_station_name))\n",
    "bike_path.first()"
   ]
  },
  {
   "cell_type": "markdown",
   "id": "56c68c2b-504a-4d05-91fd-3c62612d5e77",
   "metadata": {},
   "source": [
    "Найти количество велосипедов в системе"
   ]
  },
  {
   "cell_type": "code",
   "execution_count": 49,
   "id": "c1f30b03-12ba-49fc-9d1e-3b962f6fdc54",
   "metadata": {},
   "outputs": [
    {
     "name": "stderr",
     "output_type": "stream",
     "text": [
      "[Stage 24:======================================>                   (2 + 1) / 3]\r"
     ]
    },
    {
     "name": "stdout",
     "output_type": "stream",
     "text": [
      "700\n"
     ]
    },
    {
     "name": "stderr",
     "output_type": "stream",
     "text": [
      "                                                                                \r"
     ]
    }
   ],
   "source": [
    "count_of_bikes = trip_map.map(lambda x: x.bike_id).distinct().count()\n",
    "print(count_of_bikes)"
   ]
  },
  {
   "cell_type": "markdown",
   "id": "c2dba9e2-1cdf-450d-8c27-fd5c3bde790b",
   "metadata": {},
   "source": [
    "Найти пользователей потративших на поездки более 3 часов"
   ]
  },
  {
   "cell_type": "code",
   "execution_count": 50,
   "id": "86f8a22d-3412-4925-ad78-cb1101ec1e2a",
   "metadata": {},
   "outputs": [
    {
     "name": "stderr",
     "output_type": "stream",
     "text": [
      "                                                                                \r"
     ]
    },
    {
     "data": {
      "text/plain": [
       "['58553', '94301', '94039', '94133', '93726']"
      ]
     },
     "execution_count": 50,
     "metadata": {},
     "output_type": "execute_result"
    }
   ],
   "source": [
    "users = trip_map.filter(lambda x: x.duration > (3 * 3600)).map(lambda x: x.zip_code).filter(lambda x: x != \"\").distinct()\n",
    "users.take(5)\n"
   ]
  },
  {
   "cell_type": "code",
   "execution_count": null,
   "id": "776ec439-c247-4352-abb0-117d49e43f1c",
   "metadata": {},
   "outputs": [],
   "source": []
  }
 ],
 "metadata": {
  "kernelspec": {
   "display_name": "Python 3 (ipykernel)",
   "language": "python",
   "name": "python3"
  },
  "language_info": {
   "codemirror_mode": {
    "name": "ipython",
    "version": 3
   },
   "file_extension": ".py",
   "mimetype": "text/x-python",
   "name": "python",
   "nbconvert_exporter": "python",
   "pygments_lexer": "ipython3",
   "version": "3.10.12"
  }
 },
 "nbformat": 4,
 "nbformat_minor": 5
}
